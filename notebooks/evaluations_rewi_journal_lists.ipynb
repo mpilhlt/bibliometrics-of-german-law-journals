{
 "cells": [
  {
   "cell_type": "markdown",
   "metadata": {},
   "source": [
    "# Journal lists for the field of german law"
   ]
  },
  {
   "cell_type": "markdown",
   "metadata": {},
   "source": [
    "# Table of content\n",
    "* [Configure Notebook](#configure)\n",
    "* [Intro](#Intro)\n",
    "    * [General](#General)\n",
    "    * [Specifications](#Specifications)\n",
    "* [Journal list from different data sources](#Journal-list-from-different-data-sources)\n",
    "    * [WoS](#list-wos)\n",
    "    * [Scopus](#list-scopus)\n",
    "    * [OpenAlex](#list-openalex)\n",
    "* [Coverage of the gold standard list in different data sources](#coverage)\n",
    "    * [Preparations](#coverage-preparations)\n",
    "    * [Coverage](#coverage-head)\n",
    "        * [Web of Science](#coverage-wos)\n",
    "        * [Scopus](#coverage-scp)\n",
    "        * [OpenAlex](#coverage-openalex)\n",
    "        * [CrossRef](#coverage-crossref)\n",
    "    * [Coverage results](#coverage-results)\n",
    "    "
   ]
  },
  {
   "cell_type": "markdown",
   "metadata": {},
   "source": [
    "Install and load JupySQL (https://jupysql.ploomber.io)"
   ]
  },
  {
   "cell_type": "markdown",
   "metadata": {},
   "source": [
    "# <a id=\"configure\"></a>Configure Notebook"
   ]
  },
  {
   "cell_type": "code",
   "execution_count": 2,
   "metadata": {},
   "outputs": [
    {
     "name": "stdout",
     "output_type": "stream",
     "text": [
      "Note: you may need to restart the kernel to use updated packages.\n",
      "Requirement already satisfied: psycopg2-binary in /opt/conda/lib/python3.11/site-packages (2.9.10)\n",
      "Note: you may need to restart the kernel to use updated packages.\n"
     ]
    }
   ],
   "source": [
    "%pip install jupysql python-dotenv --quiet\n",
    "%load_ext sql\n",
    "%config SqlMagic.displaylimit = 20\n",
    "%load_ext autoreload\n",
    "%pip install psycopg2-binary"
   ]
  },
  {
   "cell_type": "markdown",
   "metadata": {},
   "source": [
    "Configure the sql adapter with your credentials. This requires an `.env` file having the following entries:\n",
    "```\n",
    "KB_HOST='<host name as as per KB instructions>'\n",
    "KB_DB='<database name as per KB instructions>'\n",
    "KB_PORT=<port as per KB instructions>\n",
    "KB_USER='<Your user name>'\n",
    "KB_PASS='<Your password>'\n",
    "```\n",
    "\n",
    "You also need to connect to the KB via VPN as per KB instructions."
   ]
  },
  {
   "cell_type": "code",
   "execution_count": 3,
   "metadata": {},
   "outputs": [],
   "source": [
    "from dotenv import load_dotenv\n",
    "from sqlalchemy import URL, create_engine\n",
    "import os\n",
    "load_dotenv('.env')\n",
    "url = URL.create(\n",
    "    \"postgresql\",\n",
    "    host=os.environ['KB_HOST'],\n",
    "    port=os.environ['KB_PORT'],\n",
    "    database=os.environ['KB_DB'],\n",
    "    username=os.environ['KB_USER'],\n",
    "    password=os.environ['KB_PASS']\n",
    ")\n",
    "engine = create_engine(url)\n",
    "%sql engine --alias kb_prod"
   ]
  },
  {
   "cell_type": "markdown",
   "metadata": {},
   "source": [
    "Now you can run sql queries directly in the python notebook."
   ]
  },
  {
   "cell_type": "markdown",
   "metadata": {},
   "source": [
    "# <a id=\"Intro\"></a>Intro\n",
    "\n",
    "## <a id=\"General\"></a>General\n",
    "\n",
    "This notebook is for creating lists of journals that are considered as 'german law' journals in different sources. \n",
    "Therefore we looked at attributes in the different sources that define\n",
    "* language = 'german'\n",
    "* field = 'law'\n",
    "The exact attributes and values concerning this content vary among the data sources. We used the sources\n",
    "* Web of Science (wos)\n",
    "* Scopus (scp)\n",
    "* OpenAlex (openalex)\n",
    "\n",
    "In a second step we used a given list (from an article Gröls/Gröls) with journals considered as relevant for the field of german law in the eyes of experts. We checked coverage of these journals in the data sources."
   ]
  },
  {
   "cell_type": "markdown",
   "metadata": {},
   "source": [
    "## <a id=\"Specifications\"></a>Specifications\n",
    "\n",
    "To run this, you have to specify the version you want to use from the different sources. \n",
    "The version parameter specifies a suffix that is appended to all result tables. For Web of Science (wos) and Scopus (scp) the KB (https://bibliometrie.info/) processes quarterly bibliometric databases in a specific schema. For OpenAlex, data is processed monthly. \n",
    "\n",
    "The parameters wos/scopus/openalex_bdb_schema have to be names of schemas in the PostgreSQL database following the KB data schema for bibliometric databases (see https://zenodo.org/records/13935407). The queries create tables in the given result schema. "
   ]
  },
  {
   "cell_type": "code",
   "execution_count": 4,
   "metadata": {},
   "outputs": [],
   "source": [
    "version_name = \"202408\"\n",
    "result_schema = \"project_rewi\"\n",
    "wos_bdb_schema = \"wos_b_202407\"\n",
    "scp_bdb_schema = \"scp_b_202407\"\n",
    "openalex_bdb_schema = \"fiz_openalex_bdb_20240831_openbib\"\n",
    "openalex_rep_schema = \"fiz_openalex_rep_20240831_openbib\"\n",
    "crossref_table = \"open_add_ons.cr_oct2023\""
   ]
  },
  {
   "cell_type": "markdown",
   "metadata": {},
   "source": [
    "# <a id=\"Journal-list-from-different-data-sources\"></a> Journal list from different data sources"
   ]
  },
  {
   "cell_type": "markdown",
   "metadata": {},
   "source": [
    "General Specifications: \n",
    "* all journals with at least one article with: class 'Law', source type journal, german language\n",
    "* from this result only the journals with at least 10 german law articles and at least 10% of all items german law article\n",
    "\n",
    "This specifications are set based on values given in the respective database."
   ]
  },
  {
   "cell_type": "markdown",
   "metadata": {},
   "source": [
    "## <a id=\"list-wos\"></a> WoS\n",
    "\n",
    "Specifications: \n",
    "* all journals with at least one item with: class_name = 'Law', source type = 'Journal', item type = 'Article', language = 'ger' --> {{result_schema}}.eva_wos_de_law_journals_trivial_search_{{version_name}}\n",
    "* from this result only the journals with at least 10 german law articles and at least 10% of all items german law article"
   ]
  },
  {
   "cell_type": "markdown",
   "metadata": {},
   "source": [
    "Check for the specifications (which are the appropiate values available for class_name):"
   ]
  },
  {
   "cell_type": "code",
   "execution_count": 4,
   "metadata": {},
   "outputs": [
    {
     "data": {
      "text/html": [
       "<span style=\"None\">Running query in &#x27;kb_prod&#x27;</span>"
      ],
      "text/plain": [
       "Running query in 'kb_prod'"
      ]
     },
     "metadata": {},
     "output_type": "display_data"
    },
    {
     "data": {
      "text/html": [
       "<span style=\"color: green\">1 rows affected.</span>"
      ],
      "text/plain": [
       "1 rows affected."
      ]
     },
     "metadata": {},
     "output_type": "display_data"
    },
    {
     "data": {
      "text/html": [
       "<table>\n",
       "    <thead>\n",
       "        <tr>\n",
       "            <th>class_system</th>\n",
       "            <th>scopus_class_code</th>\n",
       "            <th>class_name</th>\n",
       "        </tr>\n",
       "    </thead>\n",
       "    <tbody>\n",
       "        <tr>\n",
       "            <td>Subject Categories</td>\n",
       "            <td>None</td>\n",
       "            <td>Law</td>\n",
       "        </tr>\n",
       "    </tbody>\n",
       "</table>"
      ],
      "text/plain": [
       "+--------------------+-------------------+------------+\n",
       "|    class_system    | scopus_class_code | class_name |\n",
       "+--------------------+-------------------+------------+\n",
       "| Subject Categories |        None       |    Law     |\n",
       "+--------------------+-------------------+------------+"
      ]
     },
     "execution_count": 4,
     "metadata": {},
     "output_type": "execute_result"
    }
   ],
   "source": [
    "%%sql\n",
    "select * \n",
    "from {{wos_bdb_schema}}.classification_system \n",
    "where lower(class_name) like '%law%' or lower(class_name) like '%just%'"
   ]
  },
  {
   "cell_type": "markdown",
   "metadata": {},
   "source": [
    "Get all the 'law items': "
   ]
  },
  {
   "cell_type": "code",
   "execution_count": 5,
   "metadata": {},
   "outputs": [
    {
     "data": {
      "text/html": [
       "<span style=\"None\">Running query in &#x27;kb_prod&#x27;</span>"
      ],
      "text/plain": [
       "Running query in 'kb_prod'"
      ]
     },
     "metadata": {},
     "output_type": "display_data"
    },
    {
     "data": {
      "text/html": [
       "<span style=\"color: green\">158418 rows affected.</span>"
      ],
      "text/plain": [
       "158418 rows affected."
      ]
     },
     "metadata": {},
     "output_type": "display_data"
    },
    {
     "data": {
      "text/html": [
       "<table>\n",
       "    <thead>\n",
       "        <tr>\n",
       "        </tr>\n",
       "    </thead>\n",
       "    <tbody>\n",
       "    </tbody>\n",
       "</table>"
      ],
      "text/plain": [
       "++\n",
       "||\n",
       "++\n",
       "++"
      ]
     },
     "execution_count": 5,
     "metadata": {},
     "output_type": "execute_result"
    }
   ],
   "source": [
    "%%sql\n",
    "drop table if exists {{result_schema}}.tmp_wos_law_items_{{version_name}};\n",
    "create table {{result_schema}}.tmp_wos_law_items_{{version_name}} as (\n",
    "select item_id, doi, pubyear, lower(source_title) as source_title, publisher_hash, languages \n",
    "from {{wos_bdb_schema}}.items \n",
    "where 'Law' =any(class_name) and source_type='Journal' and 'Article' = any(item_type)\n",
    ");"
   ]
  },
  {
   "cell_type": "markdown",
   "metadata": {},
   "source": [
    "Which languages do the law items have? "
   ]
  },
  {
   "cell_type": "code",
   "execution_count": 6,
   "metadata": {},
   "outputs": [
    {
     "data": {
      "text/html": [
       "<span style=\"None\">Running query in &#x27;kb_prod&#x27;</span>"
      ],
      "text/plain": [
       "Running query in 'kb_prod'"
      ]
     },
     "metadata": {},
     "output_type": "display_data"
    },
    {
     "data": {
      "text/html": [
       "<span style=\"color: green\">18 rows affected.</span>"
      ],
      "text/plain": [
       "18 rows affected."
      ]
     },
     "metadata": {},
     "output_type": "display_data"
    },
    {
     "data": {
      "text/html": [
       "<table>\n",
       "    <thead>\n",
       "        <tr>\n",
       "            <th>languages</th>\n",
       "            <th>item_count</th>\n",
       "            <th>source_title_count</th>\n",
       "        </tr>\n",
       "    </thead>\n",
       "    <tbody>\n",
       "        <tr>\n",
       "            <td>[]</td>\n",
       "            <td>2</td>\n",
       "            <td>2</td>\n",
       "        </tr>\n",
       "        <tr>\n",
       "            <td>['afr']</td>\n",
       "            <td>10</td>\n",
       "            <td>1</td>\n",
       "        </tr>\n",
       "        <tr>\n",
       "            <td>['dut']</td>\n",
       "            <td>26</td>\n",
       "            <td>2</td>\n",
       "        </tr>\n",
       "        <tr>\n",
       "            <td>['eng']</td>\n",
       "            <td>156857</td>\n",
       "            <td>250</td>\n",
       "        </tr>\n",
       "        <tr>\n",
       "            <td>['eng', 'est']</td>\n",
       "            <td>1</td>\n",
       "            <td>1</td>\n",
       "        </tr>\n",
       "        <tr>\n",
       "            <td>['fre']</td>\n",
       "            <td>109</td>\n",
       "            <td>11</td>\n",
       "        </tr>\n",
       "        <tr>\n",
       "            <td>['ger']</td>\n",
       "            <td>118</td>\n",
       "            <td>2</td>\n",
       "        </tr>\n",
       "        <tr>\n",
       "            <td>['hrv']</td>\n",
       "            <td>1</td>\n",
       "            <td>1</td>\n",
       "        </tr>\n",
       "        <tr>\n",
       "            <td>['ita']</td>\n",
       "            <td>6</td>\n",
       "            <td>2</td>\n",
       "        </tr>\n",
       "        <tr>\n",
       "            <td>['lat']</td>\n",
       "            <td>1</td>\n",
       "            <td>1</td>\n",
       "        </tr>\n",
       "        <tr>\n",
       "            <td>['lav']</td>\n",
       "            <td>1</td>\n",
       "            <td>1</td>\n",
       "        </tr>\n",
       "        <tr>\n",
       "            <td>['por']</td>\n",
       "            <td>3</td>\n",
       "            <td>2</td>\n",
       "        </tr>\n",
       "        <tr>\n",
       "            <td>['rum']</td>\n",
       "            <td>1</td>\n",
       "            <td>1</td>\n",
       "        </tr>\n",
       "        <tr>\n",
       "            <td>['rus']</td>\n",
       "            <td>1</td>\n",
       "            <td>1</td>\n",
       "        </tr>\n",
       "        <tr>\n",
       "            <td>['slv']</td>\n",
       "            <td>1</td>\n",
       "            <td>1</td>\n",
       "        </tr>\n",
       "        <tr>\n",
       "            <td>['spa']</td>\n",
       "            <td>1278</td>\n",
       "            <td>10</td>\n",
       "        </tr>\n",
       "        <tr>\n",
       "            <td>['swe']</td>\n",
       "            <td>1</td>\n",
       "            <td>1</td>\n",
       "        </tr>\n",
       "        <tr>\n",
       "            <td>['wel']</td>\n",
       "            <td>1</td>\n",
       "            <td>1</td>\n",
       "        </tr>\n",
       "    </tbody>\n",
       "</table>"
      ],
      "text/plain": [
       "+----------------+------------+--------------------+\n",
       "|   languages    | item_count | source_title_count |\n",
       "+----------------+------------+--------------------+\n",
       "|       []       |     2      |         2          |\n",
       "|    ['afr']     |     10     |         1          |\n",
       "|    ['dut']     |     26     |         2          |\n",
       "|    ['eng']     |   156857   |        250         |\n",
       "| ['eng', 'est'] |     1      |         1          |\n",
       "|    ['fre']     |    109     |         11         |\n",
       "|    ['ger']     |    118     |         2          |\n",
       "|    ['hrv']     |     1      |         1          |\n",
       "|    ['ita']     |     6      |         2          |\n",
       "|    ['lat']     |     1      |         1          |\n",
       "|    ['lav']     |     1      |         1          |\n",
       "|    ['por']     |     3      |         2          |\n",
       "|    ['rum']     |     1      |         1          |\n",
       "|    ['rus']     |     1      |         1          |\n",
       "|    ['slv']     |     1      |         1          |\n",
       "|    ['spa']     |    1278    |         10         |\n",
       "|    ['swe']     |     1      |         1          |\n",
       "|    ['wel']     |     1      |         1          |\n",
       "+----------------+------------+--------------------+"
      ]
     },
     "execution_count": 6,
     "metadata": {},
     "output_type": "execute_result"
    }
   ],
   "source": [
    "%%sql\n",
    "select languages, count(distinct item_id) as item_count, count(distinct source_title) as source_title_count \n",
    "from {{result_schema}}.tmp_wos_law_items_{{version_name}}  \n",
    "group by languages;"
   ]
  },
  {
   "cell_type": "code",
   "execution_count": 7,
   "metadata": {},
   "outputs": [
    {
     "data": {
      "text/html": [
       "<span style=\"None\">Running query in &#x27;kb_prod&#x27;</span>"
      ],
      "text/plain": [
       "Running query in 'kb_prod'"
      ]
     },
     "metadata": {},
     "output_type": "display_data"
    },
    {
     "data": {
      "text/html": [
       "<span style=\"color: green\">118 rows affected.</span>"
      ],
      "text/plain": [
       "118 rows affected."
      ]
     },
     "metadata": {},
     "output_type": "display_data"
    },
    {
     "data": {
      "text/html": [
       "<span style=\"color: green\">2 rows affected.</span>"
      ],
      "text/plain": [
       "2 rows affected."
      ]
     },
     "metadata": {},
     "output_type": "display_data"
    },
    {
     "data": {
      "text/html": [
       "<span style=\"color: green\">2 rows affected.</span>"
      ],
      "text/plain": [
       "2 rows affected."
      ]
     },
     "metadata": {},
     "output_type": "display_data"
    },
    {
     "data": {
      "text/html": [
       "<table>\n",
       "    <thead>\n",
       "        <tr>\n",
       "        </tr>\n",
       "    </thead>\n",
       "    <tbody>\n",
       "    </tbody>\n",
       "</table>"
      ],
      "text/plain": [
       "++\n",
       "||\n",
       "++\n",
       "++"
      ]
     },
     "execution_count": 7,
     "metadata": {},
     "output_type": "execute_result"
    }
   ],
   "source": [
    "%%sql\n",
    "drop table if exists {{result_schema}}.tmp_wos_law_de_items_{{version_name}};\n",
    "create table {{result_schema}}.tmp_wos_law_de_items_{{version_name}} as (\n",
    "select item_id, doi, pubyear, lower(source_title) as source_title, publisher_hash \n",
    "from {{wos_bdb_schema}}.items  \n",
    "where 'ger' = any(languages) and 'Law' =any(class_name) and source_type='Journal' and 'Article' = any(item_type)\n",
    ");\n",
    "create index on {{result_schema}}.tmp_wos_law_de_items_{{version_name}}(item_id);\n",
    "create index on {{result_schema}}.tmp_wos_law_de_items_{{version_name}}(publisher_hash);\n",
    "\n",
    "drop table if exists {{result_schema}}.tmp_wos_law_de_journals_{{version_name}};\n",
    "create table {{result_schema}}.tmp_wos_law_de_journals_{{version_name}} as (\n",
    "select lower(b.source_title) as source_title, array_agg(distinct sn_c) as issn, \n",
    "count(distinct b.item_id) as article_count, count(distinct a.item_id) as law_and_de, \n",
    "sum(cit_all_years) as cited_by_count, min(b.pubyear) as start_pubyear, max(b.pubyear) as end_pubyear\n",
    "from {{result_schema}}.tmp_wos_law_de_items_{{version_name}} a \n",
    "join {{wos_bdb_schema}}.items b \n",
    "on a.source_title = lower(b.source_title) and 'Article' = any(b.item_type) -- alle items deren source title in den law und de items auftaucht\n",
    "left join {{wos_bdb_schema}}.issn_isbn c \n",
    "on c.item_id = b.item_id \n",
    "group by lower(b.source_title)\n",
    ");\n",
    "\n",
    "drop table if exists {{result_schema}}.eva_wos_de_law_journals_trivial_search_{{version_name}};\n",
    "create table {{result_schema}}.eva_wos_de_law_journals_trivial_search_{{version_name}} as (\n",
    "select source_title, issn, \n",
    "article_count, cited_by_count, law_and_de, \n",
    "case when article_count > 0 then round(law_and_de/article_count::decimal,2) else null end as law_and_de_article_share, \n",
    "case when article_count > 0 then round(cited_by_count/article_count::decimal,2) else null end as citations_per_paper,\n",
    "    start_pubyear, end_pubyear\n",
    "from  {{result_schema}}.tmp_wos_law_de_journals_{{version_name}});"
   ]
  },
  {
   "cell_type": "markdown",
   "metadata": {},
   "source": [
    "This is the intermediate result with the share of German law articles that has to be filtered again according to the specifications \n",
    "(at least 10 german law artices, at least 10% german law articles among all articles from the journal):"
   ]
  },
  {
   "cell_type": "code",
   "execution_count": 8,
   "metadata": {},
   "outputs": [
    {
     "data": {
      "text/html": [
       "<span style=\"None\">Running query in &#x27;kb_prod&#x27;</span>"
      ],
      "text/plain": [
       "Running query in 'kb_prod'"
      ]
     },
     "metadata": {},
     "output_type": "display_data"
    },
    {
     "data": {
      "text/html": [
       "<span style=\"color: green\">2 rows affected.</span>"
      ],
      "text/plain": [
       "2 rows affected."
      ]
     },
     "metadata": {},
     "output_type": "display_data"
    },
    {
     "data": {
      "text/html": [
       "<table>\n",
       "    <thead>\n",
       "        <tr>\n",
       "        </tr>\n",
       "    </thead>\n",
       "    <tbody>\n",
       "    </tbody>\n",
       "</table>"
      ],
      "text/plain": [
       "++\n",
       "||\n",
       "++\n",
       "++"
      ]
     },
     "execution_count": 8,
     "metadata": {},
     "output_type": "execute_result"
    }
   ],
   "source": [
    "%%sql\n",
    "drop table if exists {{result_schema}}.eva_wos_de_law_journals_trivial_search_result_{{version_name}};\n",
    "create table {{result_schema}}.eva_wos_de_law_journals_trivial_search_result_{{version_name}} as (\n",
    "select * \n",
    "from {{result_schema}}.eva_wos_de_law_journals_trivial_search_{{version_name}}  \n",
    "where law_and_de >= 10 and law_and_de_article_share >= 0.1 \n",
    "order by citations_per_paper desc\n",
    ");"
   ]
  },
  {
   "cell_type": "markdown",
   "metadata": {},
   "source": [
    "Get the number of resulting journals:"
   ]
  },
  {
   "cell_type": "code",
   "execution_count": 9,
   "metadata": {},
   "outputs": [
    {
     "data": {
      "text/html": [
       "<span style=\"None\">Running query in &#x27;kb_prod&#x27;</span>"
      ],
      "text/plain": [
       "Running query in 'kb_prod'"
      ]
     },
     "metadata": {},
     "output_type": "display_data"
    },
    {
     "data": {
      "text/html": [
       "<span style=\"color: green\">1 rows affected.</span>"
      ],
      "text/plain": [
       "1 rows affected."
      ]
     },
     "metadata": {},
     "output_type": "display_data"
    },
    {
     "data": {
      "text/html": [
       "<table>\n",
       "    <thead>\n",
       "        <tr>\n",
       "            <th>number_of_journals</th>\n",
       "        </tr>\n",
       "    </thead>\n",
       "    <tbody>\n",
       "        <tr>\n",
       "            <td>2</td>\n",
       "        </tr>\n",
       "    </tbody>\n",
       "</table>"
      ],
      "text/plain": [
       "+--------------------+\n",
       "| number_of_journals |\n",
       "+--------------------+\n",
       "|         2          |\n",
       "+--------------------+"
      ]
     },
     "execution_count": 9,
     "metadata": {},
     "output_type": "execute_result"
    }
   ],
   "source": [
    "%%sql\n",
    "select count(*) as number_of_journals from  {{result_schema}}.eva_wos_de_law_journals_trivial_search_result_{{version_name}};"
   ]
  },
  {
   "cell_type": "markdown",
   "metadata": {},
   "source": [
    "Get the details: "
   ]
  },
  {
   "cell_type": "code",
   "execution_count": 10,
   "metadata": {},
   "outputs": [
    {
     "data": {
      "text/html": [
       "<span style=\"None\">Running query in &#x27;kb_prod&#x27;</span>"
      ],
      "text/plain": [
       "Running query in 'kb_prod'"
      ]
     },
     "metadata": {},
     "output_type": "display_data"
    },
    {
     "data": {
      "text/html": [
       "<span style=\"color: green\">2 rows affected.</span>"
      ],
      "text/plain": [
       "2 rows affected."
      ]
     },
     "metadata": {},
     "output_type": "display_data"
    },
    {
     "data": {
      "text/html": [
       "<table>\n",
       "    <thead>\n",
       "        <tr>\n",
       "            <th>source_title</th>\n",
       "            <th>issn</th>\n",
       "            <th>article_count</th>\n",
       "            <th>cited_by_count</th>\n",
       "            <th>law_and_de</th>\n",
       "            <th>law_and_de_article_share</th>\n",
       "            <th>citations_per_paper</th>\n",
       "            <th>start_pubyear</th>\n",
       "            <th>end_pubyear</th>\n",
       "        </tr>\n",
       "    </thead>\n",
       "    <tbody>\n",
       "        <tr>\n",
       "            <td>kriminologisches journal</td>\n",
       "            <td>['0341-1966']</td>\n",
       "            <td>79</td>\n",
       "            <td>2442</td>\n",
       "            <td>74</td>\n",
       "            <td>0.94</td>\n",
       "            <td>30.91</td>\n",
       "            <td>2008</td>\n",
       "            <td>2013</td>\n",
       "        </tr>\n",
       "        <tr>\n",
       "            <td>tijdschrift voor rechtsgeschiedenis-revue d histoire du droit-the legal history review</td>\n",
       "            <td>['0040-7585']</td>\n",
       "            <td>279</td>\n",
       "            <td>6028</td>\n",
       "            <td>44</td>\n",
       "            <td>0.16</td>\n",
       "            <td>21.61</td>\n",
       "            <td>2008</td>\n",
       "            <td>2023</td>\n",
       "        </tr>\n",
       "    </tbody>\n",
       "</table>"
      ],
      "text/plain": [
       "+----------------------------------------------------------------------------------------+---------------+---------------+----------------+------------+--------------------------+---------------------+---------------+-------------+\n",
       "|                                      source_title                                      |      issn     | article_count | cited_by_count | law_and_de | law_and_de_article_share | citations_per_paper | start_pubyear | end_pubyear |\n",
       "+----------------------------------------------------------------------------------------+---------------+---------------+----------------+------------+--------------------------+---------------------+---------------+-------------+\n",
       "|                                kriminologisches journal                                | ['0341-1966'] |       79      |      2442      |     74     |           0.94           |        30.91        |      2008     |     2013    |\n",
       "| tijdschrift voor rechtsgeschiedenis-revue d histoire du droit-the legal history review | ['0040-7585'] |      279      |      6028      |     44     |           0.16           |        21.61        |      2008     |     2023    |\n",
       "+----------------------------------------------------------------------------------------+---------------+---------------+----------------+------------+--------------------------+---------------------+---------------+-------------+"
      ]
     },
     "execution_count": 10,
     "metadata": {},
     "output_type": "execute_result"
    }
   ],
   "source": [
    "%%sql\n",
    "select * from  {{result_schema}}.eva_wos_de_law_journals_trivial_search_result_{{version_name}};"
   ]
  },
  {
   "cell_type": "markdown",
   "metadata": {},
   "source": [
    "Cleanup: "
   ]
  },
  {
   "cell_type": "code",
   "execution_count": 11,
   "metadata": {},
   "outputs": [
    {
     "data": {
      "text/html": [
       "<span style=\"None\">Running query in &#x27;kb_prod&#x27;</span>"
      ],
      "text/plain": [
       "Running query in 'kb_prod'"
      ]
     },
     "metadata": {},
     "output_type": "display_data"
    },
    {
     "data": {
      "text/html": [
       "<table>\n",
       "    <thead>\n",
       "        <tr>\n",
       "        </tr>\n",
       "    </thead>\n",
       "    <tbody>\n",
       "    </tbody>\n",
       "</table>"
      ],
      "text/plain": [
       "++\n",
       "||\n",
       "++\n",
       "++"
      ]
     },
     "execution_count": 11,
     "metadata": {},
     "output_type": "execute_result"
    }
   ],
   "source": [
    "%%sql\n",
    "drop table if exists {{result_schema}}.tmp_wos_law_de_items_{{version_name}};\n",
    "drop table if exists {{result_schema}}.tmp_wos_law_de_journals_{{version_name}};"
   ]
  },
  {
   "cell_type": "markdown",
   "metadata": {},
   "source": [
    "## <a id=\"list-scopus\"></a> Scopus\n",
    "\n",
    "Specifications: \n",
    "* all journals with at least one item with: class_name = 'Law', source type = 'Journal', item type = 'Article', language = 'ger' --> {{result_schema}}.eva_scp_de_law_journals_trivial_search_{{version_name}}\n",
    "* from this result only the journals with at least 10 german law articles and at least 10% of all items german law article"
   ]
  },
  {
   "cell_type": "code",
   "execution_count": 13,
   "metadata": {},
   "outputs": [
    {
     "data": {
      "text/html": [
       "<span style=\"None\">Running query in &#x27;kb_prod&#x27;</span>"
      ],
      "text/plain": [
       "Running query in 'kb_prod'"
      ]
     },
     "metadata": {},
     "output_type": "display_data"
    },
    {
     "data": {
      "text/html": [
       "<span style=\"color: green\">7977 rows affected.</span>"
      ],
      "text/plain": [
       "7977 rows affected."
      ]
     },
     "metadata": {},
     "output_type": "display_data"
    },
    {
     "data": {
      "text/html": [
       "<span style=\"color: green\">55 rows affected.</span>"
      ],
      "text/plain": [
       "55 rows affected."
      ]
     },
     "metadata": {},
     "output_type": "display_data"
    },
    {
     "data": {
      "text/html": [
       "<span style=\"color: green\">55 rows affected.</span>"
      ],
      "text/plain": [
       "55 rows affected."
      ]
     },
     "metadata": {},
     "output_type": "display_data"
    },
    {
     "data": {
      "text/html": [
       "<span style=\"color: green\">23 rows affected.</span>"
      ],
      "text/plain": [
       "23 rows affected."
      ]
     },
     "metadata": {},
     "output_type": "display_data"
    },
    {
     "data": {
      "text/html": [
       "<table>\n",
       "    <thead>\n",
       "        <tr>\n",
       "        </tr>\n",
       "    </thead>\n",
       "    <tbody>\n",
       "    </tbody>\n",
       "</table>"
      ],
      "text/plain": [
       "++\n",
       "||\n",
       "++\n",
       "++"
      ]
     },
     "execution_count": 13,
     "metadata": {},
     "output_type": "execute_result"
    }
   ],
   "source": [
    "%%sql\n",
    "drop table if exists {{result_schema}}.tmp_scp_law_de_items_{{version_name}};\n",
    "create table {{result_schema}}.tmp_scp_law_de_items_{{version_name}} as (\n",
    "select item_id, doi, pubyear, scopus_source_id, source_title, publisher_hash \n",
    "from {{scp_bdb_schema}}.items \n",
    "where 'ger' = any(languages) and 'Law' =any(class_name) and source_type='Journal' and 'Article' = any(item_type)\n",
    ");\n",
    "create index on {{result_schema}}.tmp_scp_law_de_items_{{version_name}}(item_id);\n",
    "create index on {{result_schema}}.tmp_scp_law_de_items_{{version_name}}(publisher_hash);\n",
    "\n",
    "drop table if exists {{result_schema}}.tmp_scp_law_de_journals_{{version_name}};\n",
    "create table {{result_schema}}.tmp_scp_law_de_journals_{{version_name}} as (\n",
    "select b.scopus_source_id, array_agg( distinct b.source_title) as source_title, array_agg(distinct sn_c) as issn, \n",
    "count(distinct b.item_id) as article_count, count(distinct a.item_id) as law_and_de, \n",
    "sum(cit_all_years) as cited_by_count, min(b.pubyear) as start_pubyear, max(b.pubyear) as end_pubyear\n",
    "from {{result_schema}}.tmp_scp_law_de_items_{{version_name}} a \n",
    "join {{scp_bdb_schema}}.items b \n",
    "on a.source_title = b.source_title  and 'Article' = any(b.item_type) -- alle items deren source title in den law und de items auftaucht\n",
    "left join {{scp_bdb_schema}}.issn_isbn c \n",
    "on c.item_id = b.item_id \n",
    "group by b.scopus_source_id);\n",
    "\n",
    "drop table if exists {{result_schema}}.eva_scp_de_law_journals_trivial_search_{{version_name}};\n",
    "create table {{result_schema}}.eva_scp_de_law_journals_trivial_search_{{version_name}} as (\n",
    "select scopus_source_id, source_title, issn, \n",
    "article_count, cited_by_count, law_and_de, \n",
    "case when article_count > 0 then round(law_and_de/article_count::decimal,2) else null end as law_and_de_article_share, \n",
    "case when article_count > 0 then round(cited_by_count/article_count::decimal,2) else null end as citations_per_paper\n",
    "from  {{result_schema}}.tmp_scp_law_de_journals_{{version_name}});\n",
    "\n",
    "drop table if exists {{result_schema}}.eva_scp_de_law_journals_trivial_search_result_{{version_name}};\n",
    "create table {{result_schema}}.eva_scp_de_law_journals_trivial_search_result_{{version_name}} as (\n",
    "select * \n",
    "from {{result_schema}}.eva_scp_de_law_journals_trivial_search_{{version_name}}  \n",
    "where law_and_de >= 10 and law_and_de_article_share >= 0.1 \n",
    "order by citations_per_paper desc\n",
    ");\n",
    "\n",
    "drop table if exists {{result_schema}}.tmp_scp_law_de_items_{{version_name}};\n",
    "drop table if exists {{result_schema}}.tmp_scp_law_de_journals_{{version_name}};"
   ]
  },
  {
   "cell_type": "markdown",
   "metadata": {},
   "source": [
    "Number of resulting journals: "
   ]
  },
  {
   "cell_type": "code",
   "execution_count": 14,
   "metadata": {},
   "outputs": [
    {
     "data": {
      "text/html": [
       "<span style=\"None\">Running query in &#x27;kb_prod&#x27;</span>"
      ],
      "text/plain": [
       "Running query in 'kb_prod'"
      ]
     },
     "metadata": {},
     "output_type": "display_data"
    },
    {
     "data": {
      "text/html": [
       "<span style=\"color: green\">1 rows affected.</span>"
      ],
      "text/plain": [
       "1 rows affected."
      ]
     },
     "metadata": {},
     "output_type": "display_data"
    },
    {
     "data": {
      "text/html": [
       "<table>\n",
       "    <thead>\n",
       "        <tr>\n",
       "            <th>number_of_journals</th>\n",
       "        </tr>\n",
       "    </thead>\n",
       "    <tbody>\n",
       "        <tr>\n",
       "            <td>23</td>\n",
       "        </tr>\n",
       "    </tbody>\n",
       "</table>"
      ],
      "text/plain": [
       "+--------------------+\n",
       "| number_of_journals |\n",
       "+--------------------+\n",
       "|         23         |\n",
       "+--------------------+"
      ]
     },
     "execution_count": 14,
     "metadata": {},
     "output_type": "execute_result"
    }
   ],
   "source": [
    "%%sql\n",
    "select count(*) as number_of_journals from  {{result_schema}}.eva_scp_de_law_journals_trivial_search_result_{{version_name}};"
   ]
  },
  {
   "cell_type": "markdown",
   "metadata": {},
   "source": [
    "Details: "
   ]
  },
  {
   "cell_type": "code",
   "execution_count": 15,
   "metadata": {},
   "outputs": [
    {
     "data": {
      "text/html": [
       "<span style=\"None\">Running query in &#x27;kb_prod&#x27;</span>"
      ],
      "text/plain": [
       "Running query in 'kb_prod'"
      ]
     },
     "metadata": {},
     "output_type": "display_data"
    },
    {
     "data": {
      "text/html": [
       "<span style=\"color: green\">23 rows affected.</span>"
      ],
      "text/plain": [
       "23 rows affected."
      ]
     },
     "metadata": {},
     "output_type": "display_data"
    },
    {
     "data": {
      "text/html": [
       "<table>\n",
       "    <thead>\n",
       "        <tr>\n",
       "            <th>scopus_source_id</th>\n",
       "            <th>source_title</th>\n",
       "            <th>issn</th>\n",
       "            <th>article_count</th>\n",
       "            <th>cited_by_count</th>\n",
       "            <th>law_and_de</th>\n",
       "            <th>law_and_de_article_share</th>\n",
       "            <th>citations_per_paper</th>\n",
       "        </tr>\n",
       "    </thead>\n",
       "    <tbody>\n",
       "        <tr>\n",
       "            <td>21979</td>\n",
       "            <td>['Deutsche Lebensmittel-Rundschau']</td>\n",
       "            <td>['0012-0413']</td>\n",
       "            <td>1739</td>\n",
       "            <td>7372264</td>\n",
       "            <td>1478</td>\n",
       "            <td>0.85</td>\n",
       "            <td>4239.37</td>\n",
       "        </tr>\n",
       "        <tr>\n",
       "            <td>7200153135</td>\n",
       "            <td>['Forensische Psychiatrie, Psychologie, Kriminologie']</td>\n",
       "            <td>['1862-7072', '1862-7080']</td>\n",
       "            <td>523</td>\n",
       "            <td>1401516</td>\n",
       "            <td>513</td>\n",
       "            <td>0.98</td>\n",
       "            <td>2679.76</td>\n",
       "        </tr>\n",
       "        <tr>\n",
       "            <td>20905</td>\n",
       "            <td>['Kriminalistik']</td>\n",
       "            <td>['0023-4699']</td>\n",
       "            <td>2601</td>\n",
       "            <td>3636001</td>\n",
       "            <td>2599</td>\n",
       "            <td>1.00</td>\n",
       "            <td>1397.92</td>\n",
       "        </tr>\n",
       "        <tr>\n",
       "            <td>14109</td>\n",
       "            <td>['Recht und Psychiatrie']</td>\n",
       "            <td>['0724-2247']</td>\n",
       "            <td>369</td>\n",
       "            <td>280876</td>\n",
       "            <td>284</td>\n",
       "            <td>0.77</td>\n",
       "            <td>761.18</td>\n",
       "        </tr>\n",
       "        <tr>\n",
       "            <td>16100154738</td>\n",
       "            <td>['Zeitschrift der Savigny-Stiftung fur Rechtsgeschichte, Romanistische Abteilung']</td>\n",
       "            <td>['0323-4096', '2304-4934']</td>\n",
       "            <td>603</td>\n",
       "            <td>409500</td>\n",
       "            <td>500</td>\n",
       "            <td>0.83</td>\n",
       "            <td>679.10</td>\n",
       "        </tr>\n",
       "        <tr>\n",
       "            <td>21100239827</td>\n",
       "            <td>['Monatsschrift fur Kriminologie und Strafrechtsreform']</td>\n",
       "            <td>['0026-9301', '2366-1968']</td>\n",
       "            <td>323</td>\n",
       "            <td>176080</td>\n",
       "            <td>284</td>\n",
       "            <td>0.88</td>\n",
       "            <td>545.14</td>\n",
       "        </tr>\n",
       "        <tr>\n",
       "            <td>18498</td>\n",
       "            <td>['Zeitschrift der Savigny-Stiftung fur Rechtsgeschichte, Germanistische Abteilung']</td>\n",
       "            <td>['0323-4045', '2304-4861']</td>\n",
       "            <td>398</td>\n",
       "            <td>119733</td>\n",
       "            <td>373</td>\n",
       "            <td>0.94</td>\n",
       "            <td>300.84</td>\n",
       "        </tr>\n",
       "        <tr>\n",
       "            <td>18700156726</td>\n",
       "            <td>['Kriminologisches Journal']</td>\n",
       "            <td>['0341-1966']</td>\n",
       "            <td>207</td>\n",
       "            <td>47472</td>\n",
       "            <td>184</td>\n",
       "            <td>0.89</td>\n",
       "            <td>229.33</td>\n",
       "        </tr>\n",
       "        <tr>\n",
       "            <td>21100236610</td>\n",
       "            <td>['Rechtsgeschichte']</td>\n",
       "            <td>['1619-4993', '2195-9617']</td>\n",
       "            <td>309</td>\n",
       "            <td>62640</td>\n",
       "            <td>174</td>\n",
       "            <td>0.56</td>\n",
       "            <td>202.72</td>\n",
       "        </tr>\n",
       "        <tr>\n",
       "            <td>5800157711</td>\n",
       "            <td>['Archiv fur Rechts- und Sozialphilosophie']</td>\n",
       "            <td>['0001-2343', '2363-5606']</td>\n",
       "            <td>273</td>\n",
       "            <td>39909</td>\n",
       "            <td>159</td>\n",
       "            <td>0.58</td>\n",
       "            <td>146.19</td>\n",
       "        </tr>\n",
       "        <tr>\n",
       "            <td>21100211733</td>\n",
       "            <td>['Osterreichisches Archiv fur Recht und Religion']</td>\n",
       "            <td>['1560-8670']</td>\n",
       "            <td>168</td>\n",
       "            <td>19256</td>\n",
       "            <td>166</td>\n",
       "            <td>0.99</td>\n",
       "            <td>114.62</td>\n",
       "        </tr>\n",
       "        <tr>\n",
       "            <td>21100920870</td>\n",
       "            <td>['Verwaltung']</td>\n",
       "            <td>['0042-4498', '1865-5211']</td>\n",
       "            <td>115</td>\n",
       "            <td>12540</td>\n",
       "            <td>114</td>\n",
       "            <td>0.99</td>\n",
       "            <td>109.04</td>\n",
       "        </tr>\n",
       "        <tr>\n",
       "            <td>7200153169</td>\n",
       "            <td>['Legal History Review', 'Tijdschrift voor Rechtsgeschiedenis']</td>\n",
       "            <td>['0040-7585', '1571-8190']</td>\n",
       "            <td>265</td>\n",
       "            <td>27430</td>\n",
       "            <td>68</td>\n",
       "            <td>0.26</td>\n",
       "            <td>103.51</td>\n",
       "        </tr>\n",
       "        <tr>\n",
       "            <td>21100842538</td>\n",
       "            <td>['Jusletter IT']</td>\n",
       "            <td>['1664-848X']</td>\n",
       "            <td>708</td>\n",
       "            <td>66454</td>\n",
       "            <td>446</td>\n",
       "            <td>0.63</td>\n",
       "            <td>93.86</td>\n",
       "        </tr>\n",
       "        <tr>\n",
       "            <td>5600153197</td>\n",
       "            <td>['Zeitschrift fur Rechtssoziologie']</td>\n",
       "            <td>['0174-0202', '2366-0392']</td>\n",
       "            <td>89</td>\n",
       "            <td>7686</td>\n",
       "            <td>63</td>\n",
       "            <td>0.71</td>\n",
       "            <td>86.36</td>\n",
       "        </tr>\n",
       "        <tr>\n",
       "            <td>18501</td>\n",
       "            <td>['Zeitschrift der Savigny-Stiftung fur Rechtsgeschichte, Kanonistische Abteilung']</td>\n",
       "            <td>['0323-4142', '2304-4896']</td>\n",
       "            <td>120</td>\n",
       "            <td>9765</td>\n",
       "            <td>93</td>\n",
       "            <td>0.78</td>\n",
       "            <td>81.38</td>\n",
       "        </tr>\n",
       "        <tr>\n",
       "            <td>21101093350</td>\n",
       "            <td>['Kriminologie']</td>\n",
       "            <td>['2698-6779']</td>\n",
       "            <td>94</td>\n",
       "            <td>6930</td>\n",
       "            <td>66</td>\n",
       "            <td>0.70</td>\n",
       "            <td>73.72</td>\n",
       "        </tr>\n",
       "        <tr>\n",
       "            <td>21101089572</td>\n",
       "            <td>['Zeitschrift fur Auslandisches Offentliches Recht und Volkerrecht']</td>\n",
       "            <td>['0044-2348']</td>\n",
       "            <td>143</td>\n",
       "            <td>7840</td>\n",
       "            <td>49</td>\n",
       "            <td>0.34</td>\n",
       "            <td>54.83</td>\n",
       "        </tr>\n",
       "        <tr>\n",
       "            <td>16200154747</td>\n",
       "            <td>['Journal of Juristic Papyrology']</td>\n",
       "            <td>['0075-4277']</td>\n",
       "            <td>180</td>\n",
       "            <td>9630</td>\n",
       "            <td>18</td>\n",
       "            <td>0.10</td>\n",
       "            <td>53.50</td>\n",
       "        </tr>\n",
       "        <tr>\n",
       "            <td>21100902690</td>\n",
       "            <td>['Credit and Capital Markets']</td>\n",
       "            <td>['2199-1227', '2199-1235']</td>\n",
       "            <td>164</td>\n",
       "            <td>7344</td>\n",
       "            <td>18</td>\n",
       "            <td>0.11</td>\n",
       "            <td>44.78</td>\n",
       "        </tr>\n",
       "    </tbody>\n",
       "</table>\n",
       "<span style=\"font-style:italic;text-align:center;\">Truncated to <a href=\"https://jupysql.ploomber.io/en/latest/api/configuration.html#displaylimit\">displaylimit</a> of 20.</span>"
      ],
      "text/plain": [
       "+------------------+-------------------------------------------------------------------------------------+----------------------------+---------------+----------------+------------+--------------------------+---------------------+\n",
       "| scopus_source_id |                                     source_title                                    |            issn            | article_count | cited_by_count | law_and_de | law_and_de_article_share | citations_per_paper |\n",
       "+------------------+-------------------------------------------------------------------------------------+----------------------------+---------------+----------------+------------+--------------------------+---------------------+\n",
       "|      21979       |                         ['Deutsche Lebensmittel-Rundschau']                         |       ['0012-0413']        |      1739     |    7372264     |    1478    |           0.85           |       4239.37       |\n",
       "|    7200153135    |                ['Forensische Psychiatrie, Psychologie, Kriminologie']               | ['1862-7072', '1862-7080'] |      523      |    1401516     |    513     |           0.98           |       2679.76       |\n",
       "|      20905       |                                  ['Kriminalistik']                                  |       ['0023-4699']        |      2601     |    3636001     |    2599    |           1.00           |       1397.92       |\n",
       "|      14109       |                              ['Recht und Psychiatrie']                              |       ['0724-2247']        |      369      |     280876     |    284     |           0.77           |        761.18       |\n",
       "|   16100154738    |  ['Zeitschrift der Savigny-Stiftung fur Rechtsgeschichte, Romanistische Abteilung'] | ['0323-4096', '2304-4934'] |      603      |     409500     |    500     |           0.83           |        679.10       |\n",
       "|   21100239827    |               ['Monatsschrift fur Kriminologie und Strafrechtsreform']              | ['0026-9301', '2366-1968'] |      323      |     176080     |    284     |           0.88           |        545.14       |\n",
       "|      18498       | ['Zeitschrift der Savigny-Stiftung fur Rechtsgeschichte, Germanistische Abteilung'] | ['0323-4045', '2304-4861'] |      398      |     119733     |    373     |           0.94           |        300.84       |\n",
       "|   18700156726    |                             ['Kriminologisches Journal']                            |       ['0341-1966']        |      207      |     47472      |    184     |           0.89           |        229.33       |\n",
       "|   21100236610    |                                 ['Rechtsgeschichte']                                | ['1619-4993', '2195-9617'] |      309      |     62640      |    174     |           0.56           |        202.72       |\n",
       "|    5800157711    |                     ['Archiv fur Rechts- und Sozialphilosophie']                    | ['0001-2343', '2363-5606'] |      273      |     39909      |    159     |           0.58           |        146.19       |\n",
       "|   21100211733    |                  ['Osterreichisches Archiv fur Recht und Religion']                 |       ['1560-8670']        |      168      |     19256      |    166     |           0.99           |        114.62       |\n",
       "|   21100920870    |                                    ['Verwaltung']                                   | ['0042-4498', '1865-5211'] |      115      |     12540      |    114     |           0.99           |        109.04       |\n",
       "|    7200153169    |           ['Legal History Review', 'Tijdschrift voor Rechtsgeschiedenis']           | ['0040-7585', '1571-8190'] |      265      |     27430      |     68     |           0.26           |        103.51       |\n",
       "|   21100842538    |                                   ['Jusletter IT']                                  |       ['1664-848X']        |      708      |     66454      |    446     |           0.63           |        93.86        |\n",
       "|    5600153197    |                         ['Zeitschrift fur Rechtssoziologie']                        | ['0174-0202', '2366-0392'] |       89      |      7686      |     63     |           0.71           |        86.36        |\n",
       "|      18501       |  ['Zeitschrift der Savigny-Stiftung fur Rechtsgeschichte, Kanonistische Abteilung'] | ['0323-4142', '2304-4896'] |      120      |      9765      |     93     |           0.78           |        81.38        |\n",
       "|   21101093350    |                                   ['Kriminologie']                                  |       ['2698-6779']        |       94      |      6930      |     66     |           0.70           |        73.72        |\n",
       "|   21101089572    |         ['Zeitschrift fur Auslandisches Offentliches Recht und Volkerrecht']        |       ['0044-2348']        |      143      |      7840      |     49     |           0.34           |        54.83        |\n",
       "|   16200154747    |                          ['Journal of Juristic Papyrology']                         |       ['0075-4277']        |      180      |      9630      |     18     |           0.10           |        53.50        |\n",
       "|   21100902690    |                            ['Credit and Capital Markets']                           | ['2199-1227', '2199-1235'] |      164      |      7344      |     18     |           0.11           |        44.78        |\n",
       "+------------------+-------------------------------------------------------------------------------------+----------------------------+---------------+----------------+------------+--------------------------+---------------------+\n",
       "Truncated to displaylimit of 20."
      ]
     },
     "execution_count": 15,
     "metadata": {},
     "output_type": "execute_result"
    }
   ],
   "source": [
    "%%sql\n",
    "select * from  {{result_schema}}.eva_scp_de_law_journals_trivial_search_result_{{version_name}};"
   ]
  },
  {
   "cell_type": "markdown",
   "metadata": {},
   "source": [
    "## <a id=\"list-openalex\"></a> OpenAlex\n",
    "\n",
    "Specifications: \n",
    "* all journals with at least one item with: subfield_id = '3308', source type = 'Journal', language = 'de' --> {{result_schema}}.eva_openalex_de_law_journals_trivial_search_{{version_name}}\n",
    "* from this result only the journals with at least 10 german law articles and at least 10% of all items german law article"
   ]
  },
  {
   "cell_type": "code",
   "execution_count": 23,
   "metadata": {},
   "outputs": [
    {
     "data": {
      "text/html": [
       "<span style=\"None\">Running query in &#x27;kb_prod&#x27;</span>"
      ],
      "text/plain": [
       "Running query in 'kb_prod'"
      ]
     },
     "metadata": {},
     "output_type": "display_data"
    },
    {
     "data": {
      "text/html": [
       "<span style=\"color: green\">2 rows affected.</span>"
      ],
      "text/plain": [
       "2 rows affected."
      ]
     },
     "metadata": {},
     "output_type": "display_data"
    },
    {
     "data": {
      "text/html": [
       "<table>\n",
       "    <thead>\n",
       "        <tr>\n",
       "            <th>id</th>\n",
       "            <th>display_name</th>\n",
       "        </tr>\n",
       "    </thead>\n",
       "    <tbody>\n",
       "        <tr>\n",
       "            <td>2308</td>\n",
       "            <td>Management, Monitoring, Policy and Law</td>\n",
       "        </tr>\n",
       "        <tr>\n",
       "            <td>3308</td>\n",
       "            <td>Law</td>\n",
       "        </tr>\n",
       "    </tbody>\n",
       "</table>"
      ],
      "text/plain": [
       "+------+----------------------------------------+\n",
       "|  id  |              display_name              |\n",
       "+------+----------------------------------------+\n",
       "| 2308 | Management, Monitoring, Policy and Law |\n",
       "| 3308 |                  Law                   |\n",
       "+------+----------------------------------------+"
      ]
     },
     "execution_count": 23,
     "metadata": {},
     "output_type": "execute_result"
    }
   ],
   "source": [
    "%%sql\n",
    "select * from {{openalex_rep_schema}}.subfields where lower(display_name) like '%law%'"
   ]
  },
  {
   "cell_type": "markdown",
   "metadata": {},
   "source": [
    "--> take 3308 only."
   ]
  },
  {
   "cell_type": "code",
   "execution_count": 10,
   "metadata": {},
   "outputs": [
    {
     "data": {
      "text/html": [
       "<span style=\"None\">Running query in &#x27;kb_prod&#x27;</span>"
      ],
      "text/plain": [
       "Running query in 'kb_prod'"
      ]
     },
     "metadata": {},
     "output_type": "display_data"
    },
    {
     "data": {
      "text/html": [
       "<span style=\"color: green\">3425319 rows affected.</span>"
      ],
      "text/plain": [
       "3425319 rows affected."
      ]
     },
     "metadata": {},
     "output_type": "display_data"
    },
    {
     "data": {
      "text/html": [
       "<table>\n",
       "    <thead>\n",
       "        <tr>\n",
       "        </tr>\n",
       "    </thead>\n",
       "    <tbody>\n",
       "    </tbody>\n",
       "</table>"
      ],
      "text/plain": [
       "++\n",
       "||\n",
       "++\n",
       "++"
      ]
     },
     "execution_count": 10,
     "metadata": {},
     "output_type": "execute_result"
    }
   ],
   "source": [
    "%%sql\n",
    "drop table if exists {{result_schema}}.tmp_law_{{version_name}};\n",
    "create table {{result_schema}}.tmp_law_{{version_name}} as (select distinct work_id \n",
    "from {{openalex_rep_schema}}.works_topics b\n",
    "join {{openalex_rep_schema}}.topics c\n",
    "on b.topic_id = c.id \n",
    "where c.subfield_id = '3308');\n",
    "create index on {{result_schema}}.tmp_law_{{version_name}}(work_id);\n"
   ]
  },
  {
   "cell_type": "code",
   "execution_count": null,
   "metadata": {},
   "outputs": [],
   "source": [
    "%%sql\n",
    "alter table {{result_schema}}.tmp_law_{{version_name}} add column article_is_de boolean;"
   ]
  },
  {
   "cell_type": "code",
   "execution_count": null,
   "metadata": {},
   "outputs": [],
   "source": [
    "%%sql\n",
    "update {{result_schema}}.tmp_law_{{version_name}}  \n",
    "set article_is_de = false;\n",
    "\n",
    "update {{result_schema}}.tmp_law_{{version_name}} set article_is_de = true \n",
    "where work_id in (select id \n",
    "from {{openalex_rep_schema}}.works \n",
    "where language = 'de'); \n",
    "\n",
    "drop table if exists {{result_schema}}.tmp_law_II_{{version_name}}; \n",
    "create table {{result_schema}}.tmp_law_II_{{version_name}} as (\n",
    "select c.id as source_id, display_name, works_count, cited_by_count, count(distinct a.work_id) as law_and_de, c.type as source_type   \n",
    "from {{result_schema}}.tmp_law_{{version_name}} a\n",
    "join {{openalex_rep_schema}}.works_locations b \n",
    "on a.work_id = b.work_id \n",
    "join {{openalex_rep_schema}}.sources c \n",
    "on b.source_id = c.id \n",
    "where article_is_de = true \n",
    "group by c.id, display_name, works_count, cited_by_count, c.type);\n",
    "\n",
    "create index on {{result_schema}}.tmp_law_II_{{version_name}}(source_id);\n",
    "\n",
    "update {{result_schema}}.tmp_law_II_{{version_name}} a \n",
    "set works_count = (select count(*)\n",
    "from {{openalex_rep_schema}}.works_locations \n",
    "where source_id = a.source_id);\n",
    "\n",
    "\n",
    "drop table if exists {{result_schema}}.eva_openalex_de_law_journals_trivial_search_{{version_name}};\n",
    "create table {{result_schema}}.eva_openalex_de_law_journals_trivial_search_{{version_name}} as (\n",
    "select source_id, display_name, \n",
    "works_count, cited_by_count, law_and_de, \n",
    "case when works_count > 0 then round(law_and_de/works_count::decimal,2) else null end as law_and_de_article_share, \n",
    "case when works_count > 0 then round(cited_by_count/works_count::decimal,2) else null end as citations_per_paper\n",
    "from {{result_schema}}.tmp_law_II_{{version_name}}\n",
    "where lower(source_type) = 'journal'\n",
    ");\n",
    "\n",
    "drop table if exists {{result_schema}}.eva_openalex_de_law_journals_trivial_search_result_{{version_name}};\n",
    "create table {{result_schema}}.eva_openalex_de_law_journals_trivial_search_result_{{version_name}} as (\n",
    "select * \n",
    "from {{result_schema}}.eva_openalex_de_law_journals_trivial_search_{{version_name}}  \n",
    "where law_and_de >= 10 and law_and_de_article_share >= 0.1);"
   ]
  },
  {
   "cell_type": "markdown",
   "metadata": {},
   "source": [
    "Number of resulting journals: "
   ]
  },
  {
   "cell_type": "code",
   "execution_count": 15,
   "metadata": {},
   "outputs": [
    {
     "data": {
      "text/html": [
       "<span style=\"None\">Running query in &#x27;kb_prod&#x27;</span>"
      ],
      "text/plain": [
       "Running query in 'kb_prod'"
      ]
     },
     "metadata": {},
     "output_type": "display_data"
    },
    {
     "data": {
      "text/html": [
       "<span style=\"color: green\">1 rows affected.</span>"
      ],
      "text/plain": [
       "1 rows affected."
      ]
     },
     "metadata": {},
     "output_type": "display_data"
    },
    {
     "data": {
      "text/html": [
       "<table>\n",
       "    <thead>\n",
       "        <tr>\n",
       "            <th>count</th>\n",
       "        </tr>\n",
       "    </thead>\n",
       "    <tbody>\n",
       "        <tr>\n",
       "            <td>323</td>\n",
       "        </tr>\n",
       "    </tbody>\n",
       "</table>"
      ],
      "text/plain": [
       "+-------+\n",
       "| count |\n",
       "+-------+\n",
       "|  323  |\n",
       "+-------+"
      ]
     },
     "execution_count": 15,
     "metadata": {},
     "output_type": "execute_result"
    }
   ],
   "source": [
    "%%sql\n",
    "select count(*) from {{result_schema}}.eva_openalex_de_law_journals_trivial_search_result_{{version_name}};"
   ]
  },
  {
   "cell_type": "code",
   "execution_count": 16,
   "metadata": {},
   "outputs": [
    {
     "data": {
      "text/html": [
       "<span style=\"None\">Running query in &#x27;kb_prod&#x27;</span>"
      ],
      "text/plain": [
       "Running query in 'kb_prod'"
      ]
     },
     "metadata": {},
     "output_type": "display_data"
    },
    {
     "data": {
      "text/html": [
       "<span style=\"color: green\">1 rows affected.</span>"
      ],
      "text/plain": [
       "1 rows affected."
      ]
     },
     "metadata": {},
     "output_type": "display_data"
    },
    {
     "data": {
      "text/html": [
       "<table>\n",
       "    <thead>\n",
       "        <tr>\n",
       "            <th>count</th>\n",
       "        </tr>\n",
       "    </thead>\n",
       "    <tbody>\n",
       "        <tr>\n",
       "            <td>315</td>\n",
       "        </tr>\n",
       "    </tbody>\n",
       "</table>"
      ],
      "text/plain": [
       "+-------+\n",
       "| count |\n",
       "+-------+\n",
       "|  315  |\n",
       "+-------+"
      ]
     },
     "execution_count": 16,
     "metadata": {},
     "output_type": "execute_result"
    }
   ],
   "source": [
    "%%sql\n",
    "select count(distinct display_name) from {{result_schema}}.eva_openalex_de_law_journals_trivial_search_result_{{version_name}};"
   ]
  },
  {
   "cell_type": "markdown",
   "metadata": {},
   "source": [
    "There are some cases where one display name for a source appears with different source ids. \n",
    "In our set this occurs 8 times where in each case one display name appeared with two source ids. These might be data errors.  "
   ]
  },
  {
   "cell_type": "code",
   "execution_count": 18,
   "metadata": {},
   "outputs": [
    {
     "data": {
      "text/html": [
       "<span style=\"None\">Running query in &#x27;kb_prod&#x27;</span>"
      ],
      "text/plain": [
       "Running query in 'kb_prod'"
      ]
     },
     "metadata": {},
     "output_type": "display_data"
    },
    {
     "data": {
      "text/html": [
       "<span style=\"color: green\">16 rows affected.</span>"
      ],
      "text/plain": [
       "16 rows affected."
      ]
     },
     "metadata": {},
     "output_type": "display_data"
    },
    {
     "data": {
      "text/html": [
       "<table>\n",
       "    <thead>\n",
       "        <tr>\n",
       "            <th>source_id</th>\n",
       "            <th>display_name</th>\n",
       "        </tr>\n",
       "    </thead>\n",
       "    <tbody>\n",
       "        <tr>\n",
       "            <td>S4306504063</td>\n",
       "            <td>Baurechtliche Blätter</td>\n",
       "        </tr>\n",
       "        <tr>\n",
       "            <td>S4210189108</td>\n",
       "            <td>Baurechtliche Blätter</td>\n",
       "        </tr>\n",
       "        <tr>\n",
       "            <td>S4210228072</td>\n",
       "            <td>Die Verwaltung</td>\n",
       "        </tr>\n",
       "        <tr>\n",
       "            <td>S145628082</td>\n",
       "            <td>Die Verwaltung</td>\n",
       "        </tr>\n",
       "        <tr>\n",
       "            <td>S4210193381</td>\n",
       "            <td>Juristische Blätter</td>\n",
       "        </tr>\n",
       "        <tr>\n",
       "            <td>S4306516540</td>\n",
       "            <td>Juristische Blätter</td>\n",
       "        </tr>\n",
       "        <tr>\n",
       "            <td>S4210233727</td>\n",
       "            <td>KUR - Kunst und Recht</td>\n",
       "        </tr>\n",
       "        <tr>\n",
       "            <td>S4210182874</td>\n",
       "            <td>KUR - Kunst und Recht</td>\n",
       "        </tr>\n",
       "        <tr>\n",
       "            <td>S4210223432</td>\n",
       "            <td>Rechtsgeschichte - Legal History</td>\n",
       "        </tr>\n",
       "        <tr>\n",
       "            <td>S4306525478</td>\n",
       "            <td>Rechtsgeschichte - Legal History</td>\n",
       "        </tr>\n",
       "        <tr>\n",
       "            <td>S4210224812</td>\n",
       "            <td>Wirtschaftsrechtliche Blätter</td>\n",
       "        </tr>\n",
       "        <tr>\n",
       "            <td>S4306534834</td>\n",
       "            <td>Wirtschaftsrechtliche Blätter</td>\n",
       "        </tr>\n",
       "        <tr>\n",
       "            <td>S4210167965</td>\n",
       "            <td>Zeitschrift für das Privatrecht der Europäischen Union</td>\n",
       "        </tr>\n",
       "        <tr>\n",
       "            <td>S4210201536</td>\n",
       "            <td>Zeitschrift für das Privatrecht der Europäischen Union</td>\n",
       "        </tr>\n",
       "        <tr>\n",
       "            <td>S4210192053</td>\n",
       "            <td>Zeitschrift für öffentliches Recht</td>\n",
       "        </tr>\n",
       "        <tr>\n",
       "            <td>S4306535623</td>\n",
       "            <td>Zeitschrift für öffentliches Recht</td>\n",
       "        </tr>\n",
       "    </tbody>\n",
       "</table>"
      ],
      "text/plain": [
       "+-------------+--------------------------------------------------------+\n",
       "|  source_id  |                      display_name                      |\n",
       "+-------------+--------------------------------------------------------+\n",
       "| S4306504063 |                 Baurechtliche Blätter                  |\n",
       "| S4210189108 |                 Baurechtliche Blätter                  |\n",
       "| S4210228072 |                     Die Verwaltung                     |\n",
       "|  S145628082 |                     Die Verwaltung                     |\n",
       "| S4210193381 |                  Juristische Blätter                   |\n",
       "| S4306516540 |                  Juristische Blätter                   |\n",
       "| S4210233727 |                 KUR - Kunst und Recht                  |\n",
       "| S4210182874 |                 KUR - Kunst und Recht                  |\n",
       "| S4210223432 |            Rechtsgeschichte - Legal History            |\n",
       "| S4306525478 |            Rechtsgeschichte - Legal History            |\n",
       "| S4210224812 |             Wirtschaftsrechtliche Blätter              |\n",
       "| S4306534834 |             Wirtschaftsrechtliche Blätter              |\n",
       "| S4210167965 | Zeitschrift für das Privatrecht der Europäischen Union |\n",
       "| S4210201536 | Zeitschrift für das Privatrecht der Europäischen Union |\n",
       "| S4210192053 |           Zeitschrift für öffentliches Recht           |\n",
       "| S4306535623 |           Zeitschrift für öffentliches Recht           |\n",
       "+-------------+--------------------------------------------------------+"
      ]
     },
     "execution_count": 18,
     "metadata": {},
     "output_type": "execute_result"
    }
   ],
   "source": [
    "%%sql\n",
    "select source_id, display_name \n",
    "from project_rewi.eva_openalex_de_law_journals_trivial_search_result_{version_name} \n",
    "where display_name in \n",
    "(select display_name\n",
    "from project_rewi.eva_openalex_de_law_journals_trivial_search_result_{version_name} eodljtsr \n",
    "group by display_name \n",
    "having count(*)> 1) \n",
    "order by display_name"
   ]
  },
  {
   "cell_type": "markdown",
   "metadata": {},
   "source": [
    "Details: "
   ]
  },
  {
   "cell_type": "code",
   "execution_count": 19,
   "metadata": {},
   "outputs": [
    {
     "data": {
      "text/html": [
       "<span style=\"None\">Running query in &#x27;kb_prod&#x27;</span>"
      ],
      "text/plain": [
       "Running query in 'kb_prod'"
      ]
     },
     "metadata": {},
     "output_type": "display_data"
    },
    {
     "data": {
      "text/html": [
       "<span style=\"color: green\">323 rows affected.</span>"
      ],
      "text/plain": [
       "323 rows affected."
      ]
     },
     "metadata": {},
     "output_type": "display_data"
    },
    {
     "data": {
      "text/html": [
       "<table>\n",
       "    <thead>\n",
       "        <tr>\n",
       "            <th>openalex_journal_id</th>\n",
       "            <th>display_name</th>\n",
       "            <th>number_of_articles</th>\n",
       "            <th>law_and_de_article_share</th>\n",
       "        </tr>\n",
       "    </thead>\n",
       "    <tbody>\n",
       "        <tr>\n",
       "            <td>S25774322</td>\n",
       "            <td>Juristische Rundschau</td>\n",
       "            <td>14334</td>\n",
       "            <td>0.29</td>\n",
       "        </tr>\n",
       "        <tr>\n",
       "            <td>S4210177729</td>\n",
       "            <td>Zeitschrift der Savigny-Stiftung für Rechtsgeschichte Germanistische Abteilung</td>\n",
       "            <td>13032</td>\n",
       "            <td>0.31</td>\n",
       "        </tr>\n",
       "        <tr>\n",
       "            <td>S4210169614</td>\n",
       "            <td>Monatsschrift für Deutsches Recht</td>\n",
       "            <td>11235</td>\n",
       "            <td>0.34</td>\n",
       "        </tr>\n",
       "        <tr>\n",
       "            <td>S4210169399</td>\n",
       "            <td>ARCHIV FÜR KATHOLISCHES KIRCHENRECHT</td>\n",
       "            <td>9096</td>\n",
       "            <td>0.17</td>\n",
       "        </tr>\n",
       "        <tr>\n",
       "            <td>S950333007</td>\n",
       "            <td>Monatsschrift für Kriminologie und Strafrechtsreform</td>\n",
       "            <td>6999</td>\n",
       "            <td>0.11</td>\n",
       "        </tr>\n",
       "        <tr>\n",
       "            <td>S98369295</td>\n",
       "            <td>Medizinrecht</td>\n",
       "            <td>6857</td>\n",
       "            <td>0.20</td>\n",
       "        </tr>\n",
       "        <tr>\n",
       "            <td>S157638965</td>\n",
       "            <td>JuristenZeitung</td>\n",
       "            <td>6720</td>\n",
       "            <td>0.41</td>\n",
       "        </tr>\n",
       "        <tr>\n",
       "            <td>S4210238088</td>\n",
       "            <td>Zeitschrift der Savigny-Stiftung für Rechtsgeschichte Romanistische Abteilung</td>\n",
       "            <td>6637</td>\n",
       "            <td>0.14</td>\n",
       "        </tr>\n",
       "        <tr>\n",
       "            <td>S4210187269</td>\n",
       "            <td>JurPC</td>\n",
       "            <td>6454</td>\n",
       "            <td>0.14</td>\n",
       "        </tr>\n",
       "        <tr>\n",
       "            <td>S4210185480</td>\n",
       "            <td>Deutsche Zeitschrift für Wirtschafts- und Insolvenzrecht</td>\n",
       "            <td>5509</td>\n",
       "            <td>0.36</td>\n",
       "        </tr>\n",
       "        <tr>\n",
       "            <td>S4306520736</td>\n",
       "            <td>Neue Juristische Wochenschrift: NJW</td>\n",
       "            <td>5252</td>\n",
       "            <td>0.56</td>\n",
       "        </tr>\n",
       "        <tr>\n",
       "            <td>S4210167899</td>\n",
       "            <td>Die Aktiengesellschaft</td>\n",
       "            <td>4867</td>\n",
       "            <td>0.20</td>\n",
       "        </tr>\n",
       "        <tr>\n",
       "            <td>S4210191334</td>\n",
       "            <td>Zeitschrift für die gesamte Strafrechtswissenschaft</td>\n",
       "            <td>4856</td>\n",
       "            <td>0.31</td>\n",
       "        </tr>\n",
       "        <tr>\n",
       "            <td>S4210216878</td>\n",
       "            <td>ReiseRechts aktuell</td>\n",
       "            <td>4719</td>\n",
       "            <td>0.27</td>\n",
       "        </tr>\n",
       "        <tr>\n",
       "            <td>S4210224812</td>\n",
       "            <td>Wirtschaftsrechtliche Blätter</td>\n",
       "            <td>4538</td>\n",
       "            <td>0.62</td>\n",
       "        </tr>\n",
       "        <tr>\n",
       "            <td>S4210175502</td>\n",
       "            <td>UmsatzsteuerRundschau</td>\n",
       "            <td>4108</td>\n",
       "            <td>0.26</td>\n",
       "        </tr>\n",
       "        <tr>\n",
       "            <td>S60284270</td>\n",
       "            <td>Natur und Recht</td>\n",
       "            <td>4055</td>\n",
       "            <td>0.25</td>\n",
       "        </tr>\n",
       "        <tr>\n",
       "            <td>S4210240061</td>\n",
       "            <td>JURA - Juristische Ausbildung</td>\n",
       "            <td>3985</td>\n",
       "            <td>0.46</td>\n",
       "        </tr>\n",
       "        <tr>\n",
       "            <td>S95818940</td>\n",
       "            <td>Datenschutz und Datensicherheit - DuD</td>\n",
       "            <td>3966</td>\n",
       "            <td>0.37</td>\n",
       "        </tr>\n",
       "        <tr>\n",
       "            <td>S4210201413</td>\n",
       "            <td>GesundheitsRecht</td>\n",
       "            <td>3955</td>\n",
       "            <td>0.16</td>\n",
       "        </tr>\n",
       "    </tbody>\n",
       "</table>\n",
       "<span style=\"font-style:italic;text-align:center;\">Truncated to <a href=\"https://jupysql.ploomber.io/en/latest/api/configuration.html#displaylimit\">displaylimit</a> of 20.</span>"
      ],
      "text/plain": [
       "+---------------------+--------------------------------------------------------------------------------+--------------------+--------------------------+\n",
       "| openalex_journal_id |                                  display_name                                  | number_of_articles | law_and_de_article_share |\n",
       "+---------------------+--------------------------------------------------------------------------------+--------------------+--------------------------+\n",
       "|      S25774322      |                             Juristische Rundschau                              |       14334        |           0.29           |\n",
       "|     S4210177729     | Zeitschrift der Savigny-Stiftung für Rechtsgeschichte Germanistische Abteilung |       13032        |           0.31           |\n",
       "|     S4210169614     |                       Monatsschrift für Deutsches Recht                        |       11235        |           0.34           |\n",
       "|     S4210169399     |                      ARCHIV FÜR KATHOLISCHES KIRCHENRECHT                      |        9096        |           0.17           |\n",
       "|      S950333007     |              Monatsschrift für Kriminologie und Strafrechtsreform              |        6999        |           0.11           |\n",
       "|      S98369295      |                                  Medizinrecht                                  |        6857        |           0.20           |\n",
       "|      S157638965     |                                JuristenZeitung                                 |        6720        |           0.41           |\n",
       "|     S4210238088     | Zeitschrift der Savigny-Stiftung für Rechtsgeschichte Romanistische Abteilung  |        6637        |           0.14           |\n",
       "|     S4210187269     |                                     JurPC                                      |        6454        |           0.14           |\n",
       "|     S4210185480     |            Deutsche Zeitschrift für Wirtschafts- und Insolvenzrecht            |        5509        |           0.36           |\n",
       "|     S4306520736     |                      Neue Juristische Wochenschrift: NJW                       |        5252        |           0.56           |\n",
       "|     S4210167899     |                             Die Aktiengesellschaft                             |        4867        |           0.20           |\n",
       "|     S4210191334     |              Zeitschrift für die gesamte Strafrechtswissenschaft               |        4856        |           0.31           |\n",
       "|     S4210216878     |                              ReiseRechts aktuell                               |        4719        |           0.27           |\n",
       "|     S4210224812     |                         Wirtschaftsrechtliche Blätter                          |        4538        |           0.62           |\n",
       "|     S4210175502     |                             UmsatzsteuerRundschau                              |        4108        |           0.26           |\n",
       "|      S60284270      |                                Natur und Recht                                 |        4055        |           0.25           |\n",
       "|     S4210240061     |                         JURA - Juristische Ausbildung                          |        3985        |           0.46           |\n",
       "|      S95818940      |                     Datenschutz und Datensicherheit - DuD                      |        3966        |           0.37           |\n",
       "|     S4210201413     |                                GesundheitsRecht                                |        3955        |           0.16           |\n",
       "+---------------------+--------------------------------------------------------------------------------+--------------------+--------------------------+\n",
       "Truncated to displaylimit of 20."
      ]
     },
     "execution_count": 19,
     "metadata": {},
     "output_type": "execute_result"
    }
   ],
   "source": [
    "%%sql\n",
    "select source_id as openalex_journal_id, display_name, works_count as number_of_articles, law_and_de_article_share\n",
    "from project_rewi.eva_openalex_de_law_journals_trivial_search_result_{version_name} \n",
    "order by works_count desc"
   ]
  },
  {
   "cell_type": "markdown",
   "metadata": {},
   "source": [
    "# <a id=\"coverage\"></a> Coverage of the gold standard list in different data sources"
   ]
  },
  {
   "cell_type": "markdown",
   "metadata": {},
   "source": [
    "## <a id=\"coverage-preparations\"></a>Preparations\n",
    "\n",
    "The Gröls/Gröls article contains two lists of journals: one with general german law journals, one with field specific journals. For evaluation on coverage we used a union of these journals \n",
    "as we are interested in the coverage of 'important' german law journals, never mind if they are general ones or belong to a specific subfield. "
   ]
  },
  {
   "cell_type": "markdown",
   "metadata": {},
   "source": [
    "The tables this query are based on are created from the article mentioned above (table 1 and table 2). This step has to be done only once as it creates the table from the article \n",
    "information and stays fix."
   ]
  },
  {
   "cell_type": "code",
   "execution_count": 131,
   "metadata": {},
   "outputs": [
    {
     "data": {
      "text/html": [
       "<span style=\"None\">Running query in &#x27;kb_prod&#x27;</span>"
      ],
      "text/plain": [
       "Running query in 'kb_prod'"
      ]
     },
     "metadata": {},
     "output_type": "display_data"
    },
    {
     "data": {
      "text/html": [
       "<table>\n",
       "    <thead>\n",
       "        <tr>\n",
       "        </tr>\n",
       "    </thead>\n",
       "    <tbody>\n",
       "    </tbody>\n",
       "</table>"
      ],
      "text/plain": [
       "++\n",
       "||\n",
       "++\n",
       "++"
      ]
     },
     "execution_count": 131,
     "metadata": {},
     "output_type": "execute_result"
    }
   ],
   "source": [
    "%%sql\n",
    "create table if not exists {{result_schema}}.jura_groels_alle_zeitschriften as (\n",
    "select zeitschrift, abk, array_agg(issn) as issn_list\n",
    "from (\n",
    "(select distinct zeitschrift, abk, issn \n",
    "from \n",
    "(select zeitschrift, abk, unnest(STRING_TO_ARRAY(issn_manuell, ',')) as issn\n",
    "from project_rewi.jura_groels_tabelle1_allg_zeitschriften jgtaz \n",
    "union \n",
    "select zeitschrift, abk, unnest(STRING_TO_ARRAY(issn_manuell, ',')) as issn \n",
    "from project_rewi.jura_groels_tabelle2_fachspez_zeitschriften jgtfz)) \n",
    ")\n",
    "group by zeitschrift, abk);"
   ]
  },
  {
   "cell_type": "markdown",
   "metadata": {},
   "source": [
    "## <a id=\"coverage-head\"></a> Coverage\n",
    "\n",
    "The following queries append columns for each datasource and append columns indicating ids in the different sources, matching is done based on issn. We also did a manual check afterwards for finding journals that could not be mapped automatically based on issn as a postprocessing step for our first version. \n",
    "In a first step a table for recording the coverage in the given version is created as a copy from the fixed table with all journals from the article."
   ]
  },
  {
   "cell_type": "code",
   "execution_count": 132,
   "metadata": {},
   "outputs": [
    {
     "data": {
      "text/html": [
       "<span style=\"None\">Running query in &#x27;kb_prod&#x27;</span>"
      ],
      "text/plain": [
       "Running query in 'kb_prod'"
      ]
     },
     "metadata": {},
     "output_type": "display_data"
    },
    {
     "data": {
      "text/html": [
       "<span style=\"color: green\">51 rows affected.</span>"
      ],
      "text/plain": [
       "51 rows affected."
      ]
     },
     "metadata": {},
     "output_type": "display_data"
    },
    {
     "data": {
      "text/html": [
       "<table>\n",
       "    <thead>\n",
       "        <tr>\n",
       "        </tr>\n",
       "    </thead>\n",
       "    <tbody>\n",
       "    </tbody>\n",
       "</table>"
      ],
      "text/plain": [
       "++\n",
       "||\n",
       "++\n",
       "++"
      ]
     },
     "execution_count": 132,
     "metadata": {},
     "output_type": "execute_result"
    }
   ],
   "source": [
    "%%sql\n",
    "drop table if exists {{result_schema}}.jura_groels_alle_zeitschriften_{{version_name}};\n",
    "create table {{result_schema}}.jura_groels_alle_zeitschriften_{{version_name}} as (\n",
    "select zeitschrift, abk, issn_list from {{result_schema}}.jura_groels_alle_zeitschriften);\n",
    "commit;"
   ]
  },
  {
   "cell_type": "markdown",
   "metadata": {},
   "source": [
    "### <a id=\"coverage-wos\"></a> Web of Science"
   ]
  },
  {
   "cell_type": "code",
   "execution_count": 133,
   "metadata": {},
   "outputs": [
    {
     "data": {
      "text/html": [
       "<span style=\"None\">Running query in &#x27;kb_prod&#x27;</span>"
      ],
      "text/plain": [
       "Running query in 'kb_prod'"
      ]
     },
     "metadata": {},
     "output_type": "display_data"
    },
    {
     "data": {
      "text/html": [
       "<span style=\"color: green\">51 rows affected.</span>"
      ],
      "text/plain": [
       "51 rows affected."
      ]
     },
     "metadata": {},
     "output_type": "display_data"
    },
    {
     "data": {
      "text/html": [
       "<table>\n",
       "    <thead>\n",
       "        <tr>\n",
       "        </tr>\n",
       "    </thead>\n",
       "    <tbody>\n",
       "    </tbody>\n",
       "</table>"
      ],
      "text/plain": [
       "++\n",
       "||\n",
       "++\n",
       "++"
      ]
     },
     "execution_count": 133,
     "metadata": {},
     "output_type": "execute_result"
    }
   ],
   "source": [
    "%%sql\n",
    "drop table if exists {{result_schema}}.ztab_wos;\n",
    "\n",
    "create table {{result_schema}}.ztab_wos as (\n",
    "select distinct zeitschrift, abk, issn_list, array_agg(i.source_title) as wos_source_title, array_agg(distinct issn) as issn_bdb  \n",
    "from (select zeitschrift, abk, issn_list, unnest(issn_list) as issn from {{result_schema}}.jura_groels_alle_zeitschriften_{{version_name}}) a \n",
    "join {{wos_bdb_schema}}.issn_isbn b \n",
    "on b.sn_c=a.issn\n",
    "join {{wos_bdb_schema}}.items i \n",
    "on i.item_id=b.item_id\n",
    "group by zeitschrift, abk, issn_list); \n",
    "\n",
    "alter table {{result_schema}}.jura_groels_alle_zeitschriften_{{version_name}} add wos_source_title text[];\n",
    "alter table {{result_schema}}.jura_groels_alle_zeitschriften_{{version_name}} add wos_issn text[];\n",
    "update {{result_schema}}.jura_groels_alle_zeitschriften_{{version_name}} a \n",
    "set wos_source_title = (select wos_source_title from {{result_schema}}.ztab_wos where abk=a.abk),\n",
    "wos_issn = (select issn_bdb from {{result_schema}}.ztab_wos where abk=a.abk);\n",
    "\n",
    "drop table if exists {{result_schema}}.ztab_wos;\n",
    "\n",
    "commit;"
   ]
  },
  {
   "cell_type": "markdown",
   "metadata": {},
   "source": [
    "### <a id=\"coverage-scp\"></a>Scopus"
   ]
  },
  {
   "cell_type": "code",
   "execution_count": 134,
   "metadata": {},
   "outputs": [
    {
     "data": {
      "text/html": [
       "<span style=\"None\">Running query in &#x27;kb_prod&#x27;</span>"
      ],
      "text/plain": [
       "Running query in 'kb_prod'"
      ]
     },
     "metadata": {},
     "output_type": "display_data"
    },
    {
     "data": {
      "text/html": [
       "<span style=\"color: green\">3 rows affected.</span>"
      ],
      "text/plain": [
       "3 rows affected."
      ]
     },
     "metadata": {},
     "output_type": "display_data"
    },
    {
     "data": {
      "text/html": [
       "<span style=\"color: green\">51 rows affected.</span>"
      ],
      "text/plain": [
       "51 rows affected."
      ]
     },
     "metadata": {},
     "output_type": "display_data"
    },
    {
     "data": {
      "text/html": [
       "<table>\n",
       "    <thead>\n",
       "        <tr>\n",
       "        </tr>\n",
       "    </thead>\n",
       "    <tbody>\n",
       "    </tbody>\n",
       "</table>"
      ],
      "text/plain": [
       "++\n",
       "||\n",
       "++\n",
       "++"
      ]
     },
     "execution_count": 134,
     "metadata": {},
     "output_type": "execute_result"
    }
   ],
   "source": [
    "%%sql\n",
    "drop table if exists {{result_schema}}.ztab_scp;\n",
    "create table {{result_schema}}.ztab_scp as (\n",
    "select distinct zeitschrift, abk, issn_list, array_agg(distinct issn) as issn_bdb, array_agg(distinct i.scopus_source_id)  as scp_ids\n",
    "from (select zeitschrift, abk, issn_list, unnest(issn_list) as issn from {{result_schema}}.jura_groels_alle_zeitschriften_{{version_name}}) a \n",
    "join {{scopus_bdb_schema}}.issn_isbn b \n",
    "on b.sn_c=a.issn \n",
    "join {{scopus_bdb_schema}}.items i \n",
    "on i.item_id=b.item_id\n",
    "group by zeitschrift, abk, issn_list); \n",
    "\n",
    "alter table {{result_schema}}.jura_groels_alle_zeitschriften_{{version_name}} add scopus_source_id text[];\n",
    "alter table {{result_schema}}.jura_groels_alle_zeitschriften_{{version_name}} add scp_issn text[];\n",
    "update {{result_schema}}.jura_groels_alle_zeitschriften_{{version_name}} a \n",
    "set scopus_source_id = (select scp_ids from {{result_schema}}.ztab_scp where abk=a.abk),\n",
    "scp_issn = (select issn_bdb from {{result_schema}}.ztab_scp where abk=a.abk);\n",
    "\n",
    "drop table if exists {{result_schema}}.ztab_scp;\n",
    "\n",
    "commit;"
   ]
  },
  {
   "cell_type": "markdown",
   "metadata": {},
   "source": [
    "### <a id=\"coverage-crossref\"></a> CrossRef"
   ]
  },
  {
   "cell_type": "markdown",
   "metadata": {},
   "source": [
    "Regular CrossRef Updates and Snapshots are not part of the KB infrastructure so far, therefore we query the CrossRef API for the coverage information. Match is done using ISSN as in the other cases. The date the CrossRef API was queried is set as column comment."
   ]
  },
  {
   "cell_type": "code",
   "execution_count": 135,
   "metadata": {},
   "outputs": [],
   "source": [
    "import json\n",
    "import urllib\n",
    "import urllib.request\n",
    "import datetime\n",
    "\n",
    "today = str(datetime.datetime.now())\n",
    "\n",
    "def get_crossref_journal(issn):\n",
    "    base_url = \"https://api.crossref.org/journals/\"\n",
    "    url = base_url + issn\n",
    "\n",
    "    try:\n",
    "        with urllib.request.urlopen(url) as response:\n",
    "            data = json.loads(response.read().decode())\n",
    "            return data['message']['ISSN']\n",
    "    except urllib.error.HTTPError as e:\n",
    "        # print(f\"HTTP Error {e.code}: {e.reason}\")\n",
    "        return None\n",
    "    except json.JSONDecodeError:\n",
    "        # print(\"Error decoding JSON response\")\n",
    "        return None"
   ]
  },
  {
   "cell_type": "code",
   "execution_count": 136,
   "metadata": {},
   "outputs": [
    {
     "data": {
      "text/html": [
       "<span style=\"None\">Running query in &#x27;kb_prod&#x27;</span>"
      ],
      "text/plain": [
       "Running query in 'kb_prod'"
      ]
     },
     "metadata": {},
     "output_type": "display_data"
    },
    {
     "data": {
      "text/html": [
       "<span style=\"color: green\">51 rows affected.</span>"
      ],
      "text/plain": [
       "51 rows affected."
      ]
     },
     "metadata": {},
     "output_type": "display_data"
    },
    {
     "data": {
      "text/html": [
       "<table>\n",
       "    <thead>\n",
       "        <tr>\n",
       "        </tr>\n",
       "    </thead>\n",
       "    <tbody>\n",
       "    </tbody>\n",
       "</table>"
      ],
      "text/plain": [
       "++\n",
       "||\n",
       "++\n",
       "++"
      ]
     },
     "execution_count": 136,
     "metadata": {},
     "output_type": "execute_result"
    }
   ],
   "source": [
    "%%sql\n",
    "alter table {{result_schema}}.jura_groels_alle_zeitschriften_{{version_name}} add column if not exists crossref_issn text[];\n",
    "update {{result_schema}}.jura_groels_alle_zeitschriften_{{version_name}} set crossref_issn = null;\n",
    "comment on column {{result_schema}}.jura_groels_alle_zeitschriften_{{version_name}}.crossref_issn IS 'Crossref queried {{today}}';\n",
    "commit;"
   ]
  },
  {
   "cell_type": "code",
   "execution_count": 137,
   "metadata": {},
   "outputs": [
    {
     "data": {
      "text/html": [
       "<span style=\"None\">Running query in &#x27;kb_prod&#x27;</span>"
      ],
      "text/plain": [
       "Running query in 'kb_prod'"
      ]
     },
     "metadata": {},
     "output_type": "display_data"
    },
    {
     "data": {
      "text/html": [
       "<span style=\"color: green\">89 rows affected.</span>"
      ],
      "text/plain": [
       "89 rows affected."
      ]
     },
     "metadata": {},
     "output_type": "display_data"
    },
    {
     "name": "stdout",
     "output_type": "stream",
     "text": [
      "(+) issn 2366-097X found in CrossRef! List of CrossRef issn: ['0002-3752', '2366-097X']\n"
     ]
    },
    {
     "data": {
      "text/html": [
       "<span style=\"None\">Running query in &#x27;kb_prod&#x27;</span>"
      ],
      "text/plain": [
       "Running query in 'kb_prod'"
      ]
     },
     "metadata": {},
     "output_type": "display_data"
    },
    {
     "data": {
      "text/html": [
       "<span style=\"color: green\">1 rows affected.</span>"
      ],
      "text/plain": [
       "1 rows affected."
      ]
     },
     "metadata": {},
     "output_type": "display_data"
    },
    {
     "data": {
      "text/html": [
       "<table>\n",
       "    <thead>\n",
       "        <tr>\n",
       "        </tr>\n",
       "    </thead>\n",
       "    <tbody>\n",
       "    </tbody>\n",
       "</table>"
      ],
      "text/plain": [
       "++\n",
       "||\n",
       "++\n",
       "++"
      ]
     },
     "execution_count": 137,
     "metadata": {},
     "output_type": "execute_result"
    },
    {
     "data": {
      "text/html": [
       "<span style=\"None\">Running query in &#x27;kb_prod&#x27;</span>"
      ],
      "text/plain": [
       "Running query in 'kb_prod'"
      ]
     },
     "metadata": {},
     "output_type": "display_data"
    },
    {
     "data": {
      "text/html": [
       "<span style=\"color: green\">1 rows affected.</span>"
      ],
      "text/plain": [
       "1 rows affected."
      ]
     },
     "metadata": {},
     "output_type": "display_data"
    },
    {
     "data": {
      "text/html": [
       "<table>\n",
       "    <thead>\n",
       "        <tr>\n",
       "        </tr>\n",
       "    </thead>\n",
       "    <tbody>\n",
       "    </tbody>\n",
       "</table>"
      ],
      "text/plain": [
       "++\n",
       "||\n",
       "++\n",
       "++"
      ]
     },
     "execution_count": 137,
     "metadata": {},
     "output_type": "execute_result"
    },
    {
     "name": "stdout",
     "output_type": "stream",
     "text": [
      "(+) issn 0002-3752 found in CrossRef! List of CrossRef issn: ['0002-3752', '2366-097X']\n"
     ]
    },
    {
     "data": {
      "text/html": [
       "<span style=\"None\">Running query in &#x27;kb_prod&#x27;</span>"
      ],
      "text/plain": [
       "Running query in 'kb_prod'"
      ]
     },
     "metadata": {},
     "output_type": "display_data"
    },
    {
     "data": {
      "text/html": [
       "<table>\n",
       "    <thead>\n",
       "        <tr>\n",
       "        </tr>\n",
       "    </thead>\n",
       "    <tbody>\n",
       "    </tbody>\n",
       "</table>"
      ],
      "text/plain": [
       "++\n",
       "||\n",
       "++\n",
       "++"
      ]
     },
     "execution_count": 137,
     "metadata": {},
     "output_type": "execute_result"
    },
    {
     "data": {
      "text/html": [
       "<span style=\"None\">Running query in &#x27;kb_prod&#x27;</span>"
      ],
      "text/plain": [
       "Running query in 'kb_prod'"
      ]
     },
     "metadata": {},
     "output_type": "display_data"
    },
    {
     "data": {
      "text/html": [
       "<table>\n",
       "    <thead>\n",
       "        <tr>\n",
       "        </tr>\n",
       "    </thead>\n",
       "    <tbody>\n",
       "    </tbody>\n",
       "</table>"
      ],
      "text/plain": [
       "++\n",
       "||\n",
       "++\n",
       "++"
      ]
     },
     "execution_count": 137,
     "metadata": {},
     "output_type": "execute_result"
    },
    {
     "name": "stdout",
     "output_type": "stream",
     "text": [
      "(-) issn 1611-1915 not found in CrossRef\n",
      "(+) issn 0042-4501 found in CrossRef! List of CrossRef issn: ['0042-4501', '2366-1992']\n"
     ]
    },
    {
     "data": {
      "text/html": [
       "<span style=\"None\">Running query in &#x27;kb_prod&#x27;</span>"
      ],
      "text/plain": [
       "Running query in 'kb_prod'"
      ]
     },
     "metadata": {},
     "output_type": "display_data"
    },
    {
     "data": {
      "text/html": [
       "<span style=\"color: green\">1 rows affected.</span>"
      ],
      "text/plain": [
       "1 rows affected."
      ]
     },
     "metadata": {},
     "output_type": "display_data"
    },
    {
     "data": {
      "text/html": [
       "<table>\n",
       "    <thead>\n",
       "        <tr>\n",
       "        </tr>\n",
       "    </thead>\n",
       "    <tbody>\n",
       "    </tbody>\n",
       "</table>"
      ],
      "text/plain": [
       "++\n",
       "||\n",
       "++\n",
       "++"
      ]
     },
     "execution_count": 137,
     "metadata": {},
     "output_type": "execute_result"
    },
    {
     "data": {
      "text/html": [
       "<span style=\"None\">Running query in &#x27;kb_prod&#x27;</span>"
      ],
      "text/plain": [
       "Running query in 'kb_prod'"
      ]
     },
     "metadata": {},
     "output_type": "display_data"
    },
    {
     "data": {
      "text/html": [
       "<span style=\"color: green\">1 rows affected.</span>"
      ],
      "text/plain": [
       "1 rows affected."
      ]
     },
     "metadata": {},
     "output_type": "display_data"
    },
    {
     "data": {
      "text/html": [
       "<table>\n",
       "    <thead>\n",
       "        <tr>\n",
       "        </tr>\n",
       "    </thead>\n",
       "    <tbody>\n",
       "    </tbody>\n",
       "</table>"
      ],
      "text/plain": [
       "++\n",
       "||\n",
       "++\n",
       "++"
      ]
     },
     "execution_count": 137,
     "metadata": {},
     "output_type": "execute_result"
    },
    {
     "name": "stdout",
     "output_type": "stream",
     "text": [
      "(+) issn 0531-2485 found in CrossRef! List of CrossRef issn: ['0531-2485']\n"
     ]
    },
    {
     "data": {
      "text/html": [
       "<span style=\"None\">Running query in &#x27;kb_prod&#x27;</span>"
      ],
      "text/plain": [
       "Running query in 'kb_prod'"
      ]
     },
     "metadata": {},
     "output_type": "display_data"
    },
    {
     "data": {
      "text/html": [
       "<span style=\"color: green\">1 rows affected.</span>"
      ],
      "text/plain": [
       "1 rows affected."
      ]
     },
     "metadata": {},
     "output_type": "display_data"
    },
    {
     "data": {
      "text/html": [
       "<table>\n",
       "    <thead>\n",
       "        <tr>\n",
       "        </tr>\n",
       "    </thead>\n",
       "    <tbody>\n",
       "    </tbody>\n",
       "</table>"
      ],
      "text/plain": [
       "++\n",
       "||\n",
       "++\n",
       "++"
      ]
     },
     "execution_count": 137,
     "metadata": {},
     "output_type": "execute_result"
    },
    {
     "name": "stdout",
     "output_type": "stream",
     "text": [
      "(-) issn 2942-3198 not found in CrossRef\n",
      "(+) issn 1612-7048 found in CrossRef! List of CrossRef issn: ['0340-2479', '1612-7048']\n"
     ]
    },
    {
     "data": {
      "text/html": [
       "<span style=\"None\">Running query in &#x27;kb_prod&#x27;</span>"
      ],
      "text/plain": [
       "Running query in 'kb_prod'"
      ]
     },
     "metadata": {},
     "output_type": "display_data"
    },
    {
     "data": {
      "text/html": [
       "<span style=\"color: green\">1 rows affected.</span>"
      ],
      "text/plain": [
       "1 rows affected."
      ]
     },
     "metadata": {},
     "output_type": "display_data"
    },
    {
     "data": {
      "text/html": [
       "<table>\n",
       "    <thead>\n",
       "        <tr>\n",
       "        </tr>\n",
       "    </thead>\n",
       "    <tbody>\n",
       "    </tbody>\n",
       "</table>"
      ],
      "text/plain": [
       "++\n",
       "||\n",
       "++\n",
       "++"
      ]
     },
     "execution_count": 137,
     "metadata": {},
     "output_type": "execute_result"
    },
    {
     "data": {
      "text/html": [
       "<span style=\"None\">Running query in &#x27;kb_prod&#x27;</span>"
      ],
      "text/plain": [
       "Running query in 'kb_prod'"
      ]
     },
     "metadata": {},
     "output_type": "display_data"
    },
    {
     "data": {
      "text/html": [
       "<span style=\"color: green\">1 rows affected.</span>"
      ],
      "text/plain": [
       "1 rows affected."
      ]
     },
     "metadata": {},
     "output_type": "display_data"
    },
    {
     "data": {
      "text/html": [
       "<table>\n",
       "    <thead>\n",
       "        <tr>\n",
       "        </tr>\n",
       "    </thead>\n",
       "    <tbody>\n",
       "    </tbody>\n",
       "</table>"
      ],
      "text/plain": [
       "++\n",
       "||\n",
       "++\n",
       "++"
      ]
     },
     "execution_count": 137,
     "metadata": {},
     "output_type": "execute_result"
    },
    {
     "name": "stdout",
     "output_type": "stream",
     "text": [
      "(+) issn 0340-2479 found in CrossRef! List of CrossRef issn: ['0340-2479', '1612-7048']\n"
     ]
    },
    {
     "data": {
      "text/html": [
       "<span style=\"None\">Running query in &#x27;kb_prod&#x27;</span>"
      ],
      "text/plain": [
       "Running query in 'kb_prod'"
      ]
     },
     "metadata": {},
     "output_type": "display_data"
    },
    {
     "data": {
      "text/html": [
       "<table>\n",
       "    <thead>\n",
       "        <tr>\n",
       "        </tr>\n",
       "    </thead>\n",
       "    <tbody>\n",
       "    </tbody>\n",
       "</table>"
      ],
      "text/plain": [
       "++\n",
       "||\n",
       "++\n",
       "++"
      ]
     },
     "execution_count": 137,
     "metadata": {},
     "output_type": "execute_result"
    },
    {
     "data": {
      "text/html": [
       "<span style=\"None\">Running query in &#x27;kb_prod&#x27;</span>"
      ],
      "text/plain": [
       "Running query in 'kb_prod'"
      ]
     },
     "metadata": {},
     "output_type": "display_data"
    },
    {
     "data": {
      "text/html": [
       "<table>\n",
       "    <thead>\n",
       "        <tr>\n",
       "        </tr>\n",
       "    </thead>\n",
       "    <tbody>\n",
       "    </tbody>\n",
       "</table>"
      ],
      "text/plain": [
       "++\n",
       "||\n",
       "++\n",
       "++"
      ]
     },
     "execution_count": 137,
     "metadata": {},
     "output_type": "execute_result"
    },
    {
     "name": "stdout",
     "output_type": "stream",
     "text": [
      "(-) issn 1868-7121 not found in CrossRef\n",
      "(+) issn 0003-892X found in CrossRef! List of CrossRef issn: ['0003-892X']\n"
     ]
    },
    {
     "data": {
      "text/html": [
       "<span style=\"None\">Running query in &#x27;kb_prod&#x27;</span>"
      ],
      "text/plain": [
       "Running query in 'kb_prod'"
      ]
     },
     "metadata": {},
     "output_type": "display_data"
    },
    {
     "data": {
      "text/html": [
       "<span style=\"color: green\">1 rows affected.</span>"
      ],
      "text/plain": [
       "1 rows affected."
      ]
     },
     "metadata": {},
     "output_type": "display_data"
    },
    {
     "data": {
      "text/html": [
       "<table>\n",
       "    <thead>\n",
       "        <tr>\n",
       "        </tr>\n",
       "    </thead>\n",
       "    <tbody>\n",
       "    </tbody>\n",
       "</table>"
      ],
      "text/plain": [
       "++\n",
       "||\n",
       "++\n",
       "++"
      ]
     },
     "execution_count": 137,
     "metadata": {},
     "output_type": "execute_result"
    },
    {
     "name": "stdout",
     "output_type": "stream",
     "text": [
      "(+) issn 0342-328X found in CrossRef! List of CrossRef issn: ['0342-328X', '2366-2042']\n"
     ]
    },
    {
     "data": {
      "text/html": [
       "<span style=\"None\">Running query in &#x27;kb_prod&#x27;</span>"
      ],
      "text/plain": [
       "Running query in 'kb_prod'"
      ]
     },
     "metadata": {},
     "output_type": "display_data"
    },
    {
     "data": {
      "text/html": [
       "<span style=\"color: green\">1 rows affected.</span>"
      ],
      "text/plain": [
       "1 rows affected."
      ]
     },
     "metadata": {},
     "output_type": "display_data"
    },
    {
     "data": {
      "text/html": [
       "<table>\n",
       "    <thead>\n",
       "        <tr>\n",
       "        </tr>\n",
       "    </thead>\n",
       "    <tbody>\n",
       "    </tbody>\n",
       "</table>"
      ],
      "text/plain": [
       "++\n",
       "||\n",
       "++\n",
       "++"
      ]
     },
     "execution_count": 137,
     "metadata": {},
     "output_type": "execute_result"
    },
    {
     "data": {
      "text/html": [
       "<span style=\"None\">Running query in &#x27;kb_prod&#x27;</span>"
      ],
      "text/plain": [
       "Running query in 'kb_prod'"
      ]
     },
     "metadata": {},
     "output_type": "display_data"
    },
    {
     "data": {
      "text/html": [
       "<span style=\"color: green\">1 rows affected.</span>"
      ],
      "text/plain": [
       "1 rows affected."
      ]
     },
     "metadata": {},
     "output_type": "display_data"
    },
    {
     "data": {
      "text/html": [
       "<table>\n",
       "    <thead>\n",
       "        <tr>\n",
       "        </tr>\n",
       "    </thead>\n",
       "    <tbody>\n",
       "    </tbody>\n",
       "</table>"
      ],
      "text/plain": [
       "++\n",
       "||\n",
       "++\n",
       "++"
      ]
     },
     "execution_count": 137,
     "metadata": {},
     "output_type": "execute_result"
    },
    {
     "name": "stdout",
     "output_type": "stream",
     "text": [
      "(-) issn 0943-7525 not found in CrossRef\n",
      "(+) issn 0340-1812 found in CrossRef! List of CrossRef issn: ['0340-1812', '2194-4202']\n"
     ]
    },
    {
     "data": {
      "text/html": [
       "<span style=\"None\">Running query in &#x27;kb_prod&#x27;</span>"
      ],
      "text/plain": [
       "Running query in 'kb_prod'"
      ]
     },
     "metadata": {},
     "output_type": "display_data"
    },
    {
     "data": {
      "text/html": [
       "<span style=\"color: green\">1 rows affected.</span>"
      ],
      "text/plain": [
       "1 rows affected."
      ]
     },
     "metadata": {},
     "output_type": "display_data"
    },
    {
     "data": {
      "text/html": [
       "<table>\n",
       "    <thead>\n",
       "        <tr>\n",
       "        </tr>\n",
       "    </thead>\n",
       "    <tbody>\n",
       "    </tbody>\n",
       "</table>"
      ],
      "text/plain": [
       "++\n",
       "||\n",
       "++\n",
       "++"
      ]
     },
     "execution_count": 137,
     "metadata": {},
     "output_type": "execute_result"
    },
    {
     "data": {
      "text/html": [
       "<span style=\"None\">Running query in &#x27;kb_prod&#x27;</span>"
      ],
      "text/plain": [
       "Running query in 'kb_prod'"
      ]
     },
     "metadata": {},
     "output_type": "display_data"
    },
    {
     "data": {
      "text/html": [
       "<span style=\"color: green\">1 rows affected.</span>"
      ],
      "text/plain": [
       "1 rows affected."
      ]
     },
     "metadata": {},
     "output_type": "display_data"
    },
    {
     "data": {
      "text/html": [
       "<table>\n",
       "    <thead>\n",
       "        <tr>\n",
       "        </tr>\n",
       "    </thead>\n",
       "    <tbody>\n",
       "    </tbody>\n",
       "</table>"
      ],
      "text/plain": [
       "++\n",
       "||\n",
       "++\n",
       "++"
      ]
     },
     "execution_count": 137,
     "metadata": {},
     "output_type": "execute_result"
    },
    {
     "name": "stdout",
     "output_type": "stream",
     "text": [
      "(+) issn 2194-4202 found in CrossRef! List of CrossRef issn: ['0340-1812', '2194-4202']\n"
     ]
    },
    {
     "data": {
      "text/html": [
       "<span style=\"None\">Running query in &#x27;kb_prod&#x27;</span>"
      ],
      "text/plain": [
       "Running query in 'kb_prod'"
      ]
     },
     "metadata": {},
     "output_type": "display_data"
    },
    {
     "data": {
      "text/html": [
       "<table>\n",
       "    <thead>\n",
       "        <tr>\n",
       "        </tr>\n",
       "    </thead>\n",
       "    <tbody>\n",
       "    </tbody>\n",
       "</table>"
      ],
      "text/plain": [
       "++\n",
       "||\n",
       "++\n",
       "++"
      ]
     },
     "execution_count": 137,
     "metadata": {},
     "output_type": "execute_result"
    },
    {
     "data": {
      "text/html": [
       "<span style=\"None\">Running query in &#x27;kb_prod&#x27;</span>"
      ],
      "text/plain": [
       "Running query in 'kb_prod'"
      ]
     },
     "metadata": {},
     "output_type": "display_data"
    },
    {
     "data": {
      "text/html": [
       "<table>\n",
       "    <thead>\n",
       "        <tr>\n",
       "        </tr>\n",
       "    </thead>\n",
       "    <tbody>\n",
       "    </tbody>\n",
       "</table>"
      ],
      "text/plain": [
       "++\n",
       "||\n",
       "++\n",
       "++"
      ]
     },
     "execution_count": 137,
     "metadata": {},
     "output_type": "execute_result"
    },
    {
     "name": "stdout",
     "output_type": "stream",
     "text": [
      "(-) issn 2942-3295 not found in CrossRef\n",
      "(+) issn 0023-4834 found in CrossRef! List of CrossRef issn: ['0023-4834']\n"
     ]
    },
    {
     "data": {
      "text/html": [
       "<span style=\"None\">Running query in &#x27;kb_prod&#x27;</span>"
      ],
      "text/plain": [
       "Running query in 'kb_prod'"
      ]
     },
     "metadata": {},
     "output_type": "display_data"
    },
    {
     "data": {
      "text/html": [
       "<span style=\"color: green\">1 rows affected.</span>"
      ],
      "text/plain": [
       "1 rows affected."
      ]
     },
     "metadata": {},
     "output_type": "display_data"
    },
    {
     "data": {
      "text/html": [
       "<table>\n",
       "    <thead>\n",
       "        <tr>\n",
       "        </tr>\n",
       "    </thead>\n",
       "    <tbody>\n",
       "    </tbody>\n",
       "</table>"
      ],
      "text/plain": [
       "++\n",
       "||\n",
       "++\n",
       "++"
      ]
     },
     "execution_count": 137,
     "metadata": {},
     "output_type": "execute_result"
    },
    {
     "name": "stdout",
     "output_type": "stream",
     "text": [
      "(+) issn 0022-6882 found in CrossRef! List of CrossRef issn: ['0022-6882', '0000-0000']\n"
     ]
    },
    {
     "data": {
      "text/html": [
       "<span style=\"None\">Running query in &#x27;kb_prod&#x27;</span>"
      ],
      "text/plain": [
       "Running query in 'kb_prod'"
      ]
     },
     "metadata": {},
     "output_type": "display_data"
    },
    {
     "data": {
      "text/html": [
       "<span style=\"color: green\">1 rows affected.</span>"
      ],
      "text/plain": [
       "1 rows affected."
      ]
     },
     "metadata": {},
     "output_type": "display_data"
    },
    {
     "data": {
      "text/html": [
       "<table>\n",
       "    <thead>\n",
       "        <tr>\n",
       "        </tr>\n",
       "    </thead>\n",
       "    <tbody>\n",
       "    </tbody>\n",
       "</table>"
      ],
      "text/plain": [
       "++\n",
       "||\n",
       "++\n",
       "++"
      ]
     },
     "execution_count": 137,
     "metadata": {},
     "output_type": "execute_result"
    },
    {
     "data": {
      "text/html": [
       "<span style=\"None\">Running query in &#x27;kb_prod&#x27;</span>"
      ],
      "text/plain": [
       "Running query in 'kb_prod'"
      ]
     },
     "metadata": {},
     "output_type": "display_data"
    },
    {
     "data": {
      "text/html": [
       "<span style=\"color: green\">1 rows affected.</span>"
      ],
      "text/plain": [
       "1 rows affected."
      ]
     },
     "metadata": {},
     "output_type": "display_data"
    },
    {
     "data": {
      "text/html": [
       "<table>\n",
       "    <thead>\n",
       "        <tr>\n",
       "        </tr>\n",
       "    </thead>\n",
       "    <tbody>\n",
       "    </tbody>\n",
       "</table>"
      ],
      "text/plain": [
       "++\n",
       "||\n",
       "++\n",
       "++"
      ]
     },
     "execution_count": 137,
     "metadata": {},
     "output_type": "execute_result"
    },
    {
     "name": "stdout",
     "output_type": "stream",
     "text": [
      "(-) issn 1868-7067 not found in CrossRef\n",
      "(-) issn 0947-0581 not found in CrossRef\n",
      "(-) issn 0340-7918 not found in CrossRef\n",
      "(-) issn 0723-9416 not found in CrossRef\n",
      "(-) issn 2750-2767 not found in CrossRef\n",
      "(-) issn 0341-9800 not found in CrossRef\n",
      "(-) issn 2942-0598 not found in CrossRef\n",
      "(-) issn 0003-7648 not found in CrossRef\n",
      "(-) issn 0044-2437 not found in CrossRef\n",
      "(-) issn 0044-2410 not found in CrossRef\n",
      "(-) issn 0720-1753 not found in CrossRef\n",
      "(-) issn 0721-6890 not found in CrossRef\n",
      "(-) issn 0012-1347 not found in CrossRef\n",
      "(-) issn 0949-7676 not found in CrossRef\n",
      "(-) issn 0022-6904 not found in CrossRef\n",
      "(-) issn 0005-9935 not found in CrossRef\n",
      "(-) issn 0341-1915 not found in CrossRef\n",
      "(-) issn 0341-1907 not found in CrossRef\n",
      "(-) issn 0022-6939 not found in CrossRef\n",
      "(-) issn 1438-468X not found in CrossRef\n",
      "(-) issn 2366-1062 not found in CrossRef\n",
      "(-) issn 0016-3570 not found in CrossRef\n",
      "(+) issn 2366-2166 found in CrossRef! List of CrossRef issn: ['0720-1605', '2366-2166']\n"
     ]
    },
    {
     "data": {
      "text/html": [
       "<span style=\"None\">Running query in &#x27;kb_prod&#x27;</span>"
      ],
      "text/plain": [
       "Running query in 'kb_prod'"
      ]
     },
     "metadata": {},
     "output_type": "display_data"
    },
    {
     "data": {
      "text/html": [
       "<span style=\"color: green\">1 rows affected.</span>"
      ],
      "text/plain": [
       "1 rows affected."
      ]
     },
     "metadata": {},
     "output_type": "display_data"
    },
    {
     "data": {
      "text/html": [
       "<table>\n",
       "    <thead>\n",
       "        <tr>\n",
       "        </tr>\n",
       "    </thead>\n",
       "    <tbody>\n",
       "    </tbody>\n",
       "</table>"
      ],
      "text/plain": [
       "++\n",
       "||\n",
       "++\n",
       "++"
      ]
     },
     "execution_count": 137,
     "metadata": {},
     "output_type": "execute_result"
    },
    {
     "data": {
      "text/html": [
       "<span style=\"None\">Running query in &#x27;kb_prod&#x27;</span>"
      ],
      "text/plain": [
       "Running query in 'kb_prod'"
      ]
     },
     "metadata": {},
     "output_type": "display_data"
    },
    {
     "data": {
      "text/html": [
       "<span style=\"color: green\">1 rows affected.</span>"
      ],
      "text/plain": [
       "1 rows affected."
      ]
     },
     "metadata": {},
     "output_type": "display_data"
    },
    {
     "data": {
      "text/html": [
       "<table>\n",
       "    <thead>\n",
       "        <tr>\n",
       "        </tr>\n",
       "    </thead>\n",
       "    <tbody>\n",
       "    </tbody>\n",
       "</table>"
      ],
      "text/plain": [
       "++\n",
       "||\n",
       "++\n",
       "++"
      ]
     },
     "execution_count": 137,
     "metadata": {},
     "output_type": "execute_result"
    },
    {
     "name": "stdout",
     "output_type": "stream",
     "text": [
      "(+) issn 0720-1605 found in CrossRef! List of CrossRef issn: ['0720-1605', '2366-2166']\n"
     ]
    },
    {
     "data": {
      "text/html": [
       "<span style=\"None\">Running query in &#x27;kb_prod&#x27;</span>"
      ],
      "text/plain": [
       "Running query in 'kb_prod'"
      ]
     },
     "metadata": {},
     "output_type": "display_data"
    },
    {
     "data": {
      "text/html": [
       "<table>\n",
       "    <thead>\n",
       "        <tr>\n",
       "        </tr>\n",
       "    </thead>\n",
       "    <tbody>\n",
       "    </tbody>\n",
       "</table>"
      ],
      "text/plain": [
       "++\n",
       "||\n",
       "++\n",
       "++"
      ]
     },
     "execution_count": 137,
     "metadata": {},
     "output_type": "execute_result"
    },
    {
     "data": {
      "text/html": [
       "<span style=\"None\">Running query in &#x27;kb_prod&#x27;</span>"
      ],
      "text/plain": [
       "Running query in 'kb_prod'"
      ]
     },
     "metadata": {},
     "output_type": "display_data"
    },
    {
     "data": {
      "text/html": [
       "<table>\n",
       "    <thead>\n",
       "        <tr>\n",
       "        </tr>\n",
       "    </thead>\n",
       "    <tbody>\n",
       "    </tbody>\n",
       "</table>"
      ],
      "text/plain": [
       "++\n",
       "||\n",
       "++\n",
       "++"
      ]
     },
     "execution_count": 137,
     "metadata": {},
     "output_type": "execute_result"
    },
    {
     "name": "stdout",
     "output_type": "stream",
     "text": [
      "(+) issn 1612-7021 found in CrossRef! List of CrossRef issn: ['0170-1452', '1612-7021']\n"
     ]
    },
    {
     "data": {
      "text/html": [
       "<span style=\"None\">Running query in &#x27;kb_prod&#x27;</span>"
      ],
      "text/plain": [
       "Running query in 'kb_prod'"
      ]
     },
     "metadata": {},
     "output_type": "display_data"
    },
    {
     "data": {
      "text/html": [
       "<span style=\"color: green\">1 rows affected.</span>"
      ],
      "text/plain": [
       "1 rows affected."
      ]
     },
     "metadata": {},
     "output_type": "display_data"
    },
    {
     "data": {
      "text/html": [
       "<table>\n",
       "    <thead>\n",
       "        <tr>\n",
       "        </tr>\n",
       "    </thead>\n",
       "    <tbody>\n",
       "    </tbody>\n",
       "</table>"
      ],
      "text/plain": [
       "++\n",
       "||\n",
       "++\n",
       "++"
      ]
     },
     "execution_count": 137,
     "metadata": {},
     "output_type": "execute_result"
    },
    {
     "data": {
      "text/html": [
       "<span style=\"None\">Running query in &#x27;kb_prod&#x27;</span>"
      ],
      "text/plain": [
       "Running query in 'kb_prod'"
      ]
     },
     "metadata": {},
     "output_type": "display_data"
    },
    {
     "data": {
      "text/html": [
       "<span style=\"color: green\">1 rows affected.</span>"
      ],
      "text/plain": [
       "1 rows affected."
      ]
     },
     "metadata": {},
     "output_type": "display_data"
    },
    {
     "data": {
      "text/html": [
       "<table>\n",
       "    <thead>\n",
       "        <tr>\n",
       "        </tr>\n",
       "    </thead>\n",
       "    <tbody>\n",
       "    </tbody>\n",
       "</table>"
      ],
      "text/plain": [
       "++\n",
       "||\n",
       "++\n",
       "++"
      ]
     },
     "execution_count": 137,
     "metadata": {},
     "output_type": "execute_result"
    },
    {
     "name": "stdout",
     "output_type": "stream",
     "text": [
      "(+) issn 0170-1452 found in CrossRef! List of CrossRef issn: ['0170-1452', '1612-7021']\n"
     ]
    },
    {
     "data": {
      "text/html": [
       "<span style=\"None\">Running query in &#x27;kb_prod&#x27;</span>"
      ],
      "text/plain": [
       "Running query in 'kb_prod'"
      ]
     },
     "metadata": {},
     "output_type": "display_data"
    },
    {
     "data": {
      "text/html": [
       "<table>\n",
       "    <thead>\n",
       "        <tr>\n",
       "        </tr>\n",
       "    </thead>\n",
       "    <tbody>\n",
       "    </tbody>\n",
       "</table>"
      ],
      "text/plain": [
       "++\n",
       "||\n",
       "++\n",
       "++"
      ]
     },
     "execution_count": 137,
     "metadata": {},
     "output_type": "execute_result"
    },
    {
     "data": {
      "text/html": [
       "<span style=\"None\">Running query in &#x27;kb_prod&#x27;</span>"
      ],
      "text/plain": [
       "Running query in 'kb_prod'"
      ]
     },
     "metadata": {},
     "output_type": "display_data"
    },
    {
     "data": {
      "text/html": [
       "<table>\n",
       "    <thead>\n",
       "        <tr>\n",
       "        </tr>\n",
       "    </thead>\n",
       "    <tbody>\n",
       "    </tbody>\n",
       "</table>"
      ],
      "text/plain": [
       "++\n",
       "||\n",
       "++\n",
       "++"
      ]
     },
     "execution_count": 137,
     "metadata": {},
     "output_type": "execute_result"
    },
    {
     "name": "stdout",
     "output_type": "stream",
     "text": [
      "(+) issn 0003-8911 found in CrossRef! List of CrossRef issn: ['0003-8911']\n"
     ]
    },
    {
     "data": {
      "text/html": [
       "<span style=\"None\">Running query in &#x27;kb_prod&#x27;</span>"
      ],
      "text/plain": [
       "Running query in 'kb_prod'"
      ]
     },
     "metadata": {},
     "output_type": "display_data"
    },
    {
     "data": {
      "text/html": [
       "<span style=\"color: green\">1 rows affected.</span>"
      ],
      "text/plain": [
       "1 rows affected."
      ]
     },
     "metadata": {},
     "output_type": "display_data"
    },
    {
     "data": {
      "text/html": [
       "<table>\n",
       "    <thead>\n",
       "        <tr>\n",
       "        </tr>\n",
       "    </thead>\n",
       "    <tbody>\n",
       "    </tbody>\n",
       "</table>"
      ],
      "text/plain": [
       "++\n",
       "||\n",
       "++\n",
       "++"
      ]
     },
     "execution_count": 137,
     "metadata": {},
     "output_type": "execute_result"
    },
    {
     "name": "stdout",
     "output_type": "stream",
     "text": [
      "(-) issn 1868-6796 not found in CrossRef\n",
      "(+) issn 2304-4934 found in CrossRef! List of CrossRef issn: ['0323-4096', '2304-4934']\n"
     ]
    },
    {
     "data": {
      "text/html": [
       "<span style=\"None\">Running query in &#x27;kb_prod&#x27;</span>"
      ],
      "text/plain": [
       "Running query in 'kb_prod'"
      ]
     },
     "metadata": {},
     "output_type": "display_data"
    },
    {
     "data": {
      "text/html": [
       "<span style=\"color: green\">1 rows affected.</span>"
      ],
      "text/plain": [
       "1 rows affected."
      ]
     },
     "metadata": {},
     "output_type": "display_data"
    },
    {
     "data": {
      "text/html": [
       "<table>\n",
       "    <thead>\n",
       "        <tr>\n",
       "        </tr>\n",
       "    </thead>\n",
       "    <tbody>\n",
       "    </tbody>\n",
       "</table>"
      ],
      "text/plain": [
       "++\n",
       "||\n",
       "++\n",
       "++"
      ]
     },
     "execution_count": 137,
     "metadata": {},
     "output_type": "execute_result"
    },
    {
     "data": {
      "text/html": [
       "<span style=\"None\">Running query in &#x27;kb_prod&#x27;</span>"
      ],
      "text/plain": [
       "Running query in 'kb_prod'"
      ]
     },
     "metadata": {},
     "output_type": "display_data"
    },
    {
     "data": {
      "text/html": [
       "<span style=\"color: green\">1 rows affected.</span>"
      ],
      "text/plain": [
       "1 rows affected."
      ]
     },
     "metadata": {},
     "output_type": "display_data"
    },
    {
     "data": {
      "text/html": [
       "<table>\n",
       "    <thead>\n",
       "        <tr>\n",
       "        </tr>\n",
       "    </thead>\n",
       "    <tbody>\n",
       "    </tbody>\n",
       "</table>"
      ],
      "text/plain": [
       "++\n",
       "||\n",
       "++\n",
       "++"
      ]
     },
     "execution_count": 137,
     "metadata": {},
     "output_type": "execute_result"
    },
    {
     "name": "stdout",
     "output_type": "stream",
     "text": [
      "(+) issn 0323-4096 found in CrossRef! List of CrossRef issn: ['0323-4096', '2304-4934']\n"
     ]
    },
    {
     "data": {
      "text/html": [
       "<span style=\"None\">Running query in &#x27;kb_prod&#x27;</span>"
      ],
      "text/plain": [
       "Running query in 'kb_prod'"
      ]
     },
     "metadata": {},
     "output_type": "display_data"
    },
    {
     "data": {
      "text/html": [
       "<table>\n",
       "    <thead>\n",
       "        <tr>\n",
       "        </tr>\n",
       "    </thead>\n",
       "    <tbody>\n",
       "    </tbody>\n",
       "</table>"
      ],
      "text/plain": [
       "++\n",
       "||\n",
       "++\n",
       "++"
      ]
     },
     "execution_count": 137,
     "metadata": {},
     "output_type": "execute_result"
    },
    {
     "data": {
      "text/html": [
       "<span style=\"None\">Running query in &#x27;kb_prod&#x27;</span>"
      ],
      "text/plain": [
       "Running query in 'kb_prod'"
      ]
     },
     "metadata": {},
     "output_type": "display_data"
    },
    {
     "data": {
      "text/html": [
       "<table>\n",
       "    <thead>\n",
       "        <tr>\n",
       "        </tr>\n",
       "    </thead>\n",
       "    <tbody>\n",
       "    </tbody>\n",
       "</table>"
      ],
      "text/plain": [
       "++\n",
       "||\n",
       "++\n",
       "++"
      ]
     },
     "execution_count": 137,
     "metadata": {},
     "output_type": "execute_result"
    },
    {
     "name": "stdout",
     "output_type": "stream",
     "text": [
      "(+) issn 2304-4861 found in CrossRef! List of CrossRef issn: ['0323-4045', '2304-4861']\n"
     ]
    },
    {
     "data": {
      "text/html": [
       "<span style=\"None\">Running query in &#x27;kb_prod&#x27;</span>"
      ],
      "text/plain": [
       "Running query in 'kb_prod'"
      ]
     },
     "metadata": {},
     "output_type": "display_data"
    },
    {
     "data": {
      "text/html": [
       "<span style=\"color: green\">1 rows affected.</span>"
      ],
      "text/plain": [
       "1 rows affected."
      ]
     },
     "metadata": {},
     "output_type": "display_data"
    },
    {
     "data": {
      "text/html": [
       "<table>\n",
       "    <thead>\n",
       "        <tr>\n",
       "        </tr>\n",
       "    </thead>\n",
       "    <tbody>\n",
       "    </tbody>\n",
       "</table>"
      ],
      "text/plain": [
       "++\n",
       "||\n",
       "++\n",
       "++"
      ]
     },
     "execution_count": 137,
     "metadata": {},
     "output_type": "execute_result"
    },
    {
     "data": {
      "text/html": [
       "<span style=\"None\">Running query in &#x27;kb_prod&#x27;</span>"
      ],
      "text/plain": [
       "Running query in 'kb_prod'"
      ]
     },
     "metadata": {},
     "output_type": "display_data"
    },
    {
     "data": {
      "text/html": [
       "<span style=\"color: green\">1 rows affected.</span>"
      ],
      "text/plain": [
       "1 rows affected."
      ]
     },
     "metadata": {},
     "output_type": "display_data"
    },
    {
     "data": {
      "text/html": [
       "<table>\n",
       "    <thead>\n",
       "        <tr>\n",
       "        </tr>\n",
       "    </thead>\n",
       "    <tbody>\n",
       "    </tbody>\n",
       "</table>"
      ],
      "text/plain": [
       "++\n",
       "||\n",
       "++\n",
       "++"
      ]
     },
     "execution_count": 137,
     "metadata": {},
     "output_type": "execute_result"
    },
    {
     "name": "stdout",
     "output_type": "stream",
     "text": [
      "(+) issn 0323-4142 found in CrossRef! List of CrossRef issn: ['0323-4142', '2304-4896']\n"
     ]
    },
    {
     "data": {
      "text/html": [
       "<span style=\"None\">Running query in &#x27;kb_prod&#x27;</span>"
      ],
      "text/plain": [
       "Running query in 'kb_prod'"
      ]
     },
     "metadata": {},
     "output_type": "display_data"
    },
    {
     "data": {
      "text/html": [
       "<span style=\"color: green\">1 rows affected.</span>"
      ],
      "text/plain": [
       "1 rows affected."
      ]
     },
     "metadata": {},
     "output_type": "display_data"
    },
    {
     "data": {
      "text/html": [
       "<table>\n",
       "    <thead>\n",
       "        <tr>\n",
       "        </tr>\n",
       "    </thead>\n",
       "    <tbody>\n",
       "    </tbody>\n",
       "</table>"
      ],
      "text/plain": [
       "++\n",
       "||\n",
       "++\n",
       "++"
      ]
     },
     "execution_count": 137,
     "metadata": {},
     "output_type": "execute_result"
    },
    {
     "data": {
      "text/html": [
       "<span style=\"None\">Running query in &#x27;kb_prod&#x27;</span>"
      ],
      "text/plain": [
       "Running query in 'kb_prod'"
      ]
     },
     "metadata": {},
     "output_type": "display_data"
    },
    {
     "data": {
      "text/html": [
       "<span style=\"color: green\">1 rows affected.</span>"
      ],
      "text/plain": [
       "1 rows affected."
      ]
     },
     "metadata": {},
     "output_type": "display_data"
    },
    {
     "data": {
      "text/html": [
       "<table>\n",
       "    <thead>\n",
       "        <tr>\n",
       "        </tr>\n",
       "    </thead>\n",
       "    <tbody>\n",
       "    </tbody>\n",
       "</table>"
      ],
      "text/plain": [
       "++\n",
       "||\n",
       "++\n",
       "++"
      ]
     },
     "execution_count": 137,
     "metadata": {},
     "output_type": "execute_result"
    },
    {
     "name": "stdout",
     "output_type": "stream",
     "text": [
      "(+) issn 2304-4896 found in CrossRef! List of CrossRef issn: ['0323-4142', '2304-4896']\n"
     ]
    },
    {
     "data": {
      "text/html": [
       "<span style=\"None\">Running query in &#x27;kb_prod&#x27;</span>"
      ],
      "text/plain": [
       "Running query in 'kb_prod'"
      ]
     },
     "metadata": {},
     "output_type": "display_data"
    },
    {
     "data": {
      "text/html": [
       "<table>\n",
       "    <thead>\n",
       "        <tr>\n",
       "        </tr>\n",
       "    </thead>\n",
       "    <tbody>\n",
       "    </tbody>\n",
       "</table>"
      ],
      "text/plain": [
       "++\n",
       "||\n",
       "++\n",
       "++"
      ]
     },
     "execution_count": 137,
     "metadata": {},
     "output_type": "execute_result"
    },
    {
     "data": {
      "text/html": [
       "<span style=\"None\">Running query in &#x27;kb_prod&#x27;</span>"
      ],
      "text/plain": [
       "Running query in 'kb_prod'"
      ]
     },
     "metadata": {},
     "output_type": "display_data"
    },
    {
     "data": {
      "text/html": [
       "<table>\n",
       "    <thead>\n",
       "        <tr>\n",
       "        </tr>\n",
       "    </thead>\n",
       "    <tbody>\n",
       "    </tbody>\n",
       "</table>"
      ],
      "text/plain": [
       "++\n",
       "||\n",
       "++\n",
       "++"
      ]
     },
     "execution_count": 137,
     "metadata": {},
     "output_type": "execute_result"
    },
    {
     "name": "stdout",
     "output_type": "stream",
     "text": [
      "(+) issn 0323-4045 found in CrossRef! List of CrossRef issn: ['0323-4045', '2304-4861']\n"
     ]
    },
    {
     "data": {
      "text/html": [
       "<span style=\"None\">Running query in &#x27;kb_prod&#x27;</span>"
      ],
      "text/plain": [
       "Running query in 'kb_prod'"
      ]
     },
     "metadata": {},
     "output_type": "display_data"
    },
    {
     "data": {
      "text/html": [
       "<table>\n",
       "    <thead>\n",
       "        <tr>\n",
       "        </tr>\n",
       "    </thead>\n",
       "    <tbody>\n",
       "    </tbody>\n",
       "</table>"
      ],
      "text/plain": [
       "++\n",
       "||\n",
       "++\n",
       "++"
      ]
     },
     "execution_count": 137,
     "metadata": {},
     "output_type": "execute_result"
    },
    {
     "data": {
      "text/html": [
       "<span style=\"None\">Running query in &#x27;kb_prod&#x27;</span>"
      ],
      "text/plain": [
       "Running query in 'kb_prod'"
      ]
     },
     "metadata": {},
     "output_type": "display_data"
    },
    {
     "data": {
      "text/html": [
       "<table>\n",
       "    <thead>\n",
       "        <tr>\n",
       "        </tr>\n",
       "    </thead>\n",
       "    <tbody>\n",
       "    </tbody>\n",
       "</table>"
      ],
      "text/plain": [
       "++\n",
       "||\n",
       "++\n",
       "++"
      ]
     },
     "execution_count": 137,
     "metadata": {},
     "output_type": "execute_result"
    },
    {
     "name": "stdout",
     "output_type": "stream",
     "text": [
      "(-) issn 2364-6071 not found in CrossRef\n",
      "(-) issn 0179-2830 not found in CrossRef\n",
      "(+) issn 2193-7869 found in CrossRef! List of CrossRef issn: ['2193-7869']\n"
     ]
    },
    {
     "data": {
      "text/html": [
       "<span style=\"None\">Running query in &#x27;kb_prod&#x27;</span>"
      ],
      "text/plain": [
       "Running query in 'kb_prod'"
      ]
     },
     "metadata": {},
     "output_type": "display_data"
    },
    {
     "data": {
      "text/html": [
       "<span style=\"color: green\">1 rows affected.</span>"
      ],
      "text/plain": [
       "1 rows affected."
      ]
     },
     "metadata": {},
     "output_type": "display_data"
    },
    {
     "data": {
      "text/html": [
       "<table>\n",
       "    <thead>\n",
       "        <tr>\n",
       "        </tr>\n",
       "    </thead>\n",
       "    <tbody>\n",
       "    </tbody>\n",
       "</table>"
      ],
      "text/plain": [
       "++\n",
       "||\n",
       "++\n",
       "++"
      ]
     },
     "execution_count": 137,
     "metadata": {},
     "output_type": "execute_result"
    },
    {
     "name": "stdout",
     "output_type": "stream",
     "text": [
      "(-) issn 0937-7204 not found in CrossRef\n",
      "(-) issn 0342-1945 not found in CrossRef\n",
      "(-) issn 1028-4656 not found in CrossRef\n",
      "(-) issn 0947-9252 not found in CrossRef\n",
      "(-) issn 0943-3929 not found in CrossRef\n",
      "(-) issn 0721-880X not found in CrossRef\n",
      "(+) issn 0012-1363 found in CrossRef! List of CrossRef issn: ['0012-1363', '2366-0651']\n"
     ]
    },
    {
     "data": {
      "text/html": [
       "<span style=\"None\">Running query in &#x27;kb_prod&#x27;</span>"
      ],
      "text/plain": [
       "Running query in 'kb_prod'"
      ]
     },
     "metadata": {},
     "output_type": "display_data"
    },
    {
     "data": {
      "text/html": [
       "<span style=\"color: green\">1 rows affected.</span>"
      ],
      "text/plain": [
       "1 rows affected."
      ]
     },
     "metadata": {},
     "output_type": "display_data"
    },
    {
     "data": {
      "text/html": [
       "<table>\n",
       "    <thead>\n",
       "        <tr>\n",
       "        </tr>\n",
       "    </thead>\n",
       "    <tbody>\n",
       "    </tbody>\n",
       "</table>"
      ],
      "text/plain": [
       "++\n",
       "||\n",
       "++\n",
       "++"
      ]
     },
     "execution_count": 137,
     "metadata": {},
     "output_type": "execute_result"
    },
    {
     "data": {
      "text/html": [
       "<span style=\"None\">Running query in &#x27;kb_prod&#x27;</span>"
      ],
      "text/plain": [
       "Running query in 'kb_prod'"
      ]
     },
     "metadata": {},
     "output_type": "display_data"
    },
    {
     "data": {
      "text/html": [
       "<span style=\"color: green\">1 rows affected.</span>"
      ],
      "text/plain": [
       "1 rows affected."
      ]
     },
     "metadata": {},
     "output_type": "display_data"
    },
    {
     "data": {
      "text/html": [
       "<table>\n",
       "    <thead>\n",
       "        <tr>\n",
       "        </tr>\n",
       "    </thead>\n",
       "    <tbody>\n",
       "    </tbody>\n",
       "</table>"
      ],
      "text/plain": [
       "++\n",
       "||\n",
       "++\n",
       "++"
      ]
     },
     "execution_count": 137,
     "metadata": {},
     "output_type": "execute_result"
    },
    {
     "name": "stdout",
     "output_type": "stream",
     "text": [
      "(+) issn 2366-0651 found in CrossRef! List of CrossRef issn: ['0012-1363', '2366-0651']\n"
     ]
    },
    {
     "data": {
      "text/html": [
       "<span style=\"None\">Running query in &#x27;kb_prod&#x27;</span>"
      ],
      "text/plain": [
       "Running query in 'kb_prod'"
      ]
     },
     "metadata": {},
     "output_type": "display_data"
    },
    {
     "data": {
      "text/html": [
       "<table>\n",
       "    <thead>\n",
       "        <tr>\n",
       "        </tr>\n",
       "    </thead>\n",
       "    <tbody>\n",
       "    </tbody>\n",
       "</table>"
      ],
      "text/plain": [
       "++\n",
       "||\n",
       "++\n",
       "++"
      ]
     },
     "execution_count": 137,
     "metadata": {},
     "output_type": "execute_result"
    },
    {
     "data": {
      "text/html": [
       "<span style=\"None\">Running query in &#x27;kb_prod&#x27;</span>"
      ],
      "text/plain": [
       "Running query in 'kb_prod'"
      ]
     },
     "metadata": {},
     "output_type": "display_data"
    },
    {
     "data": {
      "text/html": [
       "<table>\n",
       "    <thead>\n",
       "        <tr>\n",
       "        </tr>\n",
       "    </thead>\n",
       "    <tbody>\n",
       "    </tbody>\n",
       "</table>"
      ],
      "text/plain": [
       "++\n",
       "||\n",
       "++\n",
       "++"
      ]
     },
     "execution_count": 137,
     "metadata": {},
     "output_type": "execute_result"
    },
    {
     "name": "stdout",
     "output_type": "stream",
     "text": [
      "(+) issn 0084-5310 found in CrossRef! List of CrossRef issn: ['0084-5310', '1612-703X']\n"
     ]
    },
    {
     "data": {
      "text/html": [
       "<span style=\"None\">Running query in &#x27;kb_prod&#x27;</span>"
      ],
      "text/plain": [
       "Running query in 'kb_prod'"
      ]
     },
     "metadata": {},
     "output_type": "display_data"
    },
    {
     "data": {
      "text/html": [
       "<span style=\"color: green\">1 rows affected.</span>"
      ],
      "text/plain": [
       "1 rows affected."
      ]
     },
     "metadata": {},
     "output_type": "display_data"
    },
    {
     "data": {
      "text/html": [
       "<table>\n",
       "    <thead>\n",
       "        <tr>\n",
       "        </tr>\n",
       "    </thead>\n",
       "    <tbody>\n",
       "    </tbody>\n",
       "</table>"
      ],
      "text/plain": [
       "++\n",
       "||\n",
       "++\n",
       "++"
      ]
     },
     "execution_count": 137,
     "metadata": {},
     "output_type": "execute_result"
    },
    {
     "data": {
      "text/html": [
       "<span style=\"None\">Running query in &#x27;kb_prod&#x27;</span>"
      ],
      "text/plain": [
       "Running query in 'kb_prod'"
      ]
     },
     "metadata": {},
     "output_type": "display_data"
    },
    {
     "data": {
      "text/html": [
       "<span style=\"color: green\">1 rows affected.</span>"
      ],
      "text/plain": [
       "1 rows affected."
      ]
     },
     "metadata": {},
     "output_type": "display_data"
    },
    {
     "data": {
      "text/html": [
       "<table>\n",
       "    <thead>\n",
       "        <tr>\n",
       "        </tr>\n",
       "    </thead>\n",
       "    <tbody>\n",
       "    </tbody>\n",
       "</table>"
      ],
      "text/plain": [
       "++\n",
       "||\n",
       "++\n",
       "++"
      ]
     },
     "execution_count": 137,
     "metadata": {},
     "output_type": "execute_result"
    },
    {
     "name": "stdout",
     "output_type": "stream",
     "text": [
      "(+) issn 1612-703X found in CrossRef! List of CrossRef issn: ['0084-5310', '1612-703X']\n"
     ]
    },
    {
     "data": {
      "text/html": [
       "<span style=\"None\">Running query in &#x27;kb_prod&#x27;</span>"
      ],
      "text/plain": [
       "Running query in 'kb_prod'"
      ]
     },
     "metadata": {},
     "output_type": "display_data"
    },
    {
     "data": {
      "text/html": [
       "<table>\n",
       "    <thead>\n",
       "        <tr>\n",
       "        </tr>\n",
       "    </thead>\n",
       "    <tbody>\n",
       "    </tbody>\n",
       "</table>"
      ],
      "text/plain": [
       "++\n",
       "||\n",
       "++\n",
       "++"
      ]
     },
     "execution_count": 137,
     "metadata": {},
     "output_type": "execute_result"
    },
    {
     "data": {
      "text/html": [
       "<span style=\"None\">Running query in &#x27;kb_prod&#x27;</span>"
      ],
      "text/plain": [
       "Running query in 'kb_prod'"
      ]
     },
     "metadata": {},
     "output_type": "display_data"
    },
    {
     "data": {
      "text/html": [
       "<table>\n",
       "    <thead>\n",
       "        <tr>\n",
       "        </tr>\n",
       "    </thead>\n",
       "    <tbody>\n",
       "    </tbody>\n",
       "</table>"
      ],
      "text/plain": [
       "++\n",
       "||\n",
       "++\n",
       "++"
      ]
     },
     "execution_count": 137,
     "metadata": {},
     "output_type": "execute_result"
    },
    {
     "name": "stdout",
     "output_type": "stream",
     "text": [
      "(+) issn 0044-2348 found in CrossRef! List of CrossRef issn: ['0044-2348', '0044-2348']\n"
     ]
    },
    {
     "data": {
      "text/html": [
       "<span style=\"None\">Running query in &#x27;kb_prod&#x27;</span>"
      ],
      "text/plain": [
       "Running query in 'kb_prod'"
      ]
     },
     "metadata": {},
     "output_type": "display_data"
    },
    {
     "data": {
      "text/html": [
       "<span style=\"color: green\">1 rows affected.</span>"
      ],
      "text/plain": [
       "1 rows affected."
      ]
     },
     "metadata": {},
     "output_type": "display_data"
    },
    {
     "data": {
      "text/html": [
       "<table>\n",
       "    <thead>\n",
       "        <tr>\n",
       "        </tr>\n",
       "    </thead>\n",
       "    <tbody>\n",
       "    </tbody>\n",
       "</table>"
      ],
      "text/plain": [
       "++\n",
       "||\n",
       "++\n",
       "++"
      ]
     },
     "execution_count": 137,
     "metadata": {},
     "output_type": "execute_result"
    },
    {
     "data": {
      "text/html": [
       "<span style=\"None\">Running query in &#x27;kb_prod&#x27;</span>"
      ],
      "text/plain": [
       "Running query in 'kb_prod'"
      ]
     },
     "metadata": {},
     "output_type": "display_data"
    },
    {
     "data": {
      "text/html": [
       "<table>\n",
       "    <thead>\n",
       "        <tr>\n",
       "        </tr>\n",
       "    </thead>\n",
       "    <tbody>\n",
       "    </tbody>\n",
       "</table>"
      ],
      "text/plain": [
       "++\n",
       "||\n",
       "++\n",
       "++"
      ]
     },
     "execution_count": 137,
     "metadata": {},
     "output_type": "execute_result"
    },
    {
     "name": "stdout",
     "output_type": "stream",
     "text": [
      "(-) issn 2942-3562 not found in CrossRef\n",
      "(+) issn 0179-1990 found in CrossRef! List of CrossRef issn: ['0179-1990', '2194-4172']\n"
     ]
    },
    {
     "data": {
      "text/html": [
       "<span style=\"None\">Running query in &#x27;kb_prod&#x27;</span>"
      ],
      "text/plain": [
       "Running query in 'kb_prod'"
      ]
     },
     "metadata": {},
     "output_type": "display_data"
    },
    {
     "data": {
      "text/html": [
       "<span style=\"color: green\">1 rows affected.</span>"
      ],
      "text/plain": [
       "1 rows affected."
      ]
     },
     "metadata": {},
     "output_type": "display_data"
    },
    {
     "data": {
      "text/html": [
       "<table>\n",
       "    <thead>\n",
       "        <tr>\n",
       "        </tr>\n",
       "    </thead>\n",
       "    <tbody>\n",
       "    </tbody>\n",
       "</table>"
      ],
      "text/plain": [
       "++\n",
       "||\n",
       "++\n",
       "++"
      ]
     },
     "execution_count": 137,
     "metadata": {},
     "output_type": "execute_result"
    },
    {
     "data": {
      "text/html": [
       "<span style=\"None\">Running query in &#x27;kb_prod&#x27;</span>"
      ],
      "text/plain": [
       "Running query in 'kb_prod'"
      ]
     },
     "metadata": {},
     "output_type": "display_data"
    },
    {
     "data": {
      "text/html": [
       "<span style=\"color: green\">1 rows affected.</span>"
      ],
      "text/plain": [
       "1 rows affected."
      ]
     },
     "metadata": {},
     "output_type": "display_data"
    },
    {
     "data": {
      "text/html": [
       "<table>\n",
       "    <thead>\n",
       "        <tr>\n",
       "        </tr>\n",
       "    </thead>\n",
       "    <tbody>\n",
       "    </tbody>\n",
       "</table>"
      ],
      "text/plain": [
       "++\n",
       "||\n",
       "++\n",
       "++"
      ]
     },
     "execution_count": 137,
     "metadata": {},
     "output_type": "execute_result"
    },
    {
     "name": "stdout",
     "output_type": "stream",
     "text": [
      "(+) issn 2194-4172 found in CrossRef! List of CrossRef issn: ['0179-1990', '2194-4172']\n"
     ]
    },
    {
     "data": {
      "text/html": [
       "<span style=\"None\">Running query in &#x27;kb_prod&#x27;</span>"
      ],
      "text/plain": [
       "Running query in 'kb_prod'"
      ]
     },
     "metadata": {},
     "output_type": "display_data"
    },
    {
     "data": {
      "text/html": [
       "<table>\n",
       "    <thead>\n",
       "        <tr>\n",
       "        </tr>\n",
       "    </thead>\n",
       "    <tbody>\n",
       "    </tbody>\n",
       "</table>"
      ],
      "text/plain": [
       "++\n",
       "||\n",
       "++\n",
       "++"
      ]
     },
     "execution_count": 137,
     "metadata": {},
     "output_type": "execute_result"
    },
    {
     "data": {
      "text/html": [
       "<span style=\"None\">Running query in &#x27;kb_prod&#x27;</span>"
      ],
      "text/plain": [
       "Running query in 'kb_prod'"
      ]
     },
     "metadata": {},
     "output_type": "display_data"
    },
    {
     "data": {
      "text/html": [
       "<table>\n",
       "    <thead>\n",
       "        <tr>\n",
       "        </tr>\n",
       "    </thead>\n",
       "    <tbody>\n",
       "    </tbody>\n",
       "</table>"
      ],
      "text/plain": [
       "++\n",
       "||\n",
       "++\n",
       "++"
      ]
     },
     "execution_count": 137,
     "metadata": {},
     "output_type": "execute_result"
    },
    {
     "name": "stdout",
     "output_type": "stream",
     "text": [
      "(-) issn 1431-8180 not found in CrossRef\n",
      "(+) issn 0042-4498 found in CrossRef! List of CrossRef issn: ['0042-4498', '1865-5211']\n"
     ]
    },
    {
     "data": {
      "text/html": [
       "<span style=\"None\">Running query in &#x27;kb_prod&#x27;</span>"
      ],
      "text/plain": [
       "Running query in 'kb_prod'"
      ]
     },
     "metadata": {},
     "output_type": "display_data"
    },
    {
     "data": {
      "text/html": [
       "<span style=\"color: green\">1 rows affected.</span>"
      ],
      "text/plain": [
       "1 rows affected."
      ]
     },
     "metadata": {},
     "output_type": "display_data"
    },
    {
     "data": {
      "text/html": [
       "<table>\n",
       "    <thead>\n",
       "        <tr>\n",
       "        </tr>\n",
       "    </thead>\n",
       "    <tbody>\n",
       "    </tbody>\n",
       "</table>"
      ],
      "text/plain": [
       "++\n",
       "||\n",
       "++\n",
       "++"
      ]
     },
     "execution_count": 137,
     "metadata": {},
     "output_type": "execute_result"
    },
    {
     "data": {
      "text/html": [
       "<span style=\"None\">Running query in &#x27;kb_prod&#x27;</span>"
      ],
      "text/plain": [
       "Running query in 'kb_prod'"
      ]
     },
     "metadata": {},
     "output_type": "display_data"
    },
    {
     "data": {
      "text/html": [
       "<span style=\"color: green\">1 rows affected.</span>"
      ],
      "text/plain": [
       "1 rows affected."
      ]
     },
     "metadata": {},
     "output_type": "display_data"
    },
    {
     "data": {
      "text/html": [
       "<table>\n",
       "    <thead>\n",
       "        <tr>\n",
       "        </tr>\n",
       "    </thead>\n",
       "    <tbody>\n",
       "    </tbody>\n",
       "</table>"
      ],
      "text/plain": [
       "++\n",
       "||\n",
       "++\n",
       "++"
      ]
     },
     "execution_count": 137,
     "metadata": {},
     "output_type": "execute_result"
    },
    {
     "name": "stdout",
     "output_type": "stream",
     "text": [
      "(+) issn 1865-5211 found in CrossRef! List of CrossRef issn: ['0042-4498', '1865-5211']\n"
     ]
    },
    {
     "data": {
      "text/html": [
       "<span style=\"None\">Running query in &#x27;kb_prod&#x27;</span>"
      ],
      "text/plain": [
       "Running query in 'kb_prod'"
      ]
     },
     "metadata": {},
     "output_type": "display_data"
    },
    {
     "data": {
      "text/html": [
       "<table>\n",
       "    <thead>\n",
       "        <tr>\n",
       "        </tr>\n",
       "    </thead>\n",
       "    <tbody>\n",
       "    </tbody>\n",
       "</table>"
      ],
      "text/plain": [
       "++\n",
       "||\n",
       "++\n",
       "++"
      ]
     },
     "execution_count": 137,
     "metadata": {},
     "output_type": "execute_result"
    },
    {
     "data": {
      "text/html": [
       "<span style=\"None\">Running query in &#x27;kb_prod&#x27;</span>"
      ],
      "text/plain": [
       "Running query in 'kb_prod'"
      ]
     },
     "metadata": {},
     "output_type": "display_data"
    },
    {
     "data": {
      "text/html": [
       "<table>\n",
       "    <thead>\n",
       "        <tr>\n",
       "        </tr>\n",
       "    </thead>\n",
       "    <tbody>\n",
       "    </tbody>\n",
       "</table>"
      ],
      "text/plain": [
       "++\n",
       "||\n",
       "++\n",
       "++"
      ]
     },
     "execution_count": 137,
     "metadata": {},
     "output_type": "execute_result"
    },
    {
     "name": "stdout",
     "output_type": "stream",
     "text": [
      "(-) issn 0514-6496 not found in CrossRef\n",
      "(-) issn 1868-7113 not found in CrossRef\n",
      "(+) issn 0003-8997 found in CrossRef! List of CrossRef issn: ['0003-8997']\n"
     ]
    },
    {
     "data": {
      "text/html": [
       "<span style=\"None\">Running query in &#x27;kb_prod&#x27;</span>"
      ],
      "text/plain": [
       "Running query in 'kb_prod'"
      ]
     },
     "metadata": {},
     "output_type": "display_data"
    },
    {
     "data": {
      "text/html": [
       "<span style=\"color: green\">1 rows affected.</span>"
      ],
      "text/plain": [
       "1 rows affected."
      ]
     },
     "metadata": {},
     "output_type": "display_data"
    },
    {
     "data": {
      "text/html": [
       "<table>\n",
       "    <thead>\n",
       "        <tr>\n",
       "        </tr>\n",
       "    </thead>\n",
       "    <tbody>\n",
       "    </tbody>\n",
       "</table>"
      ],
      "text/plain": [
       "++\n",
       "||\n",
       "++\n",
       "++"
      ]
     },
     "execution_count": 137,
     "metadata": {},
     "output_type": "execute_result"
    },
    {
     "name": "stdout",
     "output_type": "stream",
     "text": [
      "(+) issn 1865-5203 found in CrossRef! List of CrossRef issn: ['0038-884X', '1865-5203']\n"
     ]
    },
    {
     "data": {
      "text/html": [
       "<span style=\"None\">Running query in &#x27;kb_prod&#x27;</span>"
      ],
      "text/plain": [
       "Running query in 'kb_prod'"
      ]
     },
     "metadata": {},
     "output_type": "display_data"
    },
    {
     "data": {
      "text/html": [
       "<span style=\"color: green\">1 rows affected.</span>"
      ],
      "text/plain": [
       "1 rows affected."
      ]
     },
     "metadata": {},
     "output_type": "display_data"
    },
    {
     "data": {
      "text/html": [
       "<table>\n",
       "    <thead>\n",
       "        <tr>\n",
       "        </tr>\n",
       "    </thead>\n",
       "    <tbody>\n",
       "    </tbody>\n",
       "</table>"
      ],
      "text/plain": [
       "++\n",
       "||\n",
       "++\n",
       "++"
      ]
     },
     "execution_count": 137,
     "metadata": {},
     "output_type": "execute_result"
    },
    {
     "data": {
      "text/html": [
       "<span style=\"None\">Running query in &#x27;kb_prod&#x27;</span>"
      ],
      "text/plain": [
       "Running query in 'kb_prod'"
      ]
     },
     "metadata": {},
     "output_type": "display_data"
    },
    {
     "data": {
      "text/html": [
       "<span style=\"color: green\">1 rows affected.</span>"
      ],
      "text/plain": [
       "1 rows affected."
      ]
     },
     "metadata": {},
     "output_type": "display_data"
    },
    {
     "data": {
      "text/html": [
       "<table>\n",
       "    <thead>\n",
       "        <tr>\n",
       "        </tr>\n",
       "    </thead>\n",
       "    <tbody>\n",
       "    </tbody>\n",
       "</table>"
      ],
      "text/plain": [
       "++\n",
       "||\n",
       "++\n",
       "++"
      ]
     },
     "execution_count": 137,
     "metadata": {},
     "output_type": "execute_result"
    },
    {
     "name": "stdout",
     "output_type": "stream",
     "text": [
      "(+) issn 0038-884X found in CrossRef! List of CrossRef issn: ['0038-884X', '1865-5203']\n"
     ]
    },
    {
     "data": {
      "text/html": [
       "<span style=\"None\">Running query in &#x27;kb_prod&#x27;</span>"
      ],
      "text/plain": [
       "Running query in 'kb_prod'"
      ]
     },
     "metadata": {},
     "output_type": "display_data"
    },
    {
     "data": {
      "text/html": [
       "<table>\n",
       "    <thead>\n",
       "        <tr>\n",
       "        </tr>\n",
       "    </thead>\n",
       "    <tbody>\n",
       "    </tbody>\n",
       "</table>"
      ],
      "text/plain": [
       "++\n",
       "||\n",
       "++\n",
       "++"
      ]
     },
     "execution_count": 137,
     "metadata": {},
     "output_type": "execute_result"
    },
    {
     "data": {
      "text/html": [
       "<span style=\"None\">Running query in &#x27;kb_prod&#x27;</span>"
      ],
      "text/plain": [
       "Running query in 'kb_prod'"
      ]
     },
     "metadata": {},
     "output_type": "display_data"
    },
    {
     "data": {
      "text/html": [
       "<table>\n",
       "    <thead>\n",
       "        <tr>\n",
       "        </tr>\n",
       "    </thead>\n",
       "    <tbody>\n",
       "    </tbody>\n",
       "</table>"
      ],
      "text/plain": [
       "++\n",
       "||\n",
       "++\n",
       "++"
      ]
     },
     "execution_count": 137,
     "metadata": {},
     "output_type": "execute_result"
    },
    {
     "name": "stdout",
     "output_type": "stream",
     "text": [
      "(+) issn 0342-3468 found in CrossRef! List of CrossRef issn: ['0342-3468', '2366-2077']\n"
     ]
    },
    {
     "data": {
      "text/html": [
       "<span style=\"None\">Running query in &#x27;kb_prod&#x27;</span>"
      ],
      "text/plain": [
       "Running query in 'kb_prod'"
      ]
     },
     "metadata": {},
     "output_type": "display_data"
    },
    {
     "data": {
      "text/html": [
       "<span style=\"color: green\">1 rows affected.</span>"
      ],
      "text/plain": [
       "1 rows affected."
      ]
     },
     "metadata": {},
     "output_type": "display_data"
    },
    {
     "data": {
      "text/html": [
       "<table>\n",
       "    <thead>\n",
       "        <tr>\n",
       "        </tr>\n",
       "    </thead>\n",
       "    <tbody>\n",
       "    </tbody>\n",
       "</table>"
      ],
      "text/plain": [
       "++\n",
       "||\n",
       "++\n",
       "++"
      ]
     },
     "execution_count": 137,
     "metadata": {},
     "output_type": "execute_result"
    },
    {
     "data": {
      "text/html": [
       "<span style=\"None\">Running query in &#x27;kb_prod&#x27;</span>"
      ],
      "text/plain": [
       "Running query in 'kb_prod'"
      ]
     },
     "metadata": {},
     "output_type": "display_data"
    },
    {
     "data": {
      "text/html": [
       "<span style=\"color: green\">1 rows affected.</span>"
      ],
      "text/plain": [
       "1 rows affected."
      ]
     },
     "metadata": {},
     "output_type": "display_data"
    },
    {
     "data": {
      "text/html": [
       "<table>\n",
       "    <thead>\n",
       "        <tr>\n",
       "        </tr>\n",
       "    </thead>\n",
       "    <tbody>\n",
       "    </tbody>\n",
       "</table>"
      ],
      "text/plain": [
       "++\n",
       "||\n",
       "++\n",
       "++"
      ]
     },
     "execution_count": 137,
     "metadata": {},
     "output_type": "execute_result"
    },
    {
     "name": "stdout",
     "output_type": "stream",
     "text": [
      "(+) issn 2366-2077 found in CrossRef! List of CrossRef issn: ['0342-3468', '2366-2077']\n"
     ]
    },
    {
     "data": {
      "text/html": [
       "<span style=\"None\">Running query in &#x27;kb_prod&#x27;</span>"
      ],
      "text/plain": [
       "Running query in 'kb_prod'"
      ]
     },
     "metadata": {},
     "output_type": "display_data"
    },
    {
     "data": {
      "text/html": [
       "<table>\n",
       "    <thead>\n",
       "        <tr>\n",
       "        </tr>\n",
       "    </thead>\n",
       "    <tbody>\n",
       "    </tbody>\n",
       "</table>"
      ],
      "text/plain": [
       "++\n",
       "||\n",
       "++\n",
       "++"
      ]
     },
     "execution_count": 137,
     "metadata": {},
     "output_type": "execute_result"
    },
    {
     "data": {
      "text/html": [
       "<span style=\"None\">Running query in &#x27;kb_prod&#x27;</span>"
      ],
      "text/plain": [
       "Running query in 'kb_prod'"
      ]
     },
     "metadata": {},
     "output_type": "display_data"
    },
    {
     "data": {
      "text/html": [
       "<table>\n",
       "    <thead>\n",
       "        <tr>\n",
       "        </tr>\n",
       "    </thead>\n",
       "    <tbody>\n",
       "    </tbody>\n",
       "</table>"
      ],
      "text/plain": [
       "++\n",
       "||\n",
       "++\n",
       "++"
      ]
     },
     "execution_count": 137,
     "metadata": {},
     "output_type": "execute_result"
    },
    {
     "name": "stdout",
     "output_type": "stream",
     "text": [
      "(+) issn 0022-6920 found in CrossRef! List of CrossRef issn: ['0022-6920', '1612-7064']\n"
     ]
    },
    {
     "data": {
      "text/html": [
       "<span style=\"None\">Running query in &#x27;kb_prod&#x27;</span>"
      ],
      "text/plain": [
       "Running query in 'kb_prod'"
      ]
     },
     "metadata": {},
     "output_type": "display_data"
    },
    {
     "data": {
      "text/html": [
       "<span style=\"color: green\">1 rows affected.</span>"
      ],
      "text/plain": [
       "1 rows affected."
      ]
     },
     "metadata": {},
     "output_type": "display_data"
    },
    {
     "data": {
      "text/html": [
       "<table>\n",
       "    <thead>\n",
       "        <tr>\n",
       "        </tr>\n",
       "    </thead>\n",
       "    <tbody>\n",
       "    </tbody>\n",
       "</table>"
      ],
      "text/plain": [
       "++\n",
       "||\n",
       "++\n",
       "++"
      ]
     },
     "execution_count": 137,
     "metadata": {},
     "output_type": "execute_result"
    },
    {
     "data": {
      "text/html": [
       "<span style=\"None\">Running query in &#x27;kb_prod&#x27;</span>"
      ],
      "text/plain": [
       "Running query in 'kb_prod'"
      ]
     },
     "metadata": {},
     "output_type": "display_data"
    },
    {
     "data": {
      "text/html": [
       "<span style=\"color: green\">1 rows affected.</span>"
      ],
      "text/plain": [
       "1 rows affected."
      ]
     },
     "metadata": {},
     "output_type": "display_data"
    },
    {
     "data": {
      "text/html": [
       "<table>\n",
       "    <thead>\n",
       "        <tr>\n",
       "        </tr>\n",
       "    </thead>\n",
       "    <tbody>\n",
       "    </tbody>\n",
       "</table>"
      ],
      "text/plain": [
       "++\n",
       "||\n",
       "++\n",
       "++"
      ]
     },
     "execution_count": 137,
     "metadata": {},
     "output_type": "execute_result"
    },
    {
     "name": "stdout",
     "output_type": "stream",
     "text": [
      "(+) issn 1612-7064 found in CrossRef! List of CrossRef issn: ['0022-6920', '1612-7064']\n"
     ]
    },
    {
     "data": {
      "text/html": [
       "<span style=\"None\">Running query in &#x27;kb_prod&#x27;</span>"
      ],
      "text/plain": [
       "Running query in 'kb_prod'"
      ]
     },
     "metadata": {},
     "output_type": "display_data"
    },
    {
     "data": {
      "text/html": [
       "<table>\n",
       "    <thead>\n",
       "        <tr>\n",
       "        </tr>\n",
       "    </thead>\n",
       "    <tbody>\n",
       "    </tbody>\n",
       "</table>"
      ],
      "text/plain": [
       "++\n",
       "||\n",
       "++\n",
       "++"
      ]
     },
     "execution_count": 137,
     "metadata": {},
     "output_type": "execute_result"
    },
    {
     "data": {
      "text/html": [
       "<span style=\"None\">Running query in &#x27;kb_prod&#x27;</span>"
      ],
      "text/plain": [
       "Running query in 'kb_prod'"
      ]
     },
     "metadata": {},
     "output_type": "display_data"
    },
    {
     "data": {
      "text/html": [
       "<table>\n",
       "    <thead>\n",
       "        <tr>\n",
       "        </tr>\n",
       "    </thead>\n",
       "    <tbody>\n",
       "    </tbody>\n",
       "</table>"
      ],
      "text/plain": [
       "++\n",
       "||\n",
       "++\n",
       "++"
      ]
     },
     "execution_count": 137,
     "metadata": {},
     "output_type": "execute_result"
    },
    {
     "name": "stdout",
     "output_type": "stream",
     "text": [
      "(+) issn 0033-7250 found in CrossRef! List of CrossRef issn: ['0033-7250', '1868-7059']\n"
     ]
    },
    {
     "data": {
      "text/html": [
       "<span style=\"None\">Running query in &#x27;kb_prod&#x27;</span>"
      ],
      "text/plain": [
       "Running query in 'kb_prod'"
      ]
     },
     "metadata": {},
     "output_type": "display_data"
    },
    {
     "data": {
      "text/html": [
       "<span style=\"color: green\">1 rows affected.</span>"
      ],
      "text/plain": [
       "1 rows affected."
      ]
     },
     "metadata": {},
     "output_type": "display_data"
    },
    {
     "data": {
      "text/html": [
       "<table>\n",
       "    <thead>\n",
       "        <tr>\n",
       "        </tr>\n",
       "    </thead>\n",
       "    <tbody>\n",
       "    </tbody>\n",
       "</table>"
      ],
      "text/plain": [
       "++\n",
       "||\n",
       "++\n",
       "++"
      ]
     },
     "execution_count": 137,
     "metadata": {},
     "output_type": "execute_result"
    },
    {
     "data": {
      "text/html": [
       "<span style=\"None\">Running query in &#x27;kb_prod&#x27;</span>"
      ],
      "text/plain": [
       "Running query in 'kb_prod'"
      ]
     },
     "metadata": {},
     "output_type": "display_data"
    },
    {
     "data": {
      "text/html": [
       "<span style=\"color: green\">1 rows affected.</span>"
      ],
      "text/plain": [
       "1 rows affected."
      ]
     },
     "metadata": {},
     "output_type": "display_data"
    },
    {
     "data": {
      "text/html": [
       "<table>\n",
       "    <thead>\n",
       "        <tr>\n",
       "        </tr>\n",
       "    </thead>\n",
       "    <tbody>\n",
       "    </tbody>\n",
       "</table>"
      ],
      "text/plain": [
       "++\n",
       "||\n",
       "++\n",
       "++"
      ]
     },
     "execution_count": 137,
     "metadata": {},
     "output_type": "execute_result"
    },
    {
     "name": "stdout",
     "output_type": "stream",
     "text": [
      "(+) issn 1868-7059 found in CrossRef! List of CrossRef issn: ['0033-7250', '1868-7059']\n"
     ]
    },
    {
     "data": {
      "text/html": [
       "<span style=\"None\">Running query in &#x27;kb_prod&#x27;</span>"
      ],
      "text/plain": [
       "Running query in 'kb_prod'"
      ]
     },
     "metadata": {},
     "output_type": "display_data"
    },
    {
     "data": {
      "text/html": [
       "<table>\n",
       "    <thead>\n",
       "        <tr>\n",
       "        </tr>\n",
       "    </thead>\n",
       "    <tbody>\n",
       "    </tbody>\n",
       "</table>"
      ],
      "text/plain": [
       "++\n",
       "||\n",
       "++\n",
       "++"
      ]
     },
     "execution_count": 137,
     "metadata": {},
     "output_type": "execute_result"
    },
    {
     "data": {
      "text/html": [
       "<span style=\"None\">Running query in &#x27;kb_prod&#x27;</span>"
      ],
      "text/plain": [
       "Running query in 'kb_prod'"
      ]
     },
     "metadata": {},
     "output_type": "display_data"
    },
    {
     "data": {
      "text/html": [
       "<table>\n",
       "    <thead>\n",
       "        <tr>\n",
       "        </tr>\n",
       "    </thead>\n",
       "    <tbody>\n",
       "    </tbody>\n",
       "</table>"
      ],
      "text/plain": [
       "++\n",
       "||\n",
       "++\n",
       "++"
      ]
     },
     "execution_count": 137,
     "metadata": {},
     "output_type": "execute_result"
    },
    {
     "name": "stdout",
     "output_type": "stream",
     "text": [
      "(-) issn 0017-1956 not found in CrossRef\n",
      "(-) issn 0342-6971 not found in CrossRef\n",
      "(-) issn 1434-9272 not found in CrossRef\n",
      "(-) issn 0941-7915 not found in CrossRef\n",
      "(-) issn 0029-859X not found in CrossRef\n",
      "(-) issn 1863-6470 not found in CrossRef\n",
      "(-) issn 0943-7525 not found in CrossRef\n"
     ]
    }
   ],
   "source": [
    "from IPython import get_ipython\n",
    "ipython = get_ipython()\n",
    "\n",
    "result = %sql select unnest(issn_list) from {{result_schema}}.jura_groels_alle_zeitschriften_{{version_name}}\n",
    "\n",
    "for row in result:\n",
    "    issn = row[0]\n",
    "    issn_list_crossref = []\n",
    "    issn_list_crossref = get_crossref_journal(issn)\n",
    "\n",
    "    if issn_list_crossref: \n",
    "        print(f'(+) issn {issn} found in CrossRef! List of CrossRef issn: {issn_list_crossref}')\n",
    "        for crossref_issn in issn_list_crossref:\n",
    "            update_query = f\"\"\"\n",
    "            %%sql\n",
    "            UPDATE {result_schema}.jura_groels_alle_zeitschriften_{version_name}\n",
    "            SET crossref_issn = array_append(COALESCE(crossref_issn, '{{}}'), '{crossref_issn}')\n",
    "            WHERE (lower('{issn}') = any(issn_list) or upper('{issn}') = any(issn_list)) \n",
    "            and (crossref_issn is null or not '{crossref_issn}' = any(crossref_issn))\n",
    "            \"\"\"\n",
    "            \n",
    "            ipython.run_cell(update_query)\n",
    "    else:\n",
    "        print(f'(-) issn {issn} not found in CrossRef')"
   ]
  },
  {
   "cell_type": "markdown",
   "metadata": {},
   "source": [
    "### <a id=\"coverage-openalex\"></a> OpenAlex"
   ]
  },
  {
   "cell_type": "code",
   "execution_count": 138,
   "metadata": {},
   "outputs": [
    {
     "data": {
      "text/html": [
       "<span style=\"None\">Running query in &#x27;kb_prod&#x27;</span>"
      ],
      "text/plain": [
       "Running query in 'kb_prod'"
      ]
     },
     "metadata": {},
     "output_type": "display_data"
    },
    {
     "data": {
      "text/html": [
       "<span style=\"color: green\">32 rows affected.</span>"
      ],
      "text/plain": [
       "32 rows affected."
      ]
     },
     "metadata": {},
     "output_type": "display_data"
    },
    {
     "data": {
      "text/html": [
       "<span style=\"color: green\">51 rows affected.</span>"
      ],
      "text/plain": [
       "51 rows affected."
      ]
     },
     "metadata": {},
     "output_type": "display_data"
    },
    {
     "data": {
      "text/html": [
       "<table>\n",
       "    <thead>\n",
       "        <tr>\n",
       "        </tr>\n",
       "    </thead>\n",
       "    <tbody>\n",
       "    </tbody>\n",
       "</table>"
      ],
      "text/plain": [
       "++\n",
       "||\n",
       "++\n",
       "++"
      ]
     },
     "execution_count": 138,
     "metadata": {},
     "output_type": "execute_result"
    }
   ],
   "source": [
    "%%sql\n",
    "drop table if exists {{result_schema}}.ztab_openalex;\n",
    "create table {{result_schema}}.ztab_openalex as (\n",
    "select distinct zeitschrift, abk, issn_list, array_agg(distinct b.issn) as issn_bdb, array_agg(b.id) as openalex_ids\n",
    "from (select zeitschrift, abk, issn_list, unnest(issn_list) as issn from {{result_schema}}.jura_groels_alle_zeitschriften_{{version_name}}) a \n",
    "join (\n",
    "select json_array_elements_text(issn -> 'issn') as issn, id from {openalex_rep_schema}.sources \n",
    "union select issn_l as issn, id from {openalex_rep_schema}.sources\n",
    ") b \n",
    "on a.issn=b.issn\n",
    "group by zeitschrift, abk, issn_list); \n",
    "\n",
    "alter table {{result_schema}}.jura_groels_alle_zeitschriften_{{version_name}} add column if not exists openalex_source_id text[];\n",
    "alter table {{result_schema}}.jura_groels_alle_zeitschriften_{{version_name}} add column if not exists openalex_issn text[];\n",
    "update {{result_schema}}.jura_groels_alle_zeitschriften_{{version_name}} a \n",
    "set openalex_source_id = (select openalex_ids from {{result_schema}}.ztab_openalex where abk=a.abk),\n",
    "openalex_issn = (select issn_bdb from {{result_schema}}.ztab_openalex where abk=a.abk);\n",
    "\n",
    "drop table if exists {{result_schema}}.ztab_openalex;\n",
    "\n",
    "commit;"
   ]
  },
  {
   "cell_type": "markdown",
   "metadata": {},
   "source": [
    "### How many and which of the journals in the gold standard are in the list gained from the trivial search?  "
   ]
  },
  {
   "cell_type": "code",
   "execution_count": 20,
   "metadata": {},
   "outputs": [
    {
     "data": {
      "text/html": [
       "<span style=\"None\">Running query in &#x27;kb_prod&#x27;</span>"
      ],
      "text/plain": [
       "Running query in 'kb_prod'"
      ]
     },
     "metadata": {},
     "output_type": "display_data"
    },
    {
     "data": {
      "text/html": [
       "<span style=\"color: green\">323 rows affected.</span>"
      ],
      "text/plain": [
       "323 rows affected."
      ]
     },
     "metadata": {},
     "output_type": "display_data"
    },
    {
     "data": {
      "text/html": [
       "<span style=\"color: green\">32 rows affected.</span>"
      ],
      "text/plain": [
       "32 rows affected."
      ]
     },
     "metadata": {},
     "output_type": "display_data"
    },
    {
     "data": {
      "text/html": [
       "<table>\n",
       "    <thead>\n",
       "        <tr>\n",
       "        </tr>\n",
       "    </thead>\n",
       "    <tbody>\n",
       "    </tbody>\n",
       "</table>"
      ],
      "text/plain": [
       "++\n",
       "||\n",
       "++\n",
       "++"
      ]
     },
     "execution_count": 20,
     "metadata": {},
     "output_type": "execute_result"
    }
   ],
   "source": [
    "%%sql\n",
    "alter table {{result_schema}}.eva_openalex_de_law_journals_trivial_search_result_{{version_name}}   \n",
    "add column if not exists in_goldstandard boolean; \n",
    "update {{result_schema}}.eva_openalex_de_law_journals_trivial_search_result_{{version_name}}  \n",
    "set in_goldstandard = false; \n",
    "update {{result_schema}}.eva_openalex_de_law_journals_trivial_search_result_{{version_name}}  \n",
    "set in_goldstandard = true \n",
    "where source_id in (SELECT unnest(openalex_source_id) FROM {{result_schema}}.jura_groels_alle_zeitschriften_{{version_name}}); "
   ]
  },
  {
   "cell_type": "markdown",
   "metadata": {},
   "source": [
    "Flag gold standard journals in Scopus trivial search list: "
   ]
  },
  {
   "cell_type": "code",
   "execution_count": 7,
   "metadata": {},
   "outputs": [
    {
     "data": {
      "text/html": [
       "<span style=\"None\">Running query in &#x27;kb_prod&#x27;</span>"
      ],
      "text/plain": [
       "Running query in 'kb_prod'"
      ]
     },
     "metadata": {},
     "output_type": "display_data"
    },
    {
     "data": {
      "text/html": [
       "<span style=\"color: green\">23 rows affected.</span>"
      ],
      "text/plain": [
       "23 rows affected."
      ]
     },
     "metadata": {},
     "output_type": "display_data"
    },
    {
     "data": {
      "text/html": [
       "<span style=\"color: green\">5 rows affected.</span>"
      ],
      "text/plain": [
       "5 rows affected."
      ]
     },
     "metadata": {},
     "output_type": "display_data"
    },
    {
     "data": {
      "text/html": [
       "<table>\n",
       "    <thead>\n",
       "        <tr>\n",
       "        </tr>\n",
       "    </thead>\n",
       "    <tbody>\n",
       "    </tbody>\n",
       "</table>"
      ],
      "text/plain": [
       "++\n",
       "||\n",
       "++\n",
       "++"
      ]
     },
     "execution_count": 7,
     "metadata": {},
     "output_type": "execute_result"
    }
   ],
   "source": [
    "%%sql\n",
    "alter table {{result_schema}}.eva_scp_de_law_journals_trivial_search_result_{{version_name}}   \n",
    "add column if not exists in_goldstandard boolean; \n",
    "update {{result_schema}}.eva_scp_de_law_journals_trivial_search_result_{{version_name}}  \n",
    "set in_goldstandard = false; \n",
    "update {{result_schema}}.eva_scp_de_law_journals_trivial_search_result_{{version_name}}  \n",
    "set in_goldstandard = true \n",
    "where scopus_source_id in (SELECT unnest(scopus_source_id) FROM {{result_schema}}.jura_groels_alle_zeitschriften_{{version_name}}); "
   ]
  },
  {
   "cell_type": "markdown",
   "metadata": {},
   "source": [
    "Flag gold standard journals in WoS trivial search list: "
   ]
  },
  {
   "cell_type": "code",
   "execution_count": 9,
   "metadata": {},
   "outputs": [
    {
     "data": {
      "text/html": [
       "<span style=\"None\">Running query in &#x27;kb_prod&#x27;</span>"
      ],
      "text/plain": [
       "Running query in 'kb_prod'"
      ]
     },
     "metadata": {},
     "output_type": "display_data"
    },
    {
     "data": {
      "text/html": [
       "<span style=\"color: green\">2 rows affected.</span>"
      ],
      "text/plain": [
       "2 rows affected."
      ]
     },
     "metadata": {},
     "output_type": "display_data"
    },
    {
     "data": {
      "text/html": [
       "<table>\n",
       "    <thead>\n",
       "        <tr>\n",
       "        </tr>\n",
       "    </thead>\n",
       "    <tbody>\n",
       "    </tbody>\n",
       "</table>"
      ],
      "text/plain": [
       "++\n",
       "||\n",
       "++\n",
       "++"
      ]
     },
     "execution_count": 9,
     "metadata": {},
     "output_type": "execute_result"
    }
   ],
   "source": [
    "%%sql\n",
    "alter table {{result_schema}}.eva_wos_de_law_journals_trivial_search_result_{{version_name}}   \n",
    "add column if not exists in_goldstandard boolean; \n",
    "update {{result_schema}}.eva_wos_de_law_journals_trivial_search_result_{{version_name}}  \n",
    "set in_goldstandard = false; \n",
    "update {{result_schema}}.eva_wos_de_law_journals_trivial_search_result_{{version_name}}  \n",
    "set in_goldstandard = true \n",
    "where source_title in (SELECT unnest(wos_source_title) FROM {{result_schema}}.jura_groels_alle_zeitschriften_{{version_name}}); "
   ]
  },
  {
   "cell_type": "markdown",
   "metadata": {},
   "source": [
    "Number of journals in the gold standard also found with the trivial search: "
   ]
  },
  {
   "cell_type": "code",
   "execution_count": 21,
   "metadata": {},
   "outputs": [
    {
     "data": {
      "text/html": [
       "<span style=\"None\">Running query in &#x27;kb_prod&#x27;</span>"
      ],
      "text/plain": [
       "Running query in 'kb_prod'"
      ]
     },
     "metadata": {},
     "output_type": "display_data"
    },
    {
     "data": {
      "text/html": [
       "<span style=\"color: green\">1 rows affected.</span>"
      ],
      "text/plain": [
       "1 rows affected."
      ]
     },
     "metadata": {},
     "output_type": "display_data"
    },
    {
     "data": {
      "text/html": [
       "<table>\n",
       "    <thead>\n",
       "        <tr>\n",
       "            <th>source</th>\n",
       "            <th>in_goldstandard_groels</th>\n",
       "        </tr>\n",
       "    </thead>\n",
       "    <tbody>\n",
       "        <tr>\n",
       "            <td>OpenAlex: </td>\n",
       "            <td>32</td>\n",
       "        </tr>\n",
       "    </tbody>\n",
       "</table>"
      ],
      "text/plain": [
       "+------------+------------------------+\n",
       "|   source   | in_goldstandard_groels |\n",
       "+------------+------------------------+\n",
       "| OpenAlex:  |           32           |\n",
       "+------------+------------------------+"
      ]
     },
     "execution_count": 21,
     "metadata": {},
     "output_type": "execute_result"
    }
   ],
   "source": [
    "%%sql\n",
    "select 'OpenAlex: ' as source, count(*) as in_goldstandard_groels\n",
    "from {{result_schema}}.eva_openalex_de_law_journals_trivial_search_result_{{version_name}} \n",
    "where in_goldstandard = true;"
   ]
  },
  {
   "cell_type": "code",
   "execution_count": 12,
   "metadata": {},
   "outputs": [
    {
     "data": {
      "text/html": [
       "<span style=\"None\">Running query in &#x27;kb_prod&#x27;</span>"
      ],
      "text/plain": [
       "Running query in 'kb_prod'"
      ]
     },
     "metadata": {},
     "output_type": "display_data"
    },
    {
     "data": {
      "text/html": [
       "<span style=\"color: green\">1 rows affected.</span>"
      ],
      "text/plain": [
       "1 rows affected."
      ]
     },
     "metadata": {},
     "output_type": "display_data"
    },
    {
     "data": {
      "text/html": [
       "<table>\n",
       "    <thead>\n",
       "        <tr>\n",
       "            <th>source</th>\n",
       "            <th>in_goldstandard_groels</th>\n",
       "        </tr>\n",
       "    </thead>\n",
       "    <tbody>\n",
       "        <tr>\n",
       "            <td>Scopus: </td>\n",
       "            <td>5</td>\n",
       "        </tr>\n",
       "    </tbody>\n",
       "</table>"
      ],
      "text/plain": [
       "+----------+------------------------+\n",
       "|  source  | in_goldstandard_groels |\n",
       "+----------+------------------------+\n",
       "| Scopus:  |           5            |\n",
       "+----------+------------------------+"
      ]
     },
     "execution_count": 12,
     "metadata": {},
     "output_type": "execute_result"
    }
   ],
   "source": [
    "%%sql\n",
    "select 'Scopus: ' as source, count(*) as in_goldstandard_groels\n",
    "from {{result_schema}}.eva_scp_de_law_journals_trivial_search_result_{{version_name}} \n",
    "where in_goldstandard = true;"
   ]
  },
  {
   "cell_type": "code",
   "execution_count": 13,
   "metadata": {},
   "outputs": [
    {
     "data": {
      "text/html": [
       "<span style=\"None\">Running query in &#x27;kb_prod&#x27;</span>"
      ],
      "text/plain": [
       "Running query in 'kb_prod'"
      ]
     },
     "metadata": {},
     "output_type": "display_data"
    },
    {
     "data": {
      "text/html": [
       "<span style=\"color: green\">1 rows affected.</span>"
      ],
      "text/plain": [
       "1 rows affected."
      ]
     },
     "metadata": {},
     "output_type": "display_data"
    },
    {
     "data": {
      "text/html": [
       "<table>\n",
       "    <thead>\n",
       "        <tr>\n",
       "            <th>source</th>\n",
       "            <th>in_goldstandard_groels</th>\n",
       "        </tr>\n",
       "    </thead>\n",
       "    <tbody>\n",
       "        <tr>\n",
       "            <td>WoS: </td>\n",
       "            <td>0</td>\n",
       "        </tr>\n",
       "    </tbody>\n",
       "</table>"
      ],
      "text/plain": [
       "+--------+------------------------+\n",
       "| source | in_goldstandard_groels |\n",
       "+--------+------------------------+\n",
       "| WoS:   |           0            |\n",
       "+--------+------------------------+"
      ]
     },
     "execution_count": 13,
     "metadata": {},
     "output_type": "execute_result"
    }
   ],
   "source": [
    "%%sql\n",
    "select 'WoS: ' as source, count(*) as in_goldstandard_groels\n",
    "from {{result_schema}}.eva_wos_de_law_journals_trivial_search_result_{{version_name}} \n",
    "where in_goldstandard = true;"
   ]
  },
  {
   "cell_type": "markdown",
   "metadata": {},
   "source": [
    "For OpenAlex: try to find the 'relevant' (=in Gröls/Gröls gold standard) journals among the 323 journals found with the trivial search"
   ]
  },
  {
   "cell_type": "markdown",
   "metadata": {},
   "source": [
    "...by sorting by number of articles"
   ]
  },
  {
   "cell_type": "code",
   "execution_count": 24,
   "metadata": {},
   "outputs": [
    {
     "data": {
      "text/html": [
       "<span style=\"None\">Running query in &#x27;kb_prod&#x27;</span>"
      ],
      "text/plain": [
       "Running query in 'kb_prod'"
      ]
     },
     "metadata": {},
     "output_type": "display_data"
    },
    {
     "data": {
      "text/html": [
       "<span style=\"color: green\">32 rows affected.</span>"
      ],
      "text/plain": [
       "32 rows affected."
      ]
     },
     "metadata": {},
     "output_type": "display_data"
    },
    {
     "data": {
      "text/html": [
       "<table>\n",
       "    <thead>\n",
       "        <tr>\n",
       "            <th>source_id</th>\n",
       "            <th>display_name</th>\n",
       "            <th>rank</th>\n",
       "        </tr>\n",
       "    </thead>\n",
       "    <tbody>\n",
       "        <tr>\n",
       "            <td>S25774322</td>\n",
       "            <td>Juristische Rundschau</td>\n",
       "            <td>1</td>\n",
       "        </tr>\n",
       "        <tr>\n",
       "            <td>S4210177729</td>\n",
       "            <td>Zeitschrift der Savigny-Stiftung für Rechtsgeschichte Germanistische Abteilung</td>\n",
       "            <td>2</td>\n",
       "        </tr>\n",
       "        <tr>\n",
       "            <td>S4210169614</td>\n",
       "            <td>Monatsschrift für Deutsches Recht</td>\n",
       "            <td>3</td>\n",
       "        </tr>\n",
       "        <tr>\n",
       "            <td>S157638965</td>\n",
       "            <td>JuristenZeitung</td>\n",
       "            <td>7</td>\n",
       "        </tr>\n",
       "        <tr>\n",
       "            <td>S4210238088</td>\n",
       "            <td>Zeitschrift der Savigny-Stiftung für Rechtsgeschichte Romanistische Abteilung</td>\n",
       "            <td>8</td>\n",
       "        </tr>\n",
       "        <tr>\n",
       "            <td>S4210167899</td>\n",
       "            <td>Die Aktiengesellschaft</td>\n",
       "            <td>12</td>\n",
       "        </tr>\n",
       "        <tr>\n",
       "            <td>S4210191334</td>\n",
       "            <td>Zeitschrift für die gesamte Strafrechtswissenschaft</td>\n",
       "            <td>13</td>\n",
       "        </tr>\n",
       "        <tr>\n",
       "            <td>S4210240061</td>\n",
       "            <td>JURA - Juristische Ausbildung</td>\n",
       "            <td>18</td>\n",
       "        </tr>\n",
       "        <tr>\n",
       "            <td>S4210190048</td>\n",
       "            <td>Computer und Recht</td>\n",
       "            <td>21</td>\n",
       "        </tr>\n",
       "        <tr>\n",
       "            <td>S4210207308</td>\n",
       "            <td>KJ / Kritische Justiz</td>\n",
       "            <td>26</td>\n",
       "        </tr>\n",
       "        <tr>\n",
       "            <td>S4210199208</td>\n",
       "            <td>Zeitschrift für Unternehmens- und Gesellschaftsrecht</td>\n",
       "            <td>44</td>\n",
       "        </tr>\n",
       "        <tr>\n",
       "            <td>S4210192652</td>\n",
       "            <td>Deutsches Verwaltungsblatt</td>\n",
       "            <td>52</td>\n",
       "        </tr>\n",
       "        <tr>\n",
       "            <td>S108365452</td>\n",
       "            <td>Rabels Zeitschrift für ausländisches und internationales Privatrecht</td>\n",
       "            <td>62</td>\n",
       "        </tr>\n",
       "        <tr>\n",
       "            <td>S4210204607</td>\n",
       "            <td>Europarecht</td>\n",
       "            <td>74</td>\n",
       "        </tr>\n",
       "        <tr>\n",
       "            <td>S82779185</td>\n",
       "            <td>Archiv für die civilistische Praxis</td>\n",
       "            <td>75</td>\n",
       "        </tr>\n",
       "        <tr>\n",
       "            <td>S4306511567</td>\n",
       "            <td>GmbH-Rundschau</td>\n",
       "            <td>76</td>\n",
       "        </tr>\n",
       "        <tr>\n",
       "            <td>S78787406</td>\n",
       "            <td>Archiv des öffentlichen Rechts</td>\n",
       "            <td>81</td>\n",
       "        </tr>\n",
       "        <tr>\n",
       "            <td>S204358660</td>\n",
       "            <td>Der Staat</td>\n",
       "            <td>98</td>\n",
       "        </tr>\n",
       "        <tr>\n",
       "            <td>S4210234159</td>\n",
       "            <td>Kritische Vierteljahresschrift für Gesetzgebung und Rechtswissenschaft</td>\n",
       "            <td>116</td>\n",
       "        </tr>\n",
       "        <tr>\n",
       "            <td>S4210231065</td>\n",
       "            <td>Archiv des Völkerrechts</td>\n",
       "            <td>131</td>\n",
       "        </tr>\n",
       "    </tbody>\n",
       "</table>\n",
       "<span style=\"font-style:italic;text-align:center;\">Truncated to <a href=\"https://jupysql.ploomber.io/en/latest/api/configuration.html#displaylimit\">displaylimit</a> of 20.</span>"
      ],
      "text/plain": [
       "+-------------+--------------------------------------------------------------------------------+------+\n",
       "|  source_id  |                                  display_name                                  | rank |\n",
       "+-------------+--------------------------------------------------------------------------------+------+\n",
       "|  S25774322  |                             Juristische Rundschau                              |  1   |\n",
       "| S4210177729 | Zeitschrift der Savigny-Stiftung für Rechtsgeschichte Germanistische Abteilung |  2   |\n",
       "| S4210169614 |                       Monatsschrift für Deutsches Recht                        |  3   |\n",
       "|  S157638965 |                                JuristenZeitung                                 |  7   |\n",
       "| S4210238088 | Zeitschrift der Savigny-Stiftung für Rechtsgeschichte Romanistische Abteilung  |  8   |\n",
       "| S4210167899 |                             Die Aktiengesellschaft                             |  12  |\n",
       "| S4210191334 |              Zeitschrift für die gesamte Strafrechtswissenschaft               |  13  |\n",
       "| S4210240061 |                         JURA - Juristische Ausbildung                          |  18  |\n",
       "| S4210190048 |                               Computer und Recht                               |  21  |\n",
       "| S4210207308 |                             KJ / Kritische Justiz                              |  26  |\n",
       "| S4210199208 |              Zeitschrift für Unternehmens- und Gesellschaftsrecht              |  44  |\n",
       "| S4210192652 |                           Deutsches Verwaltungsblatt                           |  52  |\n",
       "|  S108365452 |      Rabels Zeitschrift für ausländisches und internationales Privatrecht      |  62  |\n",
       "| S4210204607 |                                  Europarecht                                   |  74  |\n",
       "|  S82779185  |                      Archiv für die civilistische Praxis                       |  75  |\n",
       "| S4306511567 |                                 GmbH-Rundschau                                 |  76  |\n",
       "|  S78787406  |                         Archiv des öffentlichen Rechts                         |  81  |\n",
       "|  S204358660 |                                   Der Staat                                    |  98  |\n",
       "| S4210234159 |     Kritische Vierteljahresschrift für Gesetzgebung und Rechtswissenschaft     | 116  |\n",
       "| S4210231065 |                            Archiv des Völkerrechts                             | 131  |\n",
       "+-------------+--------------------------------------------------------------------------------+------+\n",
       "Truncated to displaylimit of 20."
      ]
     },
     "execution_count": 24,
     "metadata": {},
     "output_type": "execute_result"
    }
   ],
   "source": [
    "%%sql\n",
    "select source_id, display_name, rank \n",
    "from (\n",
    "SELECT source_id, display_name, works_count, RANK() OVER (ORDER BY works_count DESC) as rank, in_goldstandard\n",
    "FROM  {{result_schema}}.eva_openalex_de_law_journals_trivial_search_result_{{version_name}} \n",
    "ORDER BY rank)\n",
    "where in_goldstandard is true"
   ]
  },
  {
   "cell_type": "markdown",
   "metadata": {},
   "source": [
    "...by sorting by number of citations"
   ]
  },
  {
   "cell_type": "code",
   "execution_count": 25,
   "metadata": {},
   "outputs": [
    {
     "data": {
      "text/html": [
       "<span style=\"None\">Running query in &#x27;kb_prod&#x27;</span>"
      ],
      "text/plain": [
       "Running query in 'kb_prod'"
      ]
     },
     "metadata": {},
     "output_type": "display_data"
    },
    {
     "data": {
      "text/html": [
       "<span style=\"color: green\">32 rows affected.</span>"
      ],
      "text/plain": [
       "32 rows affected."
      ]
     },
     "metadata": {},
     "output_type": "display_data"
    },
    {
     "data": {
      "text/html": [
       "<table>\n",
       "    <thead>\n",
       "        <tr>\n",
       "            <th>source_id</th>\n",
       "            <th>display_name</th>\n",
       "            <th>rank</th>\n",
       "        </tr>\n",
       "    </thead>\n",
       "    <tbody>\n",
       "        <tr>\n",
       "            <td>S25774322</td>\n",
       "            <td>Juristische Rundschau</td>\n",
       "            <td>2</td>\n",
       "        </tr>\n",
       "        <tr>\n",
       "            <td>S4210177729</td>\n",
       "            <td>Zeitschrift der Savigny-Stiftung für Rechtsgeschichte Germanistische Abteilung</td>\n",
       "            <td>3</td>\n",
       "        </tr>\n",
       "        <tr>\n",
       "            <td>S4210238088</td>\n",
       "            <td>Zeitschrift der Savigny-Stiftung für Rechtsgeschichte Romanistische Abteilung</td>\n",
       "            <td>4</td>\n",
       "        </tr>\n",
       "        <tr>\n",
       "            <td>S4210207308</td>\n",
       "            <td>KJ / Kritische Justiz</td>\n",
       "            <td>6</td>\n",
       "        </tr>\n",
       "        <tr>\n",
       "            <td>S157638965</td>\n",
       "            <td>JuristenZeitung</td>\n",
       "            <td>8</td>\n",
       "        </tr>\n",
       "        <tr>\n",
       "            <td>S4210191334</td>\n",
       "            <td>Zeitschrift für die gesamte Strafrechtswissenschaft</td>\n",
       "            <td>11</td>\n",
       "        </tr>\n",
       "        <tr>\n",
       "            <td>S108365452</td>\n",
       "            <td>Rabels Zeitschrift für ausländisches und internationales Privatrecht</td>\n",
       "            <td>15</td>\n",
       "        </tr>\n",
       "        <tr>\n",
       "            <td>S204358660</td>\n",
       "            <td>Der Staat</td>\n",
       "            <td>19</td>\n",
       "        </tr>\n",
       "        <tr>\n",
       "            <td>S4210199208</td>\n",
       "            <td>Zeitschrift für Unternehmens- und Gesellschaftsrecht</td>\n",
       "            <td>21</td>\n",
       "        </tr>\n",
       "        <tr>\n",
       "            <td>S4210204607</td>\n",
       "            <td>Europarecht</td>\n",
       "            <td>25</td>\n",
       "        </tr>\n",
       "        <tr>\n",
       "            <td>S78787406</td>\n",
       "            <td>Archiv des öffentlichen Rechts</td>\n",
       "            <td>29</td>\n",
       "        </tr>\n",
       "        <tr>\n",
       "            <td>S82779185</td>\n",
       "            <td>Archiv für die civilistische Praxis</td>\n",
       "            <td>31</td>\n",
       "        </tr>\n",
       "        <tr>\n",
       "            <td>S4210231065</td>\n",
       "            <td>Archiv des Völkerrechts</td>\n",
       "            <td>34</td>\n",
       "        </tr>\n",
       "        <tr>\n",
       "            <td>S4210190048</td>\n",
       "            <td>Computer und Recht</td>\n",
       "            <td>35</td>\n",
       "        </tr>\n",
       "        <tr>\n",
       "            <td>S4210234159</td>\n",
       "            <td>Kritische Vierteljahresschrift für Gesetzgebung und Rechtswissenschaft</td>\n",
       "            <td>47</td>\n",
       "        </tr>\n",
       "        <tr>\n",
       "            <td>S4210240061</td>\n",
       "            <td>JURA - Juristische Ausbildung</td>\n",
       "            <td>58</td>\n",
       "        </tr>\n",
       "        <tr>\n",
       "            <td>S4210192652</td>\n",
       "            <td>Deutsches Verwaltungsblatt</td>\n",
       "            <td>62</td>\n",
       "        </tr>\n",
       "        <tr>\n",
       "            <td>S4210167899</td>\n",
       "            <td>Die Aktiengesellschaft</td>\n",
       "            <td>67</td>\n",
       "        </tr>\n",
       "        <tr>\n",
       "            <td>S4210228072</td>\n",
       "            <td>Die Verwaltung</td>\n",
       "            <td>71</td>\n",
       "        </tr>\n",
       "        <tr>\n",
       "            <td>S4306520745</td>\n",
       "            <td>Neue Zeitschrift für Strafrecht</td>\n",
       "            <td>81</td>\n",
       "        </tr>\n",
       "    </tbody>\n",
       "</table>\n",
       "<span style=\"font-style:italic;text-align:center;\">Truncated to <a href=\"https://jupysql.ploomber.io/en/latest/api/configuration.html#displaylimit\">displaylimit</a> of 20.</span>"
      ],
      "text/plain": [
       "+-------------+--------------------------------------------------------------------------------+------+\n",
       "|  source_id  |                                  display_name                                  | rank |\n",
       "+-------------+--------------------------------------------------------------------------------+------+\n",
       "|  S25774322  |                             Juristische Rundschau                              |  2   |\n",
       "| S4210177729 | Zeitschrift der Savigny-Stiftung für Rechtsgeschichte Germanistische Abteilung |  3   |\n",
       "| S4210238088 | Zeitschrift der Savigny-Stiftung für Rechtsgeschichte Romanistische Abteilung  |  4   |\n",
       "| S4210207308 |                             KJ / Kritische Justiz                              |  6   |\n",
       "|  S157638965 |                                JuristenZeitung                                 |  8   |\n",
       "| S4210191334 |              Zeitschrift für die gesamte Strafrechtswissenschaft               |  11  |\n",
       "|  S108365452 |      Rabels Zeitschrift für ausländisches und internationales Privatrecht      |  15  |\n",
       "|  S204358660 |                                   Der Staat                                    |  19  |\n",
       "| S4210199208 |              Zeitschrift für Unternehmens- und Gesellschaftsrecht              |  21  |\n",
       "| S4210204607 |                                  Europarecht                                   |  25  |\n",
       "|  S78787406  |                         Archiv des öffentlichen Rechts                         |  29  |\n",
       "|  S82779185  |                      Archiv für die civilistische Praxis                       |  31  |\n",
       "| S4210231065 |                            Archiv des Völkerrechts                             |  34  |\n",
       "| S4210190048 |                               Computer und Recht                               |  35  |\n",
       "| S4210234159 |     Kritische Vierteljahresschrift für Gesetzgebung und Rechtswissenschaft     |  47  |\n",
       "| S4210240061 |                         JURA - Juristische Ausbildung                          |  58  |\n",
       "| S4210192652 |                           Deutsches Verwaltungsblatt                           |  62  |\n",
       "| S4210167899 |                             Die Aktiengesellschaft                             |  67  |\n",
       "| S4210228072 |                                 Die Verwaltung                                 |  71  |\n",
       "| S4306520745 |                        Neue Zeitschrift für Strafrecht                         |  81  |\n",
       "+-------------+--------------------------------------------------------------------------------+------+\n",
       "Truncated to displaylimit of 20."
      ]
     },
     "execution_count": 25,
     "metadata": {},
     "output_type": "execute_result"
    }
   ],
   "source": [
    "%%sql\n",
    "select source_id, display_name, rank \n",
    "from (\n",
    "SELECT source_id, display_name, cited_by_count, RANK() OVER (ORDER BY cited_by_count DESC) as rank, in_goldstandard\n",
    "FROM   {{result_schema}}.eva_openalex_de_law_journals_trivial_search_result_{{version_name}} \n",
    "ORDER BY rank)\n",
    "where in_goldstandard is true"
   ]
  },
  {
   "cell_type": "markdown",
   "metadata": {},
   "source": [
    "...by sorting by citations per paper"
   ]
  },
  {
   "cell_type": "code",
   "execution_count": 26,
   "metadata": {},
   "outputs": [
    {
     "data": {
      "text/html": [
       "<span style=\"None\">Running query in &#x27;kb_prod&#x27;</span>"
      ],
      "text/plain": [
       "Running query in 'kb_prod'"
      ]
     },
     "metadata": {},
     "output_type": "display_data"
    },
    {
     "data": {
      "text/html": [
       "<span style=\"color: green\">32 rows affected.</span>"
      ],
      "text/plain": [
       "32 rows affected."
      ]
     },
     "metadata": {},
     "output_type": "display_data"
    },
    {
     "data": {
      "text/html": [
       "<table>\n",
       "    <thead>\n",
       "        <tr>\n",
       "            <th>source_id</th>\n",
       "            <th>display_name</th>\n",
       "            <th>rank</th>\n",
       "        </tr>\n",
       "    </thead>\n",
       "    <tbody>\n",
       "        <tr>\n",
       "            <td>S204358660</td>\n",
       "            <td>Der Staat</td>\n",
       "            <td>15</td>\n",
       "        </tr>\n",
       "        <tr>\n",
       "            <td>S4210231065</td>\n",
       "            <td>Archiv des Völkerrechts</td>\n",
       "            <td>19</td>\n",
       "        </tr>\n",
       "        <tr>\n",
       "            <td>S4210207308</td>\n",
       "            <td>KJ / Kritische Justiz</td>\n",
       "            <td>22</td>\n",
       "        </tr>\n",
       "        <tr>\n",
       "            <td>S108365452</td>\n",
       "            <td>Rabels Zeitschrift für ausländisches und internationales Privatrecht</td>\n",
       "            <td>25</td>\n",
       "        </tr>\n",
       "        <tr>\n",
       "            <td>S78787406</td>\n",
       "            <td>Archiv des öffentlichen Rechts</td>\n",
       "            <td>30</td>\n",
       "        </tr>\n",
       "        <tr>\n",
       "            <td>S4210204607</td>\n",
       "            <td>Europarecht</td>\n",
       "            <td>31</td>\n",
       "        </tr>\n",
       "        <tr>\n",
       "            <td>S4210238088</td>\n",
       "            <td>Zeitschrift der Savigny-Stiftung für Rechtsgeschichte Romanistische Abteilung</td>\n",
       "            <td>34</td>\n",
       "        </tr>\n",
       "        <tr>\n",
       "            <td>S4306504202</td>\n",
       "            <td>Betriebs-Berater</td>\n",
       "            <td>36</td>\n",
       "        </tr>\n",
       "        <tr>\n",
       "            <td>S4210234159</td>\n",
       "            <td>Kritische Vierteljahresschrift für Gesetzgebung und Rechtswissenschaft</td>\n",
       "            <td>38</td>\n",
       "        </tr>\n",
       "        <tr>\n",
       "            <td>S82779185</td>\n",
       "            <td>Archiv für die civilistische Praxis</td>\n",
       "            <td>39</td>\n",
       "        </tr>\n",
       "        <tr>\n",
       "            <td>S4210199208</td>\n",
       "            <td>Zeitschrift für Unternehmens- und Gesellschaftsrecht</td>\n",
       "            <td>42</td>\n",
       "        </tr>\n",
       "        <tr>\n",
       "            <td>S4210195736</td>\n",
       "            <td>Zeitschrift für ausländisches öffentliches Recht und Völkerrecht / Heidelberg Journal of International Law</td>\n",
       "            <td>42</td>\n",
       "        </tr>\n",
       "        <tr>\n",
       "            <td>S4210228072</td>\n",
       "            <td>Die Verwaltung</td>\n",
       "            <td>48</td>\n",
       "        </tr>\n",
       "        <tr>\n",
       "            <td>S4210191334</td>\n",
       "            <td>Zeitschrift für die gesamte Strafrechtswissenschaft</td>\n",
       "            <td>56</td>\n",
       "        </tr>\n",
       "        <tr>\n",
       "            <td>S157638965</td>\n",
       "            <td>JuristenZeitung</td>\n",
       "            <td>64</td>\n",
       "        </tr>\n",
       "        <tr>\n",
       "            <td>S25774322</td>\n",
       "            <td>Juristische Rundschau</td>\n",
       "            <td>67</td>\n",
       "        </tr>\n",
       "        <tr>\n",
       "            <td>S4210177729</td>\n",
       "            <td>Zeitschrift der Savigny-Stiftung für Rechtsgeschichte Germanistische Abteilung</td>\n",
       "            <td>68</td>\n",
       "        </tr>\n",
       "        <tr>\n",
       "            <td>S4306520745</td>\n",
       "            <td>Neue Zeitschrift für Strafrecht</td>\n",
       "            <td>68</td>\n",
       "        </tr>\n",
       "        <tr>\n",
       "            <td>S4210237897</td>\n",
       "            <td>Verwaltungsarchiv</td>\n",
       "            <td>90</td>\n",
       "        </tr>\n",
       "        <tr>\n",
       "            <td>S4306535636</td>\n",
       "            <td>Zeitschrift für Rechtspolitik</td>\n",
       "            <td>93</td>\n",
       "        </tr>\n",
       "    </tbody>\n",
       "</table>\n",
       "<span style=\"font-style:italic;text-align:center;\">Truncated to <a href=\"https://jupysql.ploomber.io/en/latest/api/configuration.html#displaylimit\">displaylimit</a> of 20.</span>"
      ],
      "text/plain": [
       "+-------------+------------------------------------------------------------------------------------------------------------+------+\n",
       "|  source_id  |                                                display_name                                                | rank |\n",
       "+-------------+------------------------------------------------------------------------------------------------------------+------+\n",
       "|  S204358660 |                                                 Der Staat                                                  |  15  |\n",
       "| S4210231065 |                                          Archiv des Völkerrechts                                           |  19  |\n",
       "| S4210207308 |                                           KJ / Kritische Justiz                                            |  22  |\n",
       "|  S108365452 |                    Rabels Zeitschrift für ausländisches und internationales Privatrecht                    |  25  |\n",
       "|  S78787406  |                                       Archiv des öffentlichen Rechts                                       |  30  |\n",
       "| S4210204607 |                                                Europarecht                                                 |  31  |\n",
       "| S4210238088 |               Zeitschrift der Savigny-Stiftung für Rechtsgeschichte Romanistische Abteilung                |  34  |\n",
       "| S4306504202 |                                              Betriebs-Berater                                              |  36  |\n",
       "| S4210234159 |                   Kritische Vierteljahresschrift für Gesetzgebung und Rechtswissenschaft                   |  38  |\n",
       "|  S82779185  |                                    Archiv für die civilistische Praxis                                     |  39  |\n",
       "| S4210199208 |                            Zeitschrift für Unternehmens- und Gesellschaftsrecht                            |  42  |\n",
       "| S4210195736 | Zeitschrift für ausländisches öffentliches Recht und Völkerrecht / Heidelberg Journal of International Law |  42  |\n",
       "| S4210228072 |                                               Die Verwaltung                                               |  48  |\n",
       "| S4210191334 |                            Zeitschrift für die gesamte Strafrechtswissenschaft                             |  56  |\n",
       "|  S157638965 |                                              JuristenZeitung                                               |  64  |\n",
       "|  S25774322  |                                           Juristische Rundschau                                            |  67  |\n",
       "| S4210177729 |               Zeitschrift der Savigny-Stiftung für Rechtsgeschichte Germanistische Abteilung               |  68  |\n",
       "| S4306520745 |                                      Neue Zeitschrift für Strafrecht                                       |  68  |\n",
       "| S4210237897 |                                             Verwaltungsarchiv                                              |  90  |\n",
       "| S4306535636 |                                       Zeitschrift für Rechtspolitik                                        |  93  |\n",
       "+-------------+------------------------------------------------------------------------------------------------------------+------+\n",
       "Truncated to displaylimit of 20."
      ]
     },
     "execution_count": 26,
     "metadata": {},
     "output_type": "execute_result"
    }
   ],
   "source": [
    "%%sql\n",
    "select source_id, display_name, rank \n",
    "from (\n",
    "SELECT source_id, display_name, citations_per_paper, RANK() OVER (ORDER BY citations_per_paper DESC) as rank, in_goldstandard\n",
    "FROM   {{result_schema}}.eva_openalex_de_law_journals_trivial_search_result_{{version_name}} \n",
    "ORDER BY rank)\n",
    "where in_goldstandard is true"
   ]
  },
  {
   "cell_type": "markdown",
   "metadata": {},
   "source": [
    "## <a id=\"coverage-results\"></a> Coverage results"
   ]
  },
  {
   "cell_type": "markdown",
   "metadata": {},
   "source": [
    "### <a id=\"coverage-results-one\"> Checkout results for one version\n",
    "\n",
    "The comparison of different versions required a table {{result_schema}}.jura_groels_alle_zeitschriften_{{version_name}} for each version. \n",
    "The parameters specify the versions to compare (defined by version name)."
   ]
  },
  {
   "cell_type": "code",
   "execution_count": 140,
   "metadata": {},
   "outputs": [],
   "source": [
    "version_name = \"202408\"\n",
    "version_schema = \"project_rewi\""
   ]
  },
  {
   "cell_type": "code",
   "execution_count": 141,
   "metadata": {},
   "outputs": [],
   "source": [
    "#### Overview"
   ]
  },
  {
   "cell_type": "code",
   "execution_count": 142,
   "metadata": {},
   "outputs": [
    {
     "data": {
      "text/html": [
       "<span style=\"None\">Running query in &#x27;kb_prod&#x27;</span>"
      ],
      "text/plain": [
       "Running query in 'kb_prod'"
      ]
     },
     "metadata": {},
     "output_type": "display_data"
    },
    {
     "data": {
      "text/html": [
       "<span style=\"color: green\">4 rows affected.</span>"
      ],
      "text/plain": [
       "4 rows affected."
      ]
     },
     "metadata": {},
     "output_type": "display_data"
    },
    {
     "data": {
      "text/html": [
       "<table>\n",
       "    <thead>\n",
       "        <tr>\n",
       "            <th>version</th>\n",
       "            <th>data_source</th>\n",
       "            <th>coverage</th>\n",
       "            <th>coverage_percent</th>\n",
       "        </tr>\n",
       "    </thead>\n",
       "    <tbody>\n",
       "        <tr>\n",
       "            <td>202408</td>\n",
       "            <td>CrossRef</td>\n",
       "            <td>24</td>\n",
       "            <td>47.06</td>\n",
       "        </tr>\n",
       "        <tr>\n",
       "            <td>202408</td>\n",
       "            <td>openalex</td>\n",
       "            <td>32</td>\n",
       "            <td>62.75</td>\n",
       "        </tr>\n",
       "        <tr>\n",
       "            <td>202408</td>\n",
       "            <td>scopus</td>\n",
       "            <td>3</td>\n",
       "            <td>5.88</td>\n",
       "        </tr>\n",
       "        <tr>\n",
       "            <td>202408</td>\n",
       "            <td>wos</td>\n",
       "            <td>0</td>\n",
       "            <td>0.00</td>\n",
       "        </tr>\n",
       "    </tbody>\n",
       "</table>"
      ],
      "text/plain": [
       "+---------+-------------+----------+------------------+\n",
       "| version | data_source | coverage | coverage_percent |\n",
       "+---------+-------------+----------+------------------+\n",
       "|  202408 |   CrossRef  |    24    |      47.06       |\n",
       "|  202408 |   openalex  |    32    |      62.75       |\n",
       "|  202408 |    scopus   |    3     |       5.88       |\n",
       "|  202408 |     wos     |    0     |       0.00       |\n",
       "+---------+-------------+----------+------------------+"
      ]
     },
     "execution_count": 142,
     "metadata": {},
     "output_type": "execute_result"
    }
   ],
   "source": [
    "%%sql\n",
    "select * from (\n",
    "select '{{version_name}}' as version, 'wos' as data_source, count(*) as coverage, round(100*count(*)/(select count(*) from {{version_schema}}.jura_groels_alle_zeitschriften_{{version_name}})::decimal,2) as coverage_percent from {{version_schema}}.jura_groels_alle_zeitschriften_{{version_name}} where wos_issn is not null\n",
    "    union\n",
    "select '{{version_name}}' as version, 'scopus' as data_source, count(*) as coverage, round(100*count(*)/(select count(*) from {{version_schema}}.jura_groels_alle_zeitschriften_{{version_name}})::decimal,2) as coverage_percent from {{version_schema}}.jura_groels_alle_zeitschriften_{{version_name}} where scp_issn is not null\n",
    "    union\n",
    "select '{{version_name}}' as version, 'CrossRef' as data_source, count(*) as coverage, round(100*count(*)/(select count(*) from {{version_schema}}.jura_groels_alle_zeitschriften_{{version_name}})::decimal,2) as coverage_percent from {{version_schema}}.jura_groels_alle_zeitschriften_{{version_name}} where crossref_issn is not null\n",
    "    union\n",
    "select '{{version_name}}' as version, 'openalex' as data_source, count(*) as coverage, round(100*count(*)/(select count(*) from {{version_schema}}.jura_groels_alle_zeitschriften_{{version_name}})::decimal,2) as coverage_percent from {{version_schema}}.jura_groels_alle_zeitschriften_{{version_name}} where openalex_issn is not null\n",
    ") \n",
    "order by data_source, version"
   ]
  },
  {
   "cell_type": "markdown",
   "metadata": {},
   "source": [
    "#### Details"
   ]
  },
  {
   "cell_type": "code",
   "execution_count": 144,
   "metadata": {},
   "outputs": [
    {
     "data": {
      "text/html": [
       "<span style=\"None\">Running query in &#x27;kb_prod&#x27;</span>"
      ],
      "text/plain": [
       "Running query in 'kb_prod'"
      ]
     },
     "metadata": {},
     "output_type": "display_data"
    },
    {
     "data": {
      "text/html": [
       "<span style=\"color: green\">51 rows affected.</span>"
      ],
      "text/plain": [
       "51 rows affected."
      ]
     },
     "metadata": {},
     "output_type": "display_data"
    },
    {
     "data": {
      "text/html": [
       "<table>\n",
       "    <thead>\n",
       "        <tr>\n",
       "            <th>zeitschrift</th>\n",
       "            <th>abk</th>\n",
       "            <th>issn_list</th>\n",
       "            <th>wos_source_title</th>\n",
       "            <th>wos_issn</th>\n",
       "            <th>scopus_source_id</th>\n",
       "            <th>scp_issn</th>\n",
       "            <th>crossref_issn</th>\n",
       "            <th>openalex_source_id</th>\n",
       "            <th>openalex_issn</th>\n",
       "        </tr>\n",
       "    </thead>\n",
       "    <tbody>\n",
       "        <tr>\n",
       "            <td>Betriebs-Berater</td>\n",
       "            <td>BB</td>\n",
       "            <td>['0947-0581', '0340-7918']</td>\n",
       "            <td>None</td>\n",
       "            <td>None</td>\n",
       "            <td>None</td>\n",
       "            <td>None</td>\n",
       "            <td>None</td>\n",
       "            <td>['S4306504202']</td>\n",
       "            <td>['0340-7918']</td>\n",
       "        </tr>\n",
       "        <tr>\n",
       "            <td>Zeitschrift für Wirtschaftsrecht</td>\n",
       "            <td>ZIP</td>\n",
       "            <td>['0723-9416']</td>\n",
       "            <td>None</td>\n",
       "            <td>None</td>\n",
       "            <td>None</td>\n",
       "            <td>None</td>\n",
       "            <td>None</td>\n",
       "            <td>None</td>\n",
       "            <td>None</td>\n",
       "        </tr>\n",
       "        <tr>\n",
       "            <td>Europäische Grundrechtezeitschrift</td>\n",
       "            <td>EuGRZ</td>\n",
       "            <td>['2750-2767', '0341-9800']</td>\n",
       "            <td>None</td>\n",
       "            <td>None</td>\n",
       "            <td>None</td>\n",
       "            <td>None</td>\n",
       "            <td>None</td>\n",
       "            <td>None</td>\n",
       "            <td>None</td>\n",
       "        </tr>\n",
       "        <tr>\n",
       "            <td>Arbeit und Recht</td>\n",
       "            <td>AuR</td>\n",
       "            <td>['2942-0598', '0003-7648']</td>\n",
       "            <td>None</td>\n",
       "            <td>None</td>\n",
       "            <td>None</td>\n",
       "            <td>None</td>\n",
       "            <td>None</td>\n",
       "            <td>None</td>\n",
       "            <td>None</td>\n",
       "        </tr>\n",
       "        <tr>\n",
       "            <td>Zeitschrift für das gesamte Handels- und Wirtschaftsrecht</td>\n",
       "            <td>ZHR</td>\n",
       "            <td>['0044-2437']</td>\n",
       "            <td>None</td>\n",
       "            <td>None</td>\n",
       "            <td>None</td>\n",
       "            <td>None</td>\n",
       "            <td>None</td>\n",
       "            <td>None</td>\n",
       "            <td>None</td>\n",
       "        </tr>\n",
       "        <tr>\n",
       "            <td>Zeitschrift für das gesamte Familienrecht</td>\n",
       "            <td>FamRZ</td>\n",
       "            <td>['0044-2410']</td>\n",
       "            <td>None</td>\n",
       "            <td>None</td>\n",
       "            <td>None</td>\n",
       "            <td>None</td>\n",
       "            <td>None</td>\n",
       "            <td>None</td>\n",
       "            <td>None</td>\n",
       "        </tr>\n",
       "        <tr>\n",
       "            <td>Neue Zeitschrift für Strafrecht</td>\n",
       "            <td>NStZ</td>\n",
       "            <td>['0720-1753']</td>\n",
       "            <td>None</td>\n",
       "            <td>None</td>\n",
       "            <td>None</td>\n",
       "            <td>None</td>\n",
       "            <td>None</td>\n",
       "            <td>['S4306520745']</td>\n",
       "            <td>['0720-1753']</td>\n",
       "        </tr>\n",
       "        <tr>\n",
       "            <td>Zeitschrift für Wirtschafts- und Steuerstrafrecht</td>\n",
       "            <td>wistra</td>\n",
       "            <td>['0721-6890']</td>\n",
       "            <td>None</td>\n",
       "            <td>None</td>\n",
       "            <td>None</td>\n",
       "            <td>None</td>\n",
       "            <td>None</td>\n",
       "            <td>None</td>\n",
       "            <td>None</td>\n",
       "        </tr>\n",
       "        <tr>\n",
       "            <td>Deutsches Steuerrecht</td>\n",
       "            <td>DStR</td>\n",
       "            <td>['0012-1347', '0949-7676']</td>\n",
       "            <td>None</td>\n",
       "            <td>None</td>\n",
       "            <td>None</td>\n",
       "            <td>None</td>\n",
       "            <td>None</td>\n",
       "            <td>None</td>\n",
       "            <td>None</td>\n",
       "        </tr>\n",
       "        <tr>\n",
       "            <td>Juristische Arbeitsblätter</td>\n",
       "            <td>JA</td>\n",
       "            <td>['0022-6904']</td>\n",
       "            <td>None</td>\n",
       "            <td>None</td>\n",
       "            <td>None</td>\n",
       "            <td>None</td>\n",
       "            <td>None</td>\n",
       "            <td>None</td>\n",
       "            <td>None</td>\n",
       "        </tr>\n",
       "        <tr>\n",
       "            <td>DER BETRIEB</td>\n",
       "            <td>DB</td>\n",
       "            <td>['0005-9935']</td>\n",
       "            <td>None</td>\n",
       "            <td>None</td>\n",
       "            <td>None</td>\n",
       "            <td>None</td>\n",
       "            <td>None</td>\n",
       "            <td>None</td>\n",
       "            <td>None</td>\n",
       "        </tr>\n",
       "        <tr>\n",
       "            <td>Neue juristische Wochenschrift</td>\n",
       "            <td>NJW</td>\n",
       "            <td>['0341-1915', '0341-1907']</td>\n",
       "            <td>None</td>\n",
       "            <td>None</td>\n",
       "            <td>None</td>\n",
       "            <td>None</td>\n",
       "            <td>None</td>\n",
       "            <td>['S4393914620']</td>\n",
       "            <td>['0341-1907']</td>\n",
       "        </tr>\n",
       "        <tr>\n",
       "            <td>Juristische Schulung</td>\n",
       "            <td>JuS</td>\n",
       "            <td>['0022-6939']</td>\n",
       "            <td>None</td>\n",
       "            <td>None</td>\n",
       "            <td>None</td>\n",
       "            <td>None</td>\n",
       "            <td>None</td>\n",
       "            <td>['S4306516541']</td>\n",
       "            <td>['0022-6939']</td>\n",
       "        </tr>\n",
       "        <tr>\n",
       "            <td>GmbH-Rundschau</td>\n",
       "            <td>GmbHR</td>\n",
       "            <td>['1438-468X', '2366-1062', '0016-3570']</td>\n",
       "            <td>None</td>\n",
       "            <td>None</td>\n",
       "            <td>None</td>\n",
       "            <td>None</td>\n",
       "            <td>None</td>\n",
       "            <td>['S4306511567']</td>\n",
       "            <td>['0016-3570']</td>\n",
       "        </tr>\n",
       "        <tr>\n",
       "            <td>Europäische Zeitschrift für Wirtschaftsrecht</td>\n",
       "            <td>EuZW</td>\n",
       "            <td>['0937-7204']</td>\n",
       "            <td>None</td>\n",
       "            <td>None</td>\n",
       "            <td>None</td>\n",
       "            <td>None</td>\n",
       "            <td>None</td>\n",
       "            <td>None</td>\n",
       "            <td>None</td>\n",
       "        </tr>\n",
       "        <tr>\n",
       "            <td>Recht der Arbeit</td>\n",
       "            <td>RdA</td>\n",
       "            <td>['0342-1945', '1028-4656']</td>\n",
       "            <td>None</td>\n",
       "            <td>None</td>\n",
       "            <td>None</td>\n",
       "            <td>None</td>\n",
       "            <td>None</td>\n",
       "            <td>['S4306507572']</td>\n",
       "            <td>['1028-4656']</td>\n",
       "        </tr>\n",
       "        <tr>\n",
       "            <td>Strafverteidigerforum</td>\n",
       "            <td>StraFo</td>\n",
       "            <td>['0947-9252']</td>\n",
       "            <td>None</td>\n",
       "            <td>None</td>\n",
       "            <td>None</td>\n",
       "            <td>None</td>\n",
       "            <td>None</td>\n",
       "            <td>None</td>\n",
       "            <td>None</td>\n",
       "        </tr>\n",
       "        <tr>\n",
       "            <td>Zeitschrift für europäisches Privatrecht</td>\n",
       "            <td>ZEuP</td>\n",
       "            <td>['0943-3929']</td>\n",
       "            <td>None</td>\n",
       "            <td>None</td>\n",
       "            <td>None</td>\n",
       "            <td>None</td>\n",
       "            <td>None</td>\n",
       "            <td>None</td>\n",
       "            <td>None</td>\n",
       "        </tr>\n",
       "        <tr>\n",
       "            <td>Neue Zeitschrift für Verwaltungsrecht</td>\n",
       "            <td>NVwZ</td>\n",
       "            <td>['0721-880X']</td>\n",
       "            <td>None</td>\n",
       "            <td>None</td>\n",
       "            <td>None</td>\n",
       "            <td>None</td>\n",
       "            <td>None</td>\n",
       "            <td>None</td>\n",
       "            <td>None</td>\n",
       "        </tr>\n",
       "        <tr>\n",
       "            <td>Zeitschrift für Rechtspolitik</td>\n",
       "            <td>ZRP</td>\n",
       "            <td>['0514-6496']</td>\n",
       "            <td>None</td>\n",
       "            <td>None</td>\n",
       "            <td>None</td>\n",
       "            <td>None</td>\n",
       "            <td>None</td>\n",
       "            <td>['S4306535636']</td>\n",
       "            <td>['0514-6496']</td>\n",
       "        </tr>\n",
       "    </tbody>\n",
       "</table>\n",
       "<span style=\"font-style:italic;text-align:center;\">Truncated to <a href=\"https://jupysql.ploomber.io/en/latest/api/configuration.html#displaylimit\">displaylimit</a> of 20.</span>"
      ],
      "text/plain": [
       "+-----------------------------------------------------------+--------+-----------------------------------------+------------------+----------+------------------+----------+---------------+--------------------+---------------+\n",
       "|                        zeitschrift                        |  abk   |                issn_list                | wos_source_title | wos_issn | scopus_source_id | scp_issn | crossref_issn | openalex_source_id | openalex_issn |\n",
       "+-----------------------------------------------------------+--------+-----------------------------------------+------------------+----------+------------------+----------+---------------+--------------------+---------------+\n",
       "|                      Betriebs-Berater                     |   BB   |        ['0947-0581', '0340-7918']       |       None       |   None   |       None       |   None   |      None     |  ['S4306504202']   | ['0340-7918'] |\n",
       "|              Zeitschrift für Wirtschaftsrecht             |  ZIP   |              ['0723-9416']              |       None       |   None   |       None       |   None   |      None     |        None        |      None     |\n",
       "|             Europäische Grundrechtezeitschrift            | EuGRZ  |        ['2750-2767', '0341-9800']       |       None       |   None   |       None       |   None   |      None     |        None        |      None     |\n",
       "|                      Arbeit und Recht                     |  AuR   |        ['2942-0598', '0003-7648']       |       None       |   None   |       None       |   None   |      None     |        None        |      None     |\n",
       "| Zeitschrift für das gesamte Handels- und Wirtschaftsrecht |  ZHR   |              ['0044-2437']              |       None       |   None   |       None       |   None   |      None     |        None        |      None     |\n",
       "|         Zeitschrift für das gesamte Familienrecht         | FamRZ  |              ['0044-2410']              |       None       |   None   |       None       |   None   |      None     |        None        |      None     |\n",
       "|              Neue Zeitschrift für Strafrecht              |  NStZ  |              ['0720-1753']              |       None       |   None   |       None       |   None   |      None     |  ['S4306520745']   | ['0720-1753'] |\n",
       "|     Zeitschrift für Wirtschafts- und Steuerstrafrecht     | wistra |              ['0721-6890']              |       None       |   None   |       None       |   None   |      None     |        None        |      None     |\n",
       "|                   Deutsches Steuerrecht                   |  DStR  |        ['0012-1347', '0949-7676']       |       None       |   None   |       None       |   None   |      None     |        None        |      None     |\n",
       "|                 Juristische Arbeitsblätter                |   JA   |              ['0022-6904']              |       None       |   None   |       None       |   None   |      None     |        None        |      None     |\n",
       "|                        DER BETRIEB                        |   DB   |              ['0005-9935']              |       None       |   None   |       None       |   None   |      None     |        None        |      None     |\n",
       "|               Neue juristische Wochenschrift              |  NJW   |        ['0341-1915', '0341-1907']       |       None       |   None   |       None       |   None   |      None     |  ['S4393914620']   | ['0341-1907'] |\n",
       "|                    Juristische Schulung                   |  JuS   |              ['0022-6939']              |       None       |   None   |       None       |   None   |      None     |  ['S4306516541']   | ['0022-6939'] |\n",
       "|                       GmbH-Rundschau                      | GmbHR  | ['1438-468X', '2366-1062', '0016-3570'] |       None       |   None   |       None       |   None   |      None     |  ['S4306511567']   | ['0016-3570'] |\n",
       "|        Europäische Zeitschrift für Wirtschaftsrecht       |  EuZW  |              ['0937-7204']              |       None       |   None   |       None       |   None   |      None     |        None        |      None     |\n",
       "|                      Recht der Arbeit                     |  RdA   |        ['0342-1945', '1028-4656']       |       None       |   None   |       None       |   None   |      None     |  ['S4306507572']   | ['1028-4656'] |\n",
       "|                   Strafverteidigerforum                   | StraFo |              ['0947-9252']              |       None       |   None   |       None       |   None   |      None     |        None        |      None     |\n",
       "|          Zeitschrift für europäisches Privatrecht         |  ZEuP  |              ['0943-3929']              |       None       |   None   |       None       |   None   |      None     |        None        |      None     |\n",
       "|           Neue Zeitschrift für Verwaltungsrecht           |  NVwZ  |              ['0721-880X']              |       None       |   None   |       None       |   None   |      None     |        None        |      None     |\n",
       "|               Zeitschrift für Rechtspolitik               |  ZRP   |              ['0514-6496']              |       None       |   None   |       None       |   None   |      None     |  ['S4306535636']   | ['0514-6496'] |\n",
       "+-----------------------------------------------------------+--------+-----------------------------------------+------------------+----------+------------------+----------+---------------+--------------------+---------------+\n",
       "Truncated to displaylimit of 20."
      ]
     },
     "execution_count": 144,
     "metadata": {},
     "output_type": "execute_result"
    }
   ],
   "source": [
    "%%sql\n",
    "select * from {{version_schema}}.jura_groels_alle_zeitschriften_{{version_name}}"
   ]
  },
  {
   "cell_type": "markdown",
   "metadata": {},
   "source": [
    "### <a id=\"coverage-results-two\"> Compare different versions\n",
    "\n",
    "The comparison of different versions required a table {{result_schema}}.jura_groels_alle_zeitschriften_{{version_name}} for each version. \n",
    "The parameters specify the versions to compare (defined by version name)."
   ]
  },
  {
   "cell_type": "code",
   "execution_count": 145,
   "metadata": {},
   "outputs": [],
   "source": [
    "version_name_1 = \"202404\"\n",
    "version_schema_1 = \"project_rewi\"\n",
    "version_name_2 = \"202408\"\n",
    "version_schema_2 = \"project_rewi\""
   ]
  },
  {
   "cell_type": "code",
   "execution_count": 146,
   "metadata": {},
   "outputs": [
    {
     "data": {
      "text/html": [
       "<span style=\"None\">Running query in &#x27;kb_prod&#x27;</span>"
      ],
      "text/plain": [
       "Running query in 'kb_prod'"
      ]
     },
     "metadata": {},
     "output_type": "display_data"
    },
    {
     "data": {
      "text/html": [
       "<span style=\"color: green\">8 rows affected.</span>"
      ],
      "text/plain": [
       "8 rows affected."
      ]
     },
     "metadata": {},
     "output_type": "display_data"
    },
    {
     "data": {
      "text/html": [
       "<table>\n",
       "    <thead>\n",
       "        <tr>\n",
       "            <th>version</th>\n",
       "            <th>data_source</th>\n",
       "            <th>coverage</th>\n",
       "            <th>coverage_percent</th>\n",
       "        </tr>\n",
       "    </thead>\n",
       "    <tbody>\n",
       "        <tr>\n",
       "            <td>202404</td>\n",
       "            <td>CrossRef</td>\n",
       "            <td>24</td>\n",
       "            <td>47.06</td>\n",
       "        </tr>\n",
       "        <tr>\n",
       "            <td>202408</td>\n",
       "            <td>CrossRef</td>\n",
       "            <td>24</td>\n",
       "            <td>47.06</td>\n",
       "        </tr>\n",
       "        <tr>\n",
       "            <td>202404</td>\n",
       "            <td>openalex</td>\n",
       "            <td>32</td>\n",
       "            <td>62.75</td>\n",
       "        </tr>\n",
       "        <tr>\n",
       "            <td>202408</td>\n",
       "            <td>openalex</td>\n",
       "            <td>32</td>\n",
       "            <td>62.75</td>\n",
       "        </tr>\n",
       "        <tr>\n",
       "            <td>202404</td>\n",
       "            <td>scopus</td>\n",
       "            <td>3</td>\n",
       "            <td>5.88</td>\n",
       "        </tr>\n",
       "        <tr>\n",
       "            <td>202408</td>\n",
       "            <td>scopus</td>\n",
       "            <td>3</td>\n",
       "            <td>5.88</td>\n",
       "        </tr>\n",
       "        <tr>\n",
       "            <td>202404</td>\n",
       "            <td>wos</td>\n",
       "            <td>0</td>\n",
       "            <td>0.00</td>\n",
       "        </tr>\n",
       "        <tr>\n",
       "            <td>202408</td>\n",
       "            <td>wos</td>\n",
       "            <td>0</td>\n",
       "            <td>0.00</td>\n",
       "        </tr>\n",
       "    </tbody>\n",
       "</table>"
      ],
      "text/plain": [
       "+---------+-------------+----------+------------------+\n",
       "| version | data_source | coverage | coverage_percent |\n",
       "+---------+-------------+----------+------------------+\n",
       "|  202404 |   CrossRef  |    24    |      47.06       |\n",
       "|  202408 |   CrossRef  |    24    |      47.06       |\n",
       "|  202404 |   openalex  |    32    |      62.75       |\n",
       "|  202408 |   openalex  |    32    |      62.75       |\n",
       "|  202404 |    scopus   |    3     |       5.88       |\n",
       "|  202408 |    scopus   |    3     |       5.88       |\n",
       "|  202404 |     wos     |    0     |       0.00       |\n",
       "|  202408 |     wos     |    0     |       0.00       |\n",
       "+---------+-------------+----------+------------------+"
      ]
     },
     "execution_count": 146,
     "metadata": {},
     "output_type": "execute_result"
    }
   ],
   "source": [
    "%%sql\n",
    "select * from (\n",
    "select '{{version_name_1}}' as version, 'wos' as data_source, count(*) as coverage, round(100*count(*)/(select count(*) from {{version_schema_1}}.jura_groels_alle_zeitschriften_{{version_name_1}})::decimal,2) as coverage_percent from {{version_schema_1}}.jura_groels_alle_zeitschriften_{{version_name_1}} where wos_issn is not null\n",
    "union\n",
    "select '{{version_name_2}}' as version, 'wos' as data_source, count(*) as coverage, round(100*count(*)/(select count(*) from {{version_schema_2}}.jura_groels_alle_zeitschriften_{{version_name_2}})::decimal,2) as coverage_percent from {{version_schema_2}}.jura_groels_alle_zeitschriften_{{version_name_2}} where wos_issn is not null\n",
    "\n",
    "    union\n",
    "select '{{version_name_1}}' as version, 'scopus' as data_source, count(*) as coverage, round(100*count(*)/(select count(*) from {{version_schema_1}}.jura_groels_alle_zeitschriften_{{version_name_1}})::decimal,2) as coverage_percent from {{version_schema_1}}.jura_groels_alle_zeitschriften_{{version_name_1}} where scp_issn is not null\n",
    "union\n",
    "select '{{version_name_2}}' as version, 'scopus' as data_source, count(*) as coverage, round(100*count(*)/(select count(*) from {{version_schema_2}}.jura_groels_alle_zeitschriften_{{version_name_2}})::decimal,2) as coverage_percent from {{version_schema_2}}.jura_groels_alle_zeitschriften_{{version_name_2}} where scp_issn is not null\n",
    "\n",
    "    union\n",
    "select '{{version_name_1}}' as version, 'CrossRef' as data_source, count(*) as coverage, round(100*count(*)/(select count(*) from {{version_schema_1}}.jura_groels_alle_zeitschriften_{{version_name_1}})::decimal,2) as coverage_percent from {{version_schema_1}}.jura_groels_alle_zeitschriften_{{version_name_1}} where crossref_issn is not null\n",
    "union\n",
    "select '{{version_name_2}}' as version, 'CrossRef' as data_source, count(*) as coverage, round(100*count(*)/(select count(*) from {{version_schema_2}}.jura_groels_alle_zeitschriften_{{version_name_2}})::decimal,2) as coverage_percent from {{version_schema_2}}.jura_groels_alle_zeitschriften_{{version_name_2}} where crossref_issn is not null\n",
    "\n",
    "    union\n",
    "select '{{version_name_1}}' as version, 'openalex' as data_source, count(*) as coverage, round(100*count(*)/(select count(*) from {{version_schema_1}}.jura_groels_alle_zeitschriften_{{version_name_1}})::decimal,2) as coverage_percent from {{version_schema_1}}.jura_groels_alle_zeitschriften_{{version_name_1}} where openalex_issn is not null\n",
    "union\n",
    "select '{{version_name_2}}' as version, 'openalex' as data_source, count(*) as coverage, round(100*count(*)/(select count(*) from {{version_schema_2}}.jura_groels_alle_zeitschriften_{{version_name_2}})::decimal,2) as coverage_percent from {{version_schema_2}}.jura_groels_alle_zeitschriften_{{version_name_2}} where openalex_issn is not null\n",
    "    ) \n",
    "order by data_source, version"
   ]
  }
 ],
 "metadata": {
  "kernelspec": {
   "display_name": "Python 3 (ipykernel)",
   "language": "python",
   "name": "python3"
  },
  "language_info": {
   "codemirror_mode": {
    "name": "ipython",
    "version": 3
   },
   "file_extension": ".py",
   "mimetype": "text/x-python",
   "name": "python",
   "nbconvert_exporter": "python",
   "pygments_lexer": "ipython3",
   "version": "3.11.6"
  }
 },
 "nbformat": 4,
 "nbformat_minor": 4
}
