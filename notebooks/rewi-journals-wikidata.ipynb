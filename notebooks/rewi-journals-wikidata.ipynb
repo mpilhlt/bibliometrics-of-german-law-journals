{
 "cells": [
  {
   "cell_type": "markdown",
   "metadata": {},
   "source": [
    "# Check German law journal coverage in WikiData"
   ]
  },
  {
   "cell_type": "code",
   "execution_count": 1,
   "metadata": {},
   "outputs": [
    {
     "name": "stdout",
     "output_type": "stream",
     "text": [
      "ISSN coverage of journals in gold standard in WikiData on 2024-12-11: 59.62%\n"
     ]
    }
   ],
   "source": [
    "%load_ext autoreload\n",
    "%autoreload 2\n",
    "from lib.wikidata import check_wikidata_issn_coverage\n",
    "import pandas as pd\n",
    "from datetime import datetime\n",
    "\n",
    "df_gold_journals = pd.read_csv('data/kb_data/jura_groels_alle_zeitschriften.csv')\n",
    "df_gold_journals.rename(columns={'zeitschrift': 'journal'}, inplace=True)\n",
    "percentage_gold = check_wikidata_issn_coverage(df_gold_journals, lookup_missing=False)\n",
    "current_date = datetime.now().strftime('%Y-%m-%d')\n",
    "print(f'ISSN coverage of journals in gold standard in WikiData on {current_date}: {percentage_gold}%')\n"
   ]
  },
  {
   "cell_type": "markdown",
   "metadata": {},
   "source": [
    "There is a [WikiData entitiy for the category 'German law journal' (Q8979123)](https://www.wikidata.org/wiki/Q8979123) but as of 2024/12/11, there are no linked entities. "
   ]
  }
 ],
 "metadata": {
  "kernelspec": {
   "display_name": "kb-bibliometry",
   "language": "python",
   "name": "python3"
  },
  "language_info": {
   "codemirror_mode": {
    "name": "ipython",
    "version": 3
   },
   "file_extension": ".py",
   "mimetype": "text/x-python",
   "name": "python",
   "nbconvert_exporter": "python",
   "pygments_lexer": "ipython3",
   "version": "3.11.6"
  }
 },
 "nbformat": 4,
 "nbformat_minor": 2
}
